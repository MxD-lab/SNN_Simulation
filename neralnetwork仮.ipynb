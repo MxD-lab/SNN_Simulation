{
  "nbformat": 4,
  "nbformat_minor": 0,
  "metadata": {
    "colab": {
      "name": "neralnetwork仮.ipynb",
      "provenance": [],
      "collapsed_sections": [],
      "include_colab_link": true
    },
    "kernelspec": {
      "name": "python3",
      "display_name": "Python 3"
    },
    "language_info": {
      "name": "python"
    }
  },
  "cells": [
    {
      "cell_type": "markdown",
      "metadata": {
        "id": "view-in-github",
        "colab_type": "text"
      },
      "source": [
        "<a href=\"https://colab.research.google.com/github/MxD-lab/SNN_Simulation/blob/neralnetwork/neralnetwork%E4%BB%AE.ipynb\" target=\"_parent\"><img src=\"https://colab.research.google.com/assets/colab-badge.svg\" alt=\"Open In Colab\"/></a>"
      ]
    },
    {
      "cell_type": "markdown",
      "metadata": {
        "id": "mDoqQNyWTZA4"
      },
      "source": [
        ""
      ]
    },
    {
      "cell_type": "code",
      "metadata": {
        "id": "cmHemqNMVycT"
      },
      "source": [
        "# -*- coding: utf-8 -*-\n",
        "import os\n",
        "import pandas as pd\n",
        "import matplotlib\n",
        "import matplotlib.pyplot as plt\n",
        "import numpy as np\n",
        "import math\n",
        "import numpy \n",
        "\n"
      ],
      "execution_count": null,
      "outputs": []
    },
    {
      "cell_type": "code",
      "metadata": {
        "id": "rVfiDGT0TSiz"
      },
      "source": [
        "#シグモイド関数（出力層）\n",
        "def sigmoid(x):\n",
        "  return 1/(1+np.exp(-x))\n",
        "\n",
        "#ReLU関数（隠れ層）\n",
        "def relu(x):\n",
        "  return np.maximum(0,x)"
      ],
      "execution_count": null,
      "outputs": []
    },
    {
      "cell_type": "code",
      "metadata": {
        "id": "EtffoYMfTPc1"
      },
      "source": [
        "#交差エントロピー誤差\n",
        "\n",
        "def cross_entropy_error(y,t):\n",
        "  if y.ndim == 1:\n",
        "    t = t.reshape(1,t.size)\n",
        "    y = y.reshape(1,y.size)\n",
        "  \n",
        "  batch_size = y.shape[0]\n",
        "  return -np.sum(t*np.log(y))/batch_size\n",
        "\n",
        "\n",
        "  \n",
        "  "
      ],
      "execution_count": null,
      "outputs": []
    },
    {
      "cell_type": "code",
      "metadata": {
        "id": "l2vL9vh16z4r"
      },
      "source": [
        ""
      ],
      "execution_count": null,
      "outputs": []
    },
    {
      "cell_type": "code",
      "metadata": {
        "id": "vM8pe9UDRs3V"
      },
      "source": [
        "\"\"\"\n",
        "重み、バイアス、初期設定\n",
        "W1：隠れ層の重み\n",
        "B1:隠れ層のバイアス\n",
        "W2:出力層の重み\n",
        "B2:隠れ層のバイアス\n",
        "\"\"\"\n",
        "W1 = np.array([[0.707760268819045,-0.83735145624508],[-1.21179516971129,-0.426362970984348]])\n",
        "B1 = np.array([-0.311592487617895,0.46169885478039])\n",
        "W2 = np.array([[0.539158501953791],[-0.41755354864446]])\n",
        "B2 = np.array([0.141883319414468])\n",
        "#print(W1)"
      ],
      "execution_count": null,
      "outputs": []
    },
    {
      "cell_type": "code",
      "metadata": {
        "id": "7IObJ4TdZvMz"
      },
      "source": [
        "#活性化関数の微分(relu)u:隠れ層の活性\n",
        "def relu_diff(u):\n",
        "  d = np.zeros_like(u) #xと同じ形状の配列を作成\n",
        "  for i in range(len(u)):\n",
        "    for j in range(len(u[0])):\n",
        "      if u[i][j]>0:\n",
        "        d[i] = 1\n",
        "      else: \n",
        "        d[i][j] = 0\n",
        "\n",
        "  return d"
      ],
      "execution_count": null,
      "outputs": []
    },
    {
      "cell_type": "code",
      "metadata": {
        "id": "YYNn0omkegSu"
      },
      "source": [
        "#隠れ層の誤差\n",
        "\"\"\"\n",
        "delta:一個前の誤差（出力層の誤差）\n",
        "w:一個前の重み（出力層の重み）\n",
        "activ:活性化関数の微分\n",
        "\"\"\"\n",
        "def hidden_delta(delta,w,activ):\n",
        "  d = np.zeros((4,2)) #データ数×隠れ層のニューロン数の配列を作成\n",
        "  #d = np.zeros((int(delta),int(w[0])))\n",
        "  for i in range(len(delta)):\n",
        "    for j in range(len(w[0])):\n",
        "      d[i][j] = delta[i]*w[j]*activ[i][j]\n",
        "  return np.array(d)\n",
        "  "
      ],
      "execution_count": null,
      "outputs": []
    },
    {
      "cell_type": "code",
      "metadata": {
        "id": "TyTzwOuZ8DZv"
      },
      "source": [
        ""
      ],
      "execution_count": null,
      "outputs": []
    },
    {
      "cell_type": "code",
      "metadata": {
        "colab": {
          "base_uri": "https://localhost:8080/",
          "height": 252
        },
        "id": "sZSLLE7KUrlt",
        "outputId": "324872ea-edbb-432b-a747-a6516cbcf4cd"
      },
      "source": [
        "\"\"\"\n",
        "i = 0\n",
        "y = np.zeros(4)\n",
        "\n",
        "N = 4#データ数(ミニバッチ)\n",
        "learning_rate = 0.2#学習率\n",
        "for i in range(2):\n",
        "  \n",
        "  x = np.array([[0,0],[0,1],[1,0],[1,1]])#入力\n",
        "  target =  np.array([[0],[1],[1],[0]]) #教師\n",
        "  \n",
        "\n",
        "  A1 = np.dot(x,W1)+B1\n",
        "  Z1 = relu(A1)#一層目活性化関数かける\n",
        "  A2 = np.dot(Z1,W2) + B2\n",
        "  Z2 = sigmoid(A2)\n",
        "  #print(\"Z1\")\n",
        "  #print(Z1)\n",
        "  y[i] = cross_entropy_error(Z2,target)#出力層の損失関数\n",
        "  \n",
        "  #print(y)\n",
        "\n",
        "  ###出力層の逆伝搬\n",
        "  ##重み\n",
        "  delta = Z2 - target#誤差\n",
        "  print(Z2)\n",
        "  print(\"delta\")\n",
        "  print(delta)\n",
        "  Z1_t = np.transpose(Z1)\n",
        "  print(Z1_t)\n",
        "  sum_delta = np.dot(Z1_t,delta)\n",
        "  print(\"sum_delta\")\n",
        "  print(sum_delta)\n",
        "  \n",
        "  print(\"delta_out\")\n",
        "  #delta_out　なんか違う\n",
        "  delta_out =(1/N)*sum_delta\n",
        "  print(\"delta_out\")\n",
        "  print(delta_out)\n",
        "  \n",
        "  print(\"W2\")\n",
        "  print(W2)\n",
        " \n",
        "  W2 = W2 - learning_rate*delta_out\n",
        "  print(\"W2\")\n",
        "  print(W2)\n",
        "\n",
        "\n",
        "  ##バイアス\n",
        "  a = np.array([1,1,1,1])\n",
        "  sum_delta_bias = np.dot(a,delta)\n",
        "  delta_out_bias = 1/N*sum_delta_bias\n",
        "  #print(delta_out_bias)\n",
        "  #print(B2)\n",
        "  B2 = B2 - learning_rate*delta_out_bias\n",
        "  #print(\"B2\")\n",
        "  #print(B2)\n",
        "\n",
        "  ###隠れ層の逆伝搬\n",
        "  ##重み\n",
        "  differential_y = relu_diff(Z1)#活性化関数の微分\n",
        "  #print(differential_y)\n",
        "  hid_delta = hidden_delta(delta,W2,differential_y)\n",
        "  #print(hid_delta)\n",
        "  x_t = np.transpose(x)\n",
        "  delta_hidden = 1/N*np.dot(x_t,hid_delta)\n",
        "  W1 = W1 - learning_rate*delta_hidden\n",
        "  #print(\"W1\")\n",
        "  #print(W1)\n",
        "\n",
        "  ##バイアス\n",
        "  a2 = np.array([1,1,1,1])\n",
        "  delta_hidden_bias = 1/N*np.dot(a2,hid_delta)\n",
        "  #print(B1)\n",
        "  B1 = B1 - learning_rate*delta_hidden_bias\n",
        "  #print(\"B1\")\n",
        "  #print(B1)\n",
        "\n",
        "\"\"\"\n"
      ],
      "execution_count": null,
      "outputs": [
        {
          "output_type": "execute_result",
          "data": {
            "application/vnd.google.colaboratory.intrinsic+json": {
              "type": "string"
            },
            "text/plain": [
              "'\\ni = 0\\ny = np.zeros(4)\\n\\nN = 4#データ数(ミニバッチ)\\nlearning_rate = 0.2#学習率\\nfor i in range(2):\\n  \\n  x = np.array([[0,0],[0,1],[1,0],[1,1]])#入力\\n  target =  np.array([[0],[1],[1],[0]]) #教師\\n  \\n\\n  A1 = np.dot(x,W1)+B1\\n  Z1 = relu(A1)#一層目活性化関数かける\\n  A2 = np.dot(Z1,W2) + B2\\n  Z2 = sigmoid(A2)\\n  #print(\"Z1\")\\n  #print(Z1)\\n  y[i] = cross_entropy_error(Z2,target)#出力層の損失関数\\n  \\n  #print(y)\\n\\n  ###出力層の逆伝搬\\n  ##重み\\n  delta = Z2 - target#誤差\\n  print(Z2)\\n  print(\"delta\")\\n  print(delta)\\n  Z1_t = np.transpose(Z1)\\n  print(Z1_t)\\n  sum_delta = np.dot(Z1_t,delta)\\n  print(\"sum_delta\")\\n  print(sum_delta)\\n  \\n  print(\"delta_out\")\\n  #delta_out\\u3000なんか違う\\n  delta_out =(1/N)*sum_delta\\n  print(\"delta_out\")\\n  print(delta_out)\\n  \\n  print(\"W2\")\\n  print(W2)\\n \\n  W2 = W2 - learning_rate*delta_out\\n  print(\"W2\")\\n  print(W2)\\n\\n\\n  ##バイアス\\n  a = np.array([1,1,1,1])\\n  sum_delta_bias = np.dot(a,delta)\\n  delta_out_bias = 1/N*sum_delta_bias\\n  #print(delta_out_bias)\\n  #print(B2)\\n  B2 = B2 - learning_rate*delta_out_bias\\n  #print(\"B2\")\\n  #print(B2)\\n\\n  ###隠れ層の逆伝搬\\n  ##重み\\n  differential_y = relu_diff(Z1)#活性化関数の微分\\n  #print(differential_y)\\n  hid_delta = hidden_delta(delta,W2,differential_y)\\n  #print(hid_delta)\\n  x_t = np.transpose(x)\\n  delta_hidden = 1/N*np.dot(x_t,hid_delta)\\n  W1 = W1 - learning_rate*delta_hidden\\n  #print(\"W1\")\\n  #print(W1)\\n\\n  ##バイアス\\n  a2 = np.array([1,1,1,1])\\n  delta_hidden_bias = 1/N*np.dot(a2,hid_delta)\\n  #print(B1)\\n  B1 = B1 - learning_rate*delta_hidden_bias\\n  #print(\"B1\")\\n  #print(B1)\\n\\n'"
            ]
          },
          "metadata": {},
          "execution_count": 36
        }
      ]
    },
    {
      "cell_type": "code",
      "metadata": {
        "colab": {
          "base_uri": "https://localhost:8080/"
        },
        "id": "2cjqu25q91LA",
        "outputId": "f0ef3b58-246a-4d83-e727-1477fbcd6d47"
      },
      "source": [
        "\n",
        "i = 0\n",
        "y = np.zeros(4)\n",
        "\n",
        "N = 4#データ数(ミニバッチ)\n",
        "learning_rate = 0.2#学習率\n",
        "pram_b1 = 0.9\n",
        "pram_b2 = 0.999\n",
        "epsiron = 0.00000001\n",
        "alfa = 0.0001\n",
        "m = 0\n",
        "v = 0\n",
        "for i in range(2):\n",
        "  \n",
        "  x = np.array([[0,0],[0,1],[1,0],[1,1]])#入力\n",
        "  target =  np.array([[0],[1],[1],[0]]) #教師\n",
        "  \n",
        "\n",
        "  A1 = np.dot(x,W1)+B1\n",
        "  Z1 = relu(A1)#一層目活性化関数かける\n",
        "  A2 = np.dot(Z1,W2) + B2\n",
        "  Z2 = sigmoid(A2)\n",
        "  #print(\"Z1\")\n",
        "  #print(Z1)\n",
        "  y[i] = cross_entropy_error(Z2,target)#出力層の損失関数\n",
        "  \n",
        "  #print(y)\n",
        "\n",
        "  ###出力層の逆伝搬\n",
        "  ##重み\n",
        "  delta = Z2 - target#誤差\n",
        "  #print(Z2)\n",
        "  #print(\"delta\")\n",
        "  #print(delta)\n",
        "  Z1_t = np.transpose(Z1)\n",
        "  #print(Z1_t)\n",
        "  sum_delta = np.dot(Z1_t,delta)\n",
        "  #print(\"sum_delta\")\n",
        "  #print(sum_delta)\n",
        "  \n",
        "  #print(\"delta_out\")\n",
        "  #delta_out　なんか違う\n",
        "  delta_out =(1/N)*sum_delta\n",
        "  #print(\"delta_out\")\n",
        "  #print(delta_out)\n",
        "  \n",
        "  print(\"W2\")\n",
        "  print(W2)\n",
        " \n",
        "  m = pram_b1*m + (1-pram_b2)*(delta_out + alfa*W2)\n",
        "  v = pram_b2*v + (1-pram_b2)*(delta_out + alfa*W2)**2\n",
        "  m = m/(1-pram_b1**(i+1))\n",
        "  v = v/(1-pram_b2**(i+1))\n",
        "  W2 = W2 - learning_rate*m/(np.sqrt(v)+epsiron)\n",
        "  print(\"W2\")\n",
        "  print(W2)\n",
        "\n",
        "\n",
        "  ##バイアス\n",
        "  a = np.array([1,1,1,1])\n",
        "  sum_delta_bias = np.dot(a,delta)\n",
        "  delta_out_bias = 1/N*sum_delta_bias\n",
        "  #print(delta_out_bias)\n",
        "  #print(B2)\n",
        "  B2 = B2 - learning_rate*delta_out_bias\n",
        "  #print(\"B2\")\n",
        "  #print(B2)\n",
        "\n",
        "  ###隠れ層の逆伝搬\n",
        "  ##重み\n",
        "  differential_y = relu_diff(Z1)#活性化関数の微分\n",
        "  #print(differential_y)\n",
        "  hid_delta = hidden_delta(delta,W2,differential_y)\n",
        "  #print(hid_delta)\n",
        "  x_t = np.transpose(x)\n",
        "  delta_hidden = 1/N*np.dot(x_t,hid_delta)\n",
        "  W1 = W1 - learning_rate*delta_hidden\n",
        "  #print(\"W1\")\n",
        "  #print(W1)\n",
        "\n",
        "  ##バイアス\n",
        "  a2 = np.array([1,1,1,1])\n",
        "  delta_hidden_bias = 1/N*np.dot(a2,hid_delta)\n",
        "  #print(B1)\n",
        "  B1 = B1 - learning_rate*delta_hidden_bias\n",
        "  #print(\"B1\")\n",
        "  #print(B1)\n",
        "\n"
      ],
      "execution_count": null,
      "outputs": [
        {
          "output_type": "stream",
          "name": "stdout",
          "text": [
            "W2\n",
            "[[ 0.54363154]\n",
            " [-0.42202396]]\n",
            "W2\n",
            "[[ 0.54563154]\n",
            " [-0.42402396]]\n",
            "W2\n",
            "[[ 0.54563154]\n",
            " [-0.42402396]]\n",
            "W2\n",
            "[[ 0.54610421]\n",
            " [-0.42449438]]\n"
          ]
        }
      ]
    },
    {
      "cell_type": "code",
      "metadata": {
        "colab": {
          "base_uri": "https://localhost:8080/",
          "height": 281
        },
        "id": "4TalPJTI39Oy",
        "outputId": "194833a7-7cd7-4bd9-a1cd-9fdfb5ee0918"
      },
      "source": [
        "p = np.arange(4)\n",
        "plt.scatter(p, y, c='b', label='loss_data')\n",
        "#plt.legend()\n",
        "plt.title('loss')\n",
        "plt.show()"
      ],
      "execution_count": null,
      "outputs": [
        {
          "output_type": "display_data",
          "data": {
            "image/png": "[encoded data removed]",
            "text/plain": [
              "<Figure size 432x288 with 1 Axes>"
            ]
          },
          "metadata": {
            "needs_background": "light"
          }
        }
      ]
    },
    {
      "cell_type": "code",
      "metadata": {
        "id": "3BZlWMYObD1C",
        "colab": {
          "base_uri": "https://localhost:8080/"
        },
        "outputId": "892d2576-afaf-4022-ea8d-435f87084ed2"
      },
      "source": [
        "A1 = np.dot(x,W1) +B1\n",
        "Z1 = relu(A1)#一層目活性化関数かける\n",
        "\n",
        "\n",
        "A2 = np.dot(Z1,W2)+B2\n",
        "Z22 = sigmoid(A2)\n",
        "\n",
        "delta = Z2 - target#誤差\n",
        "#print(delta)\n",
        "print(Z22)\n",
        "print(Z2)"
      ],
      "execution_count": null,
      "outputs": [
        {
          "output_type": "stream",
          "name": "stdout",
          "text": [
            "[[0.48348943]\n",
            " [0.52822406]\n",
            " [0.59050669]\n",
            " [0.5319211 ]]\n",
            "[[0.48526857]\n",
            " [0.52994893]\n",
            " [0.58926864]\n",
            " [0.53364025]]\n"
          ]
        }
      ]
    },
    {
      "cell_type": "code",
      "metadata": {
        "id": "iUgxJbD0o_zy"
      },
      "source": [
        ""
      ],
      "execution_count": null,
      "outputs": []
    },
    {
      "cell_type": "code",
      "metadata": {
        "id": "HxGiQAg-o_ob"
      },
      "source": [
        ""
      ],
      "execution_count": null,
      "outputs": []
    },
    {
      "cell_type": "code",
      "metadata": {
        "id": "4poqP4Loo_bw"
      },
      "source": [
        ""
      ],
      "execution_count": null,
      "outputs": []
    },
    {
      "cell_type": "code",
      "metadata": {
        "id": "Ui7jl1ERpD2h"
      },
      "source": [
        ""
      ],
      "execution_count": null,
      "outputs": []
    },
    {
      "cell_type": "code",
      "metadata": {
        "id": "BrPIQcknpGdf"
      },
      "source": [
        ""
      ],
      "execution_count": null,
      "outputs": []
    }
  ]
}