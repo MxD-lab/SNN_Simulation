{
  "nbformat": 4,
  "nbformat_minor": 0,
  "metadata": {
    "colab": {
      "name": "AND.ipynb ",
      "provenance": [],
      "collapsed_sections": [],
      "authorship_tag": "ABX9TyPqkDy/7U/gBjrIbjwst2IN",
      "include_colab_link": true
    },
    "kernelspec": {
      "name": "python3",
      "display_name": "Python 3"
    },
    "language_info": {
      "name": "python"
    }
  },
  "cells": [
    {
      "cell_type": "markdown",
      "metadata": {
        "id": "view-in-github",
        "colab_type": "text"
      },
      "source": [
        "<a href=\"https://colab.research.google.com/github/MxD-lab/SNN_Simulation/blob/AND/AND.ipynb\" target=\"_parent\"><img src=\"https://colab.research.google.com/assets/colab-badge.svg\" alt=\"Open In Colab\"/></a>"
      ]
    },
    {
      "cell_type": "markdown",
      "metadata": {
        "id": "Uv4k8UYHZHDc"
      },
      "source": [
        "ニューロン単体の試験"
      ]
    },
    {
      "cell_type": "code",
      "metadata": {
        "id": "7PvZYWn_HJU_"
      },
      "source": [
        "# -*- coding: utf-8 -*-\n",
        "import os\n",
        "import pandas as pd\n",
        "import matplotlib\n",
        "import matplotlib.pyplot as plt\n",
        "import numpy as np\n",
        "import math\n",
        "\n"
      ],
      "execution_count": 19,
      "outputs": []
    },
    {
      "cell_type": "markdown",
      "metadata": {
        "id": "hUBctoMQaLzv"
      },
      "source": [
        "シミュレーション時間の定義"
      ]
    },
    {
      "cell_type": "code",
      "metadata": {
        "id": "-PyOhJMuaJrW"
      },
      "source": [
        "#時間（m秒）\n",
        "msec = 10000\n",
        "#サンプリングした時の時間軸\n",
        "t = np.arange(0.0, msec)\n"
      ],
      "execution_count": 20,
      "outputs": []
    },
    {
      "cell_type": "markdown",
      "metadata": {
        "id": "hOse3klfZUWv"
      },
      "source": [
        "入力の密度関数を作成"
      ]
    },
    {
      "cell_type": "code",
      "metadata": {
        "id": "UHz9lw9nZVtt"
      },
      "source": [
        "\n",
        "\n",
        "#矩形波  x-yの間１\n",
        "def square_wave(a,b,t):\n",
        "\"\"\"\n",
        "シミュレーション時間の矩形波を作る\n",
        "\n",
        "　a:はじめ\n",
        "  b：終わり\n",
        "  t：シミュレーション時間\n",
        "\n",
        " 返り値　a-bの間１ \n",
        "\"\"\"\n",
        "    squarewav=np.array([0.0 for i in range(len(t))])\n",
        "    for i in range(len(t)):\n",
        "        if a<i<b:\n",
        "            squarewav[i]=1\n",
        "        elif a<i<b:\n",
        "            squarewav[i]=1\n",
        "        else:\n",
        "            squarewav[i]=0\n",
        "        \n",
        "        \n",
        "    \n",
        "    return squarewav\n"
      ],
      "execution_count": 26,
      "outputs": []
    },
    {
      "cell_type": "markdown",
      "metadata": {
        "id": "U8gG4CU0ZYnY"
      },
      "source": [
        "ReLU関数ReLU関数\n",
        "-横シフト（ハードウェアで実装したときに負の数は扱えないから、正の数だけで扱いたい）\n",
        "-傾き：入力値を倍とか半分とかにできる。\n",
        "-\n",
        "\n",
        "\n",
        "\n",
        "\n",
        "\n"
      ]
    },
    {
      "cell_type": "code",
      "metadata": {
        "id": "tv2LBZVwppO0"
      },
      "source": [
        "\n",
        "\n",
        "\n",
        "def relu(x,n,a):\n",
        "\"\"\"\n",
        "ReLU関数\n",
        "  x:入力,\n",
        "  n:x切片,\n",
        "  a:傾き\n",
        "  \n",
        "\"\"\"\n",
        "  y = a*(x-n)\n",
        "  out = np.maximum(y,0)\n",
        "  \n",
        "  return out"
      ],
      "execution_count": 22,
      "outputs": []
    },
    {
      "cell_type": "markdown",
      "metadata": {
        "id": "ncUkHjAgO2y4"
      },
      "source": [
        "AND定義\n"
      ]
    },
    {
      "cell_type": "code",
      "metadata": {
        "id": "RBkNwZIyO0ql",
        "colab": {
          "base_uri": "https://localhost:8080/",
          "height": 36
        },
        "outputId": "3453db41-39fb-4a05-ba1c-c4df3c01ec2a"
      },
      "source": [
        "\n",
        "\n",
        "def AND(x1,x2):\n",
        "  \"\"\"\n",
        "  AND実装\n",
        "    x1:入力\n",
        "    x2:入力\n",
        "\n",
        "  返り値　1フレーム毎のAND\n",
        "  \"\"\"\n",
        "  for i in range(10000):\n",
        "    a=np.zeros(10000)\n",
        "    b=np.zeros(10000)  \n",
        "      \n",
        "    w3_1= 0.5\n",
        "    w3_2= 0.5\n",
        "    b3 = -0.7\n",
        "\n",
        "    a[i] = x1[i]*w3_1+b3\n",
        "\n",
        "    b[i] = x2[i]*w3_2+b3\n",
        "\n",
        "\n",
        "    tmp =  a[i]+ b[i]\n",
        "\n",
        "    if tmp <=0:\n",
        "      return 0\n",
        "    else:\n",
        "      return 1\n",
        "\n",
        "    \n",
        "\"\"\"\n",
        "      if tmp <=1:\n",
        "        return 0\n",
        "      else:\n",
        "        return 1\n",
        "\n",
        "\"\"\""
      ],
      "execution_count": 60,
      "outputs": [
        {
          "output_type": "execute_result",
          "data": {
            "application/vnd.google.colaboratory.intrinsic+json": {
              "type": "string"
            },
            "text/plain": [
              "'\\n      if tmp <=1:\\n        return 0\\n      else:\\n        return 1\\n\\n'"
            ]
          },
          "metadata": {
            "tags": []
          },
          "execution_count": 60
        }
      ]
    },
    {
      "cell_type": "markdown",
      "metadata": {
        "id": "8zBL7eXuaRoq"
      },
      "source": [
        "パーセプトロン2個\n",
        "1層目"
      ]
    },
    {
      "cell_type": "code",
      "metadata": {
        "id": "pmRBtm8hEMAg"
      },
      "source": [
        "\n",
        "\n",
        "dt = 1 #ms\n",
        "\n",
        "\n",
        "\n",
        "##入力1\n",
        "a1= 2000\n",
        "a2 = 5000\n",
        "\n",
        "b1 = 4000\n",
        "b2 = 9000\n",
        "\n",
        "\n",
        "dens1 = square_wave(a1,b1,t)\n",
        "dens2 = square_wave(a2,b2,t)\n",
        "\n",
        "\n",
        "w1 = 0.1  #重み\n",
        "w2= 0.3\n",
        "w3 = 0.2\n",
        "bias = 2 #閾値\n",
        "\n",
        "\n",
        "\n",
        "\n",
        "for i in range(msec):#10000回のサンプリング\n",
        "  #パーセプトロン１\n",
        "  d1 = dens1*dt\n",
        "  d2 = dens2*dt\n",
        "\n",
        "\n",
        "  d1d= d1*w1 #重みかけてる\n",
        "  d2d = d2*w2\n",
        "\n",
        "\n",
        "  pulse_sum = d1d + d2d  + bias\n",
        "  \n",
        "  \n",
        "\n",
        "  output = relu(pulse_sum,1,1)\n",
        "  \n",
        "  "
      ],
      "execution_count": 61,
      "outputs": []
    },
    {
      "cell_type": "code",
      "metadata": {
        "id": "eWT59AjFBPRd"
      },
      "source": [
        "result =AND(output,output2)"
      ],
      "execution_count": 62,
      "outputs": []
    },
    {
      "cell_type": "code",
      "metadata": {
        "id": "cxUERRb6Fo7K",
        "colab": {
          "base_uri": "https://localhost:8080/",
          "height": 962
        },
        "outputId": "640d66c1-0eed-4eb5-994a-7f0fc75ccfcf"
      },
      "source": [
        " # Plot\n",
        "plt.figure(figsize=(12, 8))\n",
        "plt.subplot(2, 1, 1)\n",
        "plt.ylabel('Input dens1')\n",
        "plt.plot(dens1)\n",
        "plt.show()\n",
        "\n",
        " # Plot\n",
        "plt.figure(figsize=(12, 6))\n",
        "plt.subplot(2, 1, 1)\n",
        "plt.ylabel('Input dens2')\n",
        "plt.plot(dens2)\n",
        "plt.show()\n",
        "\n",
        "\n",
        " # Plot\n",
        "plt.figure(figsize=(12, 6))\n",
        "plt.subplot(2, 1, 1)\n",
        "plt.ylabel('Input dens3')\n",
        "plt.plot( dens3)\n",
        "plt.show()\n",
        "\n",
        "\n",
        "\n",
        "# Plot\n",
        "plt.figure(figsize=(12, 6))\n",
        "plt.subplot(2, 1, 1)\n",
        "plt.ylabel('Output')\n",
        "plt.plot( output)\n",
        "plt.show()\n",
        "\n",
        "# Plot\n",
        "plt.figure(figsize=(12, 6))\n",
        "plt.subplot(2, 1, 1)\n",
        "plt.ylabel('AND')\n",
        "plt.plot( result)\n",
        "plt.xlim(0,10000)\n",
        "plt.show()"
      ],
      "execution_count": 63,
      "outputs": [
        {
          "output_type": "display_data",
          "data": {
            "image/png": "[encoded data removed]",
            "text/plain": [
              "<Figure size 864x576 with 1 Axes>"
            ]
          },
          "metadata": {
            "tags": [],
            "needs_background": "light"
          }
        },
        {
          "output_type": "display_data",
          "data": {
            "image/png": "[encoded data removed]",
            "text/plain": [
              "<Figure size 864x432 with 1 Axes>"
            ]
          },
          "metadata": {
            "tags": [],
            "needs_background": "light"
          }
        },
        {
          "output_type": "display_data",
          "data": {
            "image/png": "[encoded data removed]",
            "text/plain": [
              "<Figure size 864x432 with 1 Axes>"
            ]
          },
          "metadata": {
            "tags": [],
            "needs_background": "light"
          }
        },
        {
          "output_type": "display_data",
          "data": {
            "image/png": "[encoded data removed]",
            "text/plain": [
              "<Figure size 864x432 with 1 Axes>"
            ]
          },
          "metadata": {
            "tags": [],
            "needs_background": "light"
          }
        },
        {
          "output_type": "display_data",
          "data": {
            "image/png": "[encoded data removed]",
            "text/plain": [
              "<Figure size 864x432 with 1 Axes>"
            ]
          },
          "metadata": {
            "tags": [],
            "needs_background": "light"
          }
        }
      ]
    },
    {
      "cell_type": "markdown",
      "metadata": {
        "id": "cuZ7fNvGYt8s"
      },
      "source": [
        ""
      ]
    },
    {
      "cell_type": "code",
      "metadata": {
        "id": "4j9MxvMuKDeM"
      },
      "source": [
        ""
      ],
      "execution_count": null,
      "outputs": []
    },
    {
      "cell_type": "code",
      "metadata": {
        "id": "2yrty918bEXl",
        "colab": {
          "base_uri": "https://localhost:8080/"
        },
        "outputId": "d4057c76-21ea-4dbd-ee04-4a5a6e738f12"
      },
      "source": [
        ""
      ],
      "execution_count": null,
      "outputs": [
        {
          "output_type": "execute_result",
          "data": {
            "text/plain": [
              "array([0., 0., 0., ..., 0., 0., 0.])"
            ]
          },
          "metadata": {
            "tags": []
          },
          "execution_count": 45
        }
      ]
    },
    {
      "cell_type": "code",
      "metadata": {
        "id": "ZGJZ5H-1sHKz"
      },
      "source": [
        ""
      ],
      "execution_count": null,
      "outputs": []
    }
  ]
}