{
  "nbformat": 4,
  "nbformat_minor": 0,
  "metadata": {
    "colab": {
      "name": "AND.ipynb ",
      "provenance": [],
      "collapsed_sections": [],
      "include_colab_link": true
    },
    "kernelspec": {
      "name": "python3",
      "display_name": "Python 3"
    },
    "language_info": {
      "name": "python"
    }
  },
  "cells": [
    {
      "cell_type": "markdown",
      "metadata": {
        "id": "view-in-github",
        "colab_type": "text"
      },
      "source": [
        "<a href=\"https://colab.research.google.com/github/MxD-lab/SNN_Simulation/blob/AND/AND.ipynb\" target=\"_parent\"><img src=\"https://colab.research.google.com/assets/colab-badge.svg\" alt=\"Open In Colab\"/></a>"
      ]
    },
    {
      "cell_type": "markdown",
      "metadata": {
        "id": "Uv4k8UYHZHDc"
      },
      "source": [
        "ニューロン単体の試験"
      ]
    },
    {
      "cell_type": "code",
      "metadata": {
        "id": "7PvZYWn_HJU_"
      },
      "source": [
        "# -*- coding: utf-8 -*-\n",
        "import os\n",
        "import pandas as pd\n",
        "import matplotlib\n",
        "import matplotlib.pyplot as plt\n",
        "import numpy as np\n",
        "import math\n",
        "\n"
      ],
      "execution_count": 2,
      "outputs": []
    },
    {
      "cell_type": "markdown",
      "metadata": {
        "id": "hUBctoMQaLzv"
      },
      "source": [
        "シミュレーション時間の定義"
      ]
    },
    {
      "cell_type": "code",
      "metadata": {
        "id": "-PyOhJMuaJrW"
      },
      "source": [
        "#時間（m秒）\n",
        "msec = 10000\n",
        "#サンプリングした時の時間軸\n",
        "t = np.arange(0.0, msec)\n"
      ],
      "execution_count": 3,
      "outputs": []
    },
    {
      "cell_type": "markdown",
      "metadata": {
        "id": "hOse3klfZUWv"
      },
      "source": [
        "入力の密度関数を作成"
      ]
    },
    {
      "cell_type": "code",
      "metadata": {
        "id": "UHz9lw9nZVtt"
      },
      "source": [
        "\n",
        "\n",
        "#矩形波  x-yの間１\n",
        "def square_wave(a,b,t):\n",
        "  \"\"\" \n",
        "  シミュレーション時間の矩形波を作る\n",
        "\n",
        "　a:はじめ\n",
        "  b：終わり\n",
        "  t：シミュレーション時間\n",
        "\n",
        "  返り値　a-bの間１ \n",
        "  \"\"\"\n",
        "  squarewav=np.array([0.0 for i in range(len(t))])\n",
        "  for i in range(len(t)):\n",
        "      if a<i<b:\n",
        "        squarewav[i]=1\n",
        "      elif a<i<b:\n",
        "        squarewav[i]=1\n",
        "      else:\n",
        "        squarewav[i]=0\n",
        "        \n",
        "        \n",
        "    \n",
        "  return squarewav\n"
      ],
      "execution_count": 4,
      "outputs": []
    },
    {
      "cell_type": "markdown",
      "metadata": {
        "id": "U8gG4CU0ZYnY"
      },
      "source": [
        "ReLU関数ReLU関数\n",
        "-横シフト（ハードウェアで実装したときに負の数は扱えないから、正の数だけで扱いたい）\n",
        "-傾き：入力値を倍とか半分とかにできる。\n",
        "-\n",
        "\n",
        "\n",
        "\n",
        "\n",
        "\n"
      ]
    },
    {
      "cell_type": "code",
      "metadata": {
        "id": "tv2LBZVwppO0"
      },
      "source": [
        "\n",
        "\n",
        "\n",
        "def relu(x,n,a):\n",
        "  \"\"\"\n",
        "  ReLU関数\n",
        "  x:入力,\n",
        "  n:x切片,\n",
        "  a:傾き\n",
        "\n",
        "  \"\"\"\n",
        "  y = a*(x-n)\n",
        "  out = np.maximum(y,0)\n",
        "  \n",
        "  return out"
      ],
      "execution_count": 5,
      "outputs": []
    },
    {
      "cell_type": "markdown",
      "metadata": {
        "id": "ncUkHjAgO2y4"
      },
      "source": [
        "AND定義\n"
      ]
    },
    {
      "cell_type": "code",
      "metadata": {
        "id": "RBkNwZIyO0ql"
      },
      "source": [
        "def AND(x1,x2):\n",
        "  # ゼロ初期化\n",
        "  out=np.zeros(10000, dtype=float)\n",
        "\n",
        "  # 重み/バイアス パラメータ\n",
        "  w_1= 0.5\n",
        "  w_2= 0.5\n",
        "  b = -0.7\n",
        "\n",
        "  # 要素数チェック\n",
        "  if len(x1) != len(x2):\n",
        "    raise Exception(\"x1 and x2 len does not match!\")\n",
        "\n",
        "  # 各フレームのノード出力値計算\n",
        "  for i in range(len(x1)):\n",
        "    out[i] = x1[i]*w_1 + x2[i]*w_2 + b\n",
        "\n",
        "  return out\n"
      ],
      "execution_count": 6,
      "outputs": []
    },
    {
      "cell_type": "code",
      "metadata": {
        "colab": {
          "base_uri": "https://localhost:8080/",
          "height": 704
        },
        "id": "MUlE-B_c-Jxx",
        "outputId": "07bcd9fc-84c6-4c92-a57c-4c9f39b2946e"
      },
      "source": [
        "# シミュレーション用の波形準備\n",
        "simulation_time = 10000\n",
        "a_dens_array = [1 if (i > 2500 and i < 5000) or (i > 7500 and i < 10000) else 0 for i in range(10000)]\n",
        "b_dens_array = [1 if (i > 5000 and i < 10000) else 0 for i in range(10000)]\n",
        "\n",
        "# density情報からパルス数を生成\n",
        "dt=1\n",
        "a_pulse_cnt = a_dens_array * dt\n",
        "b_pulse_cnt = b_dens_array * dt\n",
        "\n",
        "# ANDにかけてみる\n",
        "and_result = AND(a_pulse_cnt, b_pulse_cnt)\n",
        "\n",
        "# 結果描画\n",
        "plt.figure(figsize=(12, 8))\n",
        "plt.subplot(2, 1, 1)\n",
        "plt.ylabel('output wave density')\n",
        "plt.plot(a_dens_array)\n",
        "plt.show()\n",
        "\n",
        "plt.figure(figsize=(12, 8))\n",
        "plt.subplot(2, 1, 1)\n",
        "plt.ylabel('output wave density')\n",
        "plt.plot(b_dens_array)\n",
        "plt.show()\n",
        "\n",
        "\n",
        "\"\"\"plt.figure(figsize=(12, 8))\n",
        "plt.subplot(2, 1, 1)\n",
        "plt.ylabel('output wave density')\n",
        "plt.plot(and_result)\n",
        "plt.show()\n",
        "\"\"\"\n",
        "plt.figure(figsize=(12, 8))\n",
        "plt.subplot(2, 1, 1)\n",
        "plt.ylabel('output wave density')\n",
        "plt.plot([1 if n > 0 else 0 for n in and_result])  # 0/1に正規化\n",
        "plt.show()"
      ],
      "execution_count": 7,
      "outputs": [
        {
          "output_type": "display_data",
          "data": {
            "image/png": "[encoded data removed]",
            "text/plain": [
              "<Figure size 864x576 with 1 Axes>"
            ]
          },
          "metadata": {
            "tags": [],
            "needs_background": "light"
          }
        },
        {
          "output_type": "display_data",
          "data": {
            "image/png": "[encoded data removed]",
            "text/plain": [
              "<Figure size 864x576 with 1 Axes>"
            ]
          },
          "metadata": {
            "tags": [],
            "needs_background": "light"
          }
        },
        {
          "output_type": "display_data",
          "data": {
            "image/png": "[encoded data removed]",
            "text/plain": [
              "<Figure size 864x576 with 1 Axes>"
            ]
          },
          "metadata": {
            "tags": [],
            "needs_background": "light"
          }
        }
      ]
    },
    {
      "cell_type": "markdown",
      "metadata": {
        "id": "8zBL7eXuaRoq"
      },
      "source": [
        "パーセプトロン2個\n",
        "1層目"
      ]
    },
    {
      "cell_type": "code",
      "metadata": {
        "id": "pmRBtm8hEMAg"
      },
      "source": [
        "\n",
        "\n",
        "dt = 1 #ms\n",
        "\n",
        "\n",
        "\n",
        "##入力1\n",
        "a1= 2000\n",
        "a2 = 5000\n",
        "\n",
        "b1 = 4000\n",
        "b2 = 9000\n",
        "\n",
        "\n",
        "dens1 = square_wave(a1,b1,t)\n",
        "dens2 = square_wave(a2,b2,t)\n",
        "\n"
      ],
      "execution_count": null,
      "outputs": []
    },
    {
      "cell_type": "code",
      "metadata": {
        "id": "eWT59AjFBPRd"
      },
      "source": [
        "result =AND(dens1,dens2)"
      ],
      "execution_count": null,
      "outputs": []
    },
    {
      "cell_type": "code",
      "metadata": {
        "id": "cxUERRb6Fo7K",
        "colab": {
          "base_uri": "https://localhost:8080/",
          "height": 836
        },
        "outputId": "2b50e5b6-874b-4855-9654-3fc6ddbaf8b5"
      },
      "source": [
        " # Plot\n",
        "plt.figure(figsize=(12, 8))\n",
        "plt.subplot(2, 1, 1)\n",
        "plt.ylabel('Input dens1')\n",
        "plt.plot(dens1)\n",
        "plt.show()\n",
        "\n",
        " # Plot\n",
        "plt.figure(figsize=(12, 6))\n",
        "plt.subplot(2, 1, 1)\n",
        "plt.ylabel('Input dens2')\n",
        "plt.plot(dens2)\n",
        "plt.show()\n",
        "\n",
        "\n",
        "\n",
        "\n",
        "# Plot\n",
        "plt.figure(figsize=(12, 6))\n",
        "plt.subplot(2, 1, 1)\n",
        "plt.ylabel('Output')\n",
        "plt.plot( output)\n",
        "plt.show()\n",
        "\n",
        "# Plot\n",
        "plt.figure(figsize=(12, 6))\n",
        "plt.subplot(2, 1, 1)\n",
        "plt.ylabel('AND')\n",
        "plt.plot( result)\n",
        "plt.xlim(0,10000)\n",
        "plt.show()"
      ],
      "execution_count": null,
      "outputs": [
        {
          "output_type": "display_data",
          "data": {
            "image/png": "[encoded data removed]",
            "text/plain": [
              "<Figure size 864x576 with 1 Axes>"
            ]
          },
          "metadata": {
            "tags": [],
            "needs_background": "light"
          }
        },
        {
          "output_type": "display_data",
          "data": {
            "image/png": "[encoded data removed]",
            "text/plain": [
              "<Figure size 864x432 with 1 Axes>"
            ]
          },
          "metadata": {
            "tags": [],
            "needs_background": "light"
          }
        },
        {
          "output_type": "error",
          "ename": "NameError",
          "evalue": "ignored",
          "traceback": [
            "\u001b[0;31m---------------------------------------------------------------------------\u001b[0m",
            "\u001b[0;31mNameError\u001b[0m                                 Traceback (most recent call last)",
            "\u001b[0;32m<ipython-input-14-815df2863b41>\u001b[0m in \u001b[0;36m<module>\u001b[0;34m()\u001b[0m\n\u001b[1;32m     20\u001b[0m \u001b[0mplt\u001b[0m\u001b[0;34m.\u001b[0m\u001b[0msubplot\u001b[0m\u001b[0;34m(\u001b[0m\u001b[0;36m2\u001b[0m\u001b[0;34m,\u001b[0m \u001b[0;36m1\u001b[0m\u001b[0;34m,\u001b[0m \u001b[0;36m1\u001b[0m\u001b[0;34m)\u001b[0m\u001b[0;34m\u001b[0m\u001b[0;34m\u001b[0m\u001b[0m\n\u001b[1;32m     21\u001b[0m \u001b[0mplt\u001b[0m\u001b[0;34m.\u001b[0m\u001b[0mylabel\u001b[0m\u001b[0;34m(\u001b[0m\u001b[0;34m'Output'\u001b[0m\u001b[0;34m)\u001b[0m\u001b[0;34m\u001b[0m\u001b[0;34m\u001b[0m\u001b[0m\n\u001b[0;32m---> 22\u001b[0;31m \u001b[0mplt\u001b[0m\u001b[0;34m.\u001b[0m\u001b[0mplot\u001b[0m\u001b[0;34m(\u001b[0m \u001b[0moutput\u001b[0m\u001b[0;34m)\u001b[0m\u001b[0;34m\u001b[0m\u001b[0;34m\u001b[0m\u001b[0m\n\u001b[0m\u001b[1;32m     23\u001b[0m \u001b[0mplt\u001b[0m\u001b[0;34m.\u001b[0m\u001b[0mshow\u001b[0m\u001b[0;34m(\u001b[0m\u001b[0;34m)\u001b[0m\u001b[0;34m\u001b[0m\u001b[0;34m\u001b[0m\u001b[0m\n\u001b[1;32m     24\u001b[0m \u001b[0;34m\u001b[0m\u001b[0m\n",
            "\u001b[0;31mNameError\u001b[0m: name 'output' is not defined"
          ]
        },
        {
          "output_type": "display_data",
          "data": {
            "image/png": "[encoded data removed]",
            "text/plain": [
              "<Figure size 864x432 with 1 Axes>"
            ]
          },
          "metadata": {
            "tags": [],
            "needs_background": "light"
          }
        }
      ]
    },
    {
      "cell_type": "markdown",
      "metadata": {
        "id": "cuZ7fNvGYt8s"
      },
      "source": [
        ""
      ]
    },
    {
      "cell_type": "code",
      "metadata": {
        "id": "4j9MxvMuKDeM"
      },
      "source": [
        ""
      ],
      "execution_count": null,
      "outputs": []
    },
    {
      "cell_type": "code",
      "metadata": {
        "id": "2yrty918bEXl",
        "colab": {
          "base_uri": "https://localhost:8080/"
        },
        "outputId": "d4057c76-21ea-4dbd-ee04-4a5a6e738f12"
      },
      "source": [
        ""
      ],
      "execution_count": null,
      "outputs": [
        {
          "output_type": "execute_result",
          "data": {
            "text/plain": [
              "array([0., 0., 0., ..., 0., 0., 0.])"
            ]
          },
          "metadata": {
            "tags": []
          },
          "execution_count": 45
        }
      ]
    },
    {
      "cell_type": "code",
      "metadata": {
        "id": "ZGJZ5H-1sHKz"
      },
      "source": [
        ""
      ],
      "execution_count": null,
      "outputs": []
    }
  ]
}