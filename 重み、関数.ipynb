{
  "nbformat": 4,
  "nbformat_minor": 0,
  "metadata": {
    "colab": {
      "name": "重み、関数.ipynb",
      "provenance": [],
      "collapsed_sections": [],
      "authorship_tag": "ABX9TyOkFoVFW/u8dHTFNZF8QyPA",
      "include_colab_link": true
    },
    "kernelspec": {
      "name": "python3",
      "display_name": "Python 3"
    },
    "language_info": {
      "name": "python"
    }
  },
  "cells": [
    {
      "cell_type": "markdown",
      "metadata": {
        "id": "view-in-github",
        "colab_type": "text"
      },
      "source": [
        "<a href=\"https://colab.research.google.com/github/MxD-lab/SNN_Simulation/blob/perseptron/%E9%87%8D%E3%81%BF%E3%80%81%E9%96%A2%E6%95%B0.ipynb\" target=\"_parent\"><img src=\"https://colab.research.google.com/assets/colab-badge.svg\" alt=\"Open In Colab\"/></a>"
      ]
    },
    {
      "cell_type": "markdown",
      "metadata": {
        "id": "Uv4k8UYHZHDc"
      },
      "source": [
        "ニューロン単体の試験"
      ]
    },
    {
      "cell_type": "code",
      "metadata": {
        "id": "7PvZYWn_HJU_"
      },
      "source": [
        "# -*- coding: utf-8 -*-\n",
        "import os\n",
        "import pandas as pd\n",
        "import matplotlib\n",
        "import matplotlib.pyplot as plt\n",
        "import numpy as np\n",
        "import math\n",
        "\n"
      ],
      "execution_count": null,
      "outputs": []
    },
    {
      "cell_type": "markdown",
      "metadata": {
        "id": "hUBctoMQaLzv"
      },
      "source": [
        "シミュレーション時間の定義"
      ]
    },
    {
      "cell_type": "code",
      "metadata": {
        "id": "-PyOhJMuaJrW"
      },
      "source": [
        "#時間（m秒）\n",
        "msec = 10000\n",
        "#サンプリングした時の時間軸\n",
        "t = np.arange(0.0, msec)\n"
      ],
      "execution_count": null,
      "outputs": []
    },
    {
      "cell_type": "markdown",
      "metadata": {
        "id": "hOse3klfZUWv"
      },
      "source": [
        "入力の密度関数を作成"
      ]
    },
    {
      "cell_type": "code",
      "metadata": {
        "id": "UHz9lw9nZVtt"
      },
      "source": [
        "\n",
        "\n",
        "#矩形波  x-yの間１\n",
        "def square_wave(a,b,t):\n",
        "    squarewav=np.array([0.0 for i in range(len(t))])\n",
        "    for i in range(len(t)):\n",
        "        if a<i<b:\n",
        "            squarewav[i]=1\n",
        "        elif a<i<b:\n",
        "            squarewav[i]=1\n",
        "        else:\n",
        "            squarewav[i]=0\n",
        "        \n",
        "        \n",
        "    \n",
        "    return squarewav\n"
      ],
      "execution_count": null,
      "outputs": []
    },
    {
      "cell_type": "markdown",
      "metadata": {
        "id": "U8gG4CU0ZYnY"
      },
      "source": [
        "ReLU関数\n",
        "-横シフト（ハードウェアで実装したときに負の数は扱えないから、正の数だけで扱いたい）\n",
        "-傾き：入力値を倍とか半分とかにできる。\n",
        "-\n",
        "\n",
        "\n",
        "\n"
      ]
    },
    {
      "cell_type": "code",
      "metadata": {
        "id": "MP9g5zHkF67H"
      },
      "source": [
        "\n",
        "\n",
        "\n",
        "def relu(x,n,a):#x:入力,n:xの増加量,a:傾き\n",
        "\n",
        "  y = a*(x-n)\n",
        "  out = np.maximum(y,0)\n",
        "  \n",
        "  return out"
      ],
      "execution_count": null,
      "outputs": []
    },
    {
      "cell_type": "code",
      "metadata": {
        "colab": {
          "base_uri": "https://localhost:8080/",
          "height": 265
        },
        "id": "tv2LBZVwppO0",
        "outputId": "0aeb5597-3cf6-4e1b-f372-ab537212be08"
      },
      "source": [
        "\n",
        "\n",
        "x = np.linspace(-6, 6)\n",
        "y = relu(x,0,1)\n",
        "plt.plot(x,y)\n",
        "\n",
        "\n",
        "y = relu(x,2,5)\n",
        "plt.plot(x,y)\n",
        "\n",
        "\n",
        "y = relu(x,3,1)\n",
        "plt.plot(x,y)\n",
        "\n",
        "plt.xlim(0,6)\n",
        "\n",
        "plt.show()\n",
        "\n"
      ],
      "execution_count": null,
      "outputs": [
        {
          "output_type": "display_data",
          "data": {
            "image/png": "[encoded data removed]",
            "text/plain": [
              "<Figure size 432x288 with 1 Axes>"
            ]
          },
          "metadata": {
            "tags": [],
            "needs_background": "light"
          }
        }
      ]
    },
    {
      "cell_type": "markdown",
      "metadata": {
        "id": "8zBL7eXuaRoq"
      },
      "source": [
        "\n",
        "シングルパーセプトロンのシミュレーション"
      ]
    },
    {
      "cell_type": "code",
      "metadata": {
        "id": "pmRBtm8hEMAg"
      },
      "source": [
        "\n",
        "\n",
        "dt = 1 #ms\n",
        "\n",
        "\n",
        "\n",
        "##入力\n",
        "a1= 2000\n",
        "a2 = 5000\n",
        "a3 = 3000\n",
        "b1 = 4000\n",
        "b2 = 9000\n",
        "b3 = 7000\n",
        "\n",
        "dens1 = square_wave(a1,b1,t)\n",
        "dens2 = square_wave(a2,b2,t)\n",
        "dens3 = square_wave(a3,b3,t)\n",
        "\n",
        "\n",
        "w1 = 0.1  #重み\n",
        "w2= 0.3\n",
        "w3 = 0.2\n",
        "bias = 2 #閾値\n",
        "\n",
        "\n",
        "\n",
        "\n",
        "for i in range(msec):#10000回のサンプリング\n",
        "  \n",
        "  d1 = dens1*dt\n",
        "  d2 = dens2*dt\n",
        "  d3 = dens3*dt\n",
        "\n",
        "  d1d= d1*w1\n",
        "  d2d = d2*w2\n",
        "  d3d = d3*w3\n",
        "\n",
        "  dens_out = d1d + d2d + d3d + bias\n",
        "  \n",
        "  \n",
        "\n",
        "  output = relu(dens_out,2,1)\n",
        "\n"
      ],
      "execution_count": null,
      "outputs": []
    },
    {
      "cell_type": "code",
      "metadata": {
        "colab": {
          "base_uri": "https://localhost:8080/",
          "height": 962
        },
        "id": "cxUERRb6Fo7K",
        "outputId": "e63ea472-5c96-438e-e4a9-3afe29a8d696"
      },
      "source": [
        "\n",
        " # Plot　入力１\n",
        "plt.figure(figsize=(12, 8))\n",
        "plt.subplot(2, 1, 1)\n",
        "plt.ylabel('Input dens1')\n",
        "plt.plot(dens1)\n",
        "plt.show()\n",
        "\n",
        " # Plot　入力２\n",
        "plt.figure(figsize=(12, 6))\n",
        "plt.subplot(2, 1, 1)\n",
        "plt.ylabel('Input dens2')\n",
        "plt.plot(dens2)\n",
        "plt.show()\n",
        "\n",
        "\n",
        " # Plot　入力３\n",
        "plt.figure(figsize=(12, 6))\n",
        "plt.subplot(2, 1, 1)\n",
        "plt.ylabel('Input dens3')\n",
        "plt.plot( dens3)\n",
        "plt.show()\n",
        "\n",
        "\n",
        "\n",
        "\n",
        "# Plot\n",
        "plt.figure(figsize=(12, 6))\n",
        "plt.subplot(2, 1, 1)\n",
        "plt.ylabel('Output dens')\n",
        "plt.plot( dens_out)\n",
        "plt.show()\n",
        "\n",
        "\n",
        "# Plot ReLU関数適用\n",
        "plt.figure(figsize=(12, 6))\n",
        "plt.subplot(2, 1, 1)\n",
        "plt.ylabel('Output')\n",
        "plt.plot( output)\n",
        "plt.show()\n",
        "\n"
      ],
      "execution_count": null,
      "outputs": [
        {
          "output_type": "display_data",
          "data": {
            "image/png": "[encoded data removed]",
            "text/plain": [
              "<Figure size 864x576 with 1 Axes>"
            ]
          },
          "metadata": {
            "tags": [],
            "needs_background": "light"
          }
        },
        {
          "output_type": "display_data",
          "data": {
            "image/png": "[encoded data removed]",
            "text/plain": [
              "<Figure size 864x432 with 1 Axes>"
            ]
          },
          "metadata": {
            "tags": [],
            "needs_background": "light"
          }
        },
        {
          "output_type": "display_data",
          "data": {
            "image/png": "[encoded data removed]",
            "text/plain": [
              "<Figure size 864x432 with 1 Axes>"
            ]
          },
          "metadata": {
            "tags": [],
            "needs_background": "light"
          }
        },
        {
          "output_type": "display_data",
          "data": {
            "image/png": "[encoded data removed]",
            "text/plain": [
              "<Figure size 864x432 with 1 Axes>"
            ]
          },
          "metadata": {
            "tags": [],
            "needs_background": "light"
          }
        },
        {
          "output_type": "display_data",
          "data": {
            "image/png": "[encoded data removed]",
            "text/plain": [
              "<Figure size 864x432 with 1 Axes>"
            ]
          },
          "metadata": {
            "tags": [],
            "needs_background": "light"
          }
        }
      ]
    },
    {
      "cell_type": "markdown",
      "metadata": {
        "id": "cuZ7fNvGYt8s"
      },
      "source": [
        ""
      ]
    },
    {
      "cell_type": "code",
      "metadata": {
        "id": "4j9MxvMuKDeM",
        "colab": {
          "base_uri": "https://localhost:8080/"
        },
        "outputId": "b1cab65b-cfb2-463c-bd52-d633ecac2366"
      },
      "source": [
        ""
      ],
      "execution_count": null,
      "outputs": [
        {
          "output_type": "execute_result",
          "data": {
            "text/plain": [
              "array([0., 0., 0., ..., 0., 0., 0.])"
            ]
          },
          "metadata": {
            "tags": []
          },
          "execution_count": 44
        }
      ]
    },
    {
      "cell_type": "code",
      "metadata": {
        "id": "2yrty918bEXl",
        "colab": {
          "base_uri": "https://localhost:8080/"
        },
        "outputId": "d4057c76-21ea-4dbd-ee04-4a5a6e738f12"
      },
      "source": [
        ""
      ],
      "execution_count": null,
      "outputs": [
        {
          "output_type": "execute_result",
          "data": {
            "text/plain": [
              "array([0., 0., 0., ..., 0., 0., 0.])"
            ]
          },
          "metadata": {
            "tags": []
          },
          "execution_count": 45
        }
      ]
    },
    {
      "cell_type": "code",
      "metadata": {
        "id": "ZGJZ5H-1sHKz"
      },
      "source": [
        ""
      ],
      "execution_count": null,
      "outputs": []
    }
  ]
}