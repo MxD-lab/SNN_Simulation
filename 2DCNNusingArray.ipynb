{
  "nbformat": 4,
  "nbformat_minor": 0,
  "metadata": {
    "colab": {
      "name": "2DCNNusingArray.ipynb",
      "provenance": [],
      "collapsed_sections": [],
      "authorship_tag": "ABX9TyO6jz0JCc/mBRm/IDJZ2+9J",
      "include_colab_link": true
    },
    "kernelspec": {
      "name": "python3",
      "display_name": "Python 3"
    },
    "language_info": {
      "name": "python"
    },
    "accelerator": "GPU"
  },
  "cells": [
    {
      "cell_type": "markdown",
      "metadata": {
        "id": "view-in-github",
        "colab_type": "text"
      },
      "source": [
        "<a href=\"https://colab.research.google.com/github/MxD-lab/SNN_Simulation/blob/main/2DCNNusingArray.ipynb\" target=\"_parent\"><img src=\"https://colab.research.google.com/assets/colab-badge.svg\" alt=\"Open In Colab\"/></a>"
      ]
    },
    {
      "cell_type": "code",
      "source": [
        "from google.colab import drive\n",
        "drive.mount('/content/drive')"
      ],
      "metadata": {
        "colab": {
          "base_uri": "https://localhost:8080/"
        },
        "id": "0vZQeFQrHxb5",
        "outputId": "09b2781b-afe5-413d-95bf-dc69a5820518"
      },
      "execution_count": null,
      "outputs": [
        {
          "output_type": "stream",
          "name": "stdout",
          "text": [
            "Drive already mounted at /content/drive; to attempt to forcibly remount, call drive.mount(\"/content/drive\", force_remount=True).\n"
          ]
        }
      ]
    },
    {
      "cell_type": "code",
      "source": [
        "!gdown --id 1Lx4s240DQDVIF2Zz7P4_DpuBKu8ELUrY"
      ],
      "metadata": {
        "colab": {
          "base_uri": "https://localhost:8080/"
        },
        "id": "pnGv351FH2bc",
        "outputId": "84097572-6170-4493-b6f9-06b6c0b4d5ab"
      },
      "execution_count": null,
      "outputs": [
        {
          "output_type": "stream",
          "name": "stdout",
          "text": [
            "/usr/local/lib/python3.7/dist-packages/gdown/cli.py:131: FutureWarning: Option `--id` was deprecated in version 4.3.1 and will be removed in 5.0. You don't need to pass it anymore to use a file ID.\n",
            "  category=FutureWarning,\n",
            "Downloading...\n",
            "From: https://drive.google.com/uc?id=1Lx4s240DQDVIF2Zz7P4_DpuBKu8ELUrY\n",
            "To: /content/TestData.zip\n",
            "100% 2.24M/2.24M [00:00<00:00, 10.9MB/s]\n"
          ]
        }
      ]
    },
    {
      "cell_type": "code",
      "source": [
        "!ls /content/TestData.zip -al"
      ],
      "metadata": {
        "colab": {
          "base_uri": "https://localhost:8080/"
        },
        "id": "8yfnN-S5Ix2V",
        "outputId": "b2cfb910-707a-4171-8d53-8b56b9850e67"
      },
      "execution_count": null,
      "outputs": [
        {
          "output_type": "stream",
          "name": "stdout",
          "text": [
            "-rw-r--r-- 1 root root 2235051 Jun 10 16:30 /content/TestData.zip\n"
          ]
        }
      ]
    },
    {
      "cell_type": "code",
      "source": [
        "import zipfile\n",
        "from google.colab import drive\n",
        "\n",
        "drive.mount('/content/drive')"
      ],
      "metadata": {
        "colab": {
          "base_uri": "https://localhost:8080/"
        },
        "id": "ZCw02CHTI2xq",
        "outputId": "45a6189d-d079-4fd1-e443-ce5b9a003d7e"
      },
      "execution_count": null,
      "outputs": [
        {
          "output_type": "stream",
          "name": "stdout",
          "text": [
            "Drive already mounted at /content/drive; to attempt to forcibly remount, call drive.mount(\"/content/drive\", force_remount=True).\n"
          ]
        }
      ]
    },
    {
      "cell_type": "code",
      "source": [
        "!unzip \"/content/TestData.zip\" -d \"/content/TestData\""
      ],
      "metadata": {
        "colab": {
          "base_uri": "https://localhost:8080/"
        },
        "id": "fgTgSx31I53u",
        "outputId": "ee5f3b2b-b404-470f-a108-52d7c58cea76"
      },
      "execution_count": null,
      "outputs": [
        {
          "output_type": "stream",
          "name": "stdout",
          "text": [
            "Archive:  /content/TestData.zip\n",
            "   creating: /content/TestData/TestData/\n",
            "  inflating: /content/TestData/__MACOSX/._TestData  \n",
            "  inflating: /content/TestData/TestData/.DS_Store  \n",
            "  inflating: /content/TestData/__MACOSX/TestData/._.DS_Store  \n",
            "   creating: /content/TestData/TestData/GrippingOnly/\n",
            "  inflating: /content/TestData/__MACOSX/TestData/._GrippingOnly  \n",
            "   creating: /content/TestData/TestData/GrippingLeftFaster/\n",
            "  inflating: /content/TestData/__MACOSX/TestData/._GrippingLeftFaster  \n",
            "   creating: /content/TestData/TestData/.ipynb_checkpoints/\n",
            "  inflating: /content/TestData/__MACOSX/TestData/._.ipynb_checkpoints  \n",
            "   creating: /content/TestData/TestData/GrippingWithDiffForce/\n",
            "  inflating: /content/TestData/__MACOSX/TestData/._GrippingWithDiffForce  \n",
            "   creating: /content/TestData/TestData/GrippingLeft/\n",
            "  inflating: /content/TestData/__MACOSX/TestData/._GrippingLeft  \n",
            "  inflating: /content/TestData/TestData/GrippingOnly/.DS_Store  \n",
            "  inflating: /content/TestData/__MACOSX/TestData/GrippingOnly/._.DS_Store  \n",
            "   creating: /content/TestData/TestData/GrippingOnly/csvs/\n",
            "  inflating: /content/TestData/__MACOSX/TestData/GrippingOnly/._csvs  \n",
            "  inflating: /content/TestData/TestData/GrippingLeftFaster/.DS_Store  \n",
            "  inflating: /content/TestData/__MACOSX/TestData/GrippingLeftFaster/._.DS_Store  \n",
            "   creating: /content/TestData/TestData/GrippingLeftFaster/csvs/\n",
            "  inflating: /content/TestData/__MACOSX/TestData/GrippingLeftFaster/._csvs  \n",
            "  inflating: /content/TestData/TestData/.ipynb_checkpoints/CNNin3array-checkpoint.ipynb  \n",
            "  inflating: /content/TestData/TestData/.ipynb_checkpoints/1DCNN_2nd-checkpoint.ipynb  \n",
            "  inflating: /content/TestData/TestData/.ipynb_checkpoints/1DCNN-checkpoint.ipynb  \n",
            "  inflating: /content/TestData/TestData/GrippingWithDiffForce/.DS_Store  \n",
            "  inflating: /content/TestData/__MACOSX/TestData/GrippingWithDiffForce/._.DS_Store  \n",
            "   creating: /content/TestData/TestData/GrippingWithDiffForce/csvs/\n",
            "  inflating: /content/TestData/__MACOSX/TestData/GrippingWithDiffForce/._csvs  \n",
            "  inflating: /content/TestData/TestData/GrippingLeft/.DS_Store  \n",
            "  inflating: /content/TestData/__MACOSX/TestData/GrippingLeft/._.DS_Store  \n",
            "   creating: /content/TestData/TestData/GrippingLeft/csvs/\n",
            "  inflating: /content/TestData/__MACOSX/TestData/GrippingLeft/._csvs  \n",
            "  inflating: /content/TestData/TestData/GrippingOnly/csvs/.DS_Store  \n",
            "  inflating: /content/TestData/__MACOSX/TestData/GrippingOnly/csvs/._.DS_Store  \n",
            "  inflating: /content/TestData/TestData/GrippingOnly/csvs/GrippingOnly.csv  \n",
            "  inflating: /content/TestData/__MACOSX/TestData/GrippingOnly/csvs/._GrippingOnly.csv  \n",
            "  inflating: /content/TestData/TestData/GrippingLeftFaster/csvs/.DS_Store  \n",
            "  inflating: /content/TestData/__MACOSX/TestData/GrippingLeftFaster/csvs/._.DS_Store  \n",
            "  inflating: /content/TestData/TestData/GrippingLeftFaster/csvs/GrippingLeftFaster.csv  \n",
            "  inflating: /content/TestData/__MACOSX/TestData/GrippingLeftFaster/csvs/._GrippingLeftFaster.csv  \n",
            "  inflating: /content/TestData/TestData/GrippingWithDiffForce/csvs/GrippingWithDiffForce.csv  \n",
            "  inflating: /content/TestData/__MACOSX/TestData/GrippingWithDiffForce/csvs/._GrippingWithDiffForce.csv  \n",
            "  inflating: /content/TestData/TestData/GrippingLeft/csvs/.DS_Store  \n",
            "  inflating: /content/TestData/__MACOSX/TestData/GrippingLeft/csvs/._.DS_Store  \n",
            "  inflating: /content/TestData/TestData/GrippingLeft/csvs/GrippingLeft.csv  \n",
            "  inflating: /content/TestData/__MACOSX/TestData/GrippingLeft/csvs/._GrippingLeft.csv  \n"
          ]
        }
      ]
    },
    {
      "cell_type": "code",
      "execution_count": null,
      "metadata": {
        "id": "YyYlRiN0VT55"
      },
      "outputs": [],
      "source": [
        "# coding:utf-8\n",
        "import numpy as np\n",
        "import pandas as pd\n",
        "from sklearn.model_selection import train_test_split\n",
        "import matplotlib.pyplot as plt\n",
        "import re\n",
        "import os\n",
        "from PIL import Image\n",
        "import glob\n",
        "import tensorflow as tf\n",
        "\n",
        "from tensorflow.keras.models import Sequential\n",
        "from tensorflow.keras.layers import Dense, Conv2D, Flatten, Dropout, MaxPooling2D, LSTM\n",
        "from tensorflow.keras.preprocessing.image import ImageDataGenerator\n"
      ]
    },
    {
      "cell_type": "code",
      "source": [
        "csvdata_dir = \"/content/TestData/TestData/\"\n",
        "\n",
        "# raw data from the sensor\n",
        "folder = [\"GrippingLeftFaster\", \"GrippingLeft\",  \"GrippingOnly\", \"GrippingWithDiffForce\"]\n",
        "\n",
        "\n",
        "max_dataarraysize = 30052\n",
        "\n",
        "#df maximum value\n",
        "#last_line = len(folder[0].iloc[:,-1:])\n"
      ],
      "metadata": {
        "id": "t-R6P7M9AFBF"
      },
      "execution_count": null,
      "outputs": []
    },
    {
      "cell_type": "code",
      "source": [
        "data_collect = []\n",
        "label = []\n",
        "\n",
        "n = 0\n",
        "k = 10\n",
        "\n",
        "for index, name in enumerate(folder):\n",
        "    name = name + \"/csvs\"\n",
        "    #print(name)\n",
        "    dir = csvdata_dir + name\n",
        "    files = glob.glob(dir + \"/*.csv\")\n",
        "\n",
        "    for i, file in enumerate(files):\n",
        "        csv = pd.read_csv(file, sep = ',', encoding = \"UTF-8\", error_bad_lines = False, header = None)\n",
        "        data = np.array(csv, dtype = np.float32)\n",
        "        if csv.empty:\n",
        "            print('DataFrame is empty!')        # (198959, 3)\n",
        "        print(data.shape)\n",
        "\n",
        "        # (19896, 3)\n",
        "        for i in range(int(max_dataarraysize)):\n",
        "          \n",
        "\n",
        "          #For data_collect shape to be (14000, 3, 10)\n",
        "          preStack = np.vstack((data[n:k, 0], data[n:k, 1]))\n",
        "          data_stack= np.vstack((preStack, data[n:k, 2]))\n",
        "          \n",
        "          data_collect.append(data_stack)\n",
        "          #print(data_collect)\n",
        "          label.append([index])\n",
        "          #print(label)\n",
        "          n = n+10\n",
        "          k = k+10\n",
        "          #print(n,k)\n",
        "\n",
        "        n = 0\n",
        "        k = 10\n",
        "\n",
        "        #data_collect.append(data_collect)\n",
        "\n",
        "#data_collect = np.asarray(data_stack)\n",
        "\n",
        "data_collect = np.asarray(data_collect)\n",
        "label = np.asarray(label)\n",
        "label =  tf.keras.utils.to_categorical(label, 4)\n",
        "\n",
        "print(data_collect.shape)\n",
        "print(label.shape)\n",
        "# (14000, 30)"
      ],
      "metadata": {
        "colab": {
          "base_uri": "https://localhost:8080/"
        },
        "id": "qoIllGKtaQVT",
        "outputId": "0af6e58e-0770-419f-a588-844c71919a2c"
      },
      "execution_count": null,
      "outputs": [
        {
          "output_type": "stream",
          "name": "stderr",
          "text": [
            "/usr/local/lib/python3.7/dist-packages/IPython/core/interactiveshell.py:2882: FutureWarning: The error_bad_lines argument has been deprecated and will be removed in a future version.\n",
            "\n",
            "\n",
            "  exec(code_obj, self.user_global_ns, self.user_ns)\n"
          ]
        },
        {
          "output_type": "stream",
          "name": "stdout",
          "text": [
            "(321729, 3)\n",
            "(326543, 3)\n",
            "(319363, 3)\n",
            "(300526, 3)\n",
            "(120208, 3, 10)\n",
            "(120208, 4)\n"
          ]
        }
      ]
    },
    {
      "cell_type": "markdown",
      "source": [
        ""
      ],
      "metadata": {
        "id": "-AAFl3uRsqN2"
      }
    },
    {
      "cell_type": "code",
      "source": [
        "X_train, X_test, y_train, y_test = train_test_split(data_collect, label, test_size=0.2)\n",
        "\n",
        "\n",
        "'''for debugging'''\n",
        "'''\n",
        "# (828, 2300, 3)\n",
        "print(data_collect.shape)\n",
        "# (2300, 3)\n",
        "print(data_collect[1])\n",
        "print(data_collect[2])\n",
        "print(data_collect[3])\n",
        "\n",
        "print(type(data_collect))\n",
        "'''"
      ],
      "metadata": {
        "colab": {
          "base_uri": "https://localhost:8080/",
          "height": 52
        },
        "id": "dKuaDavrGNuh",
        "outputId": "00c55ef6-a85f-46ea-a43d-34fd5cbcf63a"
      },
      "execution_count": null,
      "outputs": [
        {
          "output_type": "execute_result",
          "data": {
            "text/plain": [
              "'\\n# (828, 2300, 3)\\nprint(data_collect.shape)\\n# (2300, 3)\\nprint(data_collect[1])\\nprint(data_collect[2])\\nprint(data_collect[3])\\n\\nprint(type(data_collect))\\n'"
            ],
            "application/vnd.google.colaboratory.intrinsic+json": {
              "type": "string"
            }
          },
          "metadata": {},
          "execution_count": 10
        }
      ]
    },
    {
      "cell_type": "code",
      "source": [
        "print(type(X_test), type(X_train), type(y_train), type(y_test))"
      ],
      "metadata": {
        "colab": {
          "base_uri": "https://localhost:8080/"
        },
        "id": "TdWa5oE-TBU5",
        "outputId": "678af55f-67f3-4671-8d1c-1d83bdb58bef"
      },
      "execution_count": null,
      "outputs": [
        {
          "output_type": "stream",
          "name": "stdout",
          "text": [
            "<class 'numpy.ndarray'> <class 'numpy.ndarray'> <class 'numpy.ndarray'> <class 'numpy.ndarray'>\n"
          ]
        }
      ]
    },
    {
      "cell_type": "code",
      "source": [
        "print((X_test.shape))\n",
        "print((X_train.shape))\n",
        "print(y_test.shape)"
      ],
      "metadata": {
        "colab": {
          "base_uri": "https://localhost:8080/"
        },
        "id": "khdLpRmLczcE",
        "outputId": "bb207188-9ea0-4629-8a3d-6e597e0eccf4"
      },
      "execution_count": null,
      "outputs": [
        {
          "output_type": "stream",
          "name": "stdout",
          "text": [
            "(24042, 3, 10)\n",
            "(96166, 3, 10)\n",
            "(24042, 4)\n"
          ]
        }
      ]
    },
    {
      "cell_type": "code",
      "source": [
        "X_test = np.array([np.array(val) for val in X_test])\n",
        "X_train = np.array([np.array(val) for val in X_train])\n",
        "y_test = np.array([np.array(val) for val in y_test])\n",
        "y_train = np.array([np.array(val) for val in y_train])\n"
      ],
      "metadata": {
        "id": "oan3LyJ2mh1V"
      },
      "execution_count": null,
      "outputs": []
    },
    {
      "cell_type": "code",
      "source": [
        "X_train = X_train / 255.0\n",
        "X_test = X_test / 255.0"
      ],
      "metadata": {
        "id": "xTyDkGcBa8qe"
      },
      "execution_count": null,
      "outputs": []
    },
    {
      "cell_type": "code",
      "source": [
        "import tensorflow as tf\n",
        "from tensorflow.keras import datasets, layers, models\n",
        "import matplotlib.pyplot as plt\n",
        "import numpy as np"
      ],
      "metadata": {
        "id": "s8f3Aqo1tu-v"
      },
      "execution_count": null,
      "outputs": []
    },
    {
      "cell_type": "code",
      "source": [
        "#necessary libraries, functions, layers, etc.\n",
        "from sklearn.metrics import classification_report, precision_recall_fscore_support\n",
        "from keras.preprocessing.image import load_img\n",
        "from keras.preprocessing.image import img_to_array\n",
        "from keras.applications.inception_v3 import preprocess_input\n",
        "from keras.applications.inception_v3 import decode_predictions\n",
        "from keras.applications.inception_v3 import InceptionV3\n",
        "from sklearn.model_selection import train_test_split\n",
        "from IPython.display import Image\n",
        "from keras.models import Model\n",
        "from keras.layers import Dense\n",
        "from keras.layers import Flatten\n",
        "from os import listdir"
      ],
      "metadata": {
        "id": "EPVIV6nWdsgr"
      },
      "execution_count": null,
      "outputs": []
    },
    {
      "cell_type": "code",
      "source": [
        "# Create model\n",
        "cnn = models.Sequential([\n",
        "    # Using 32 filters(understand it as a depth)\n",
        "    layers.Conv2D(filters=64, kernel_size=(3, 3), activation='relu', input_shape=(3, 10, 1)),\n",
        "    # Max pooling is used to redue the spatial dimensions\n",
        "    # Pool size of (2,2)\n",
        "    #layers.MaxPooling2D((2, 2)),\n",
        "    # Using 64 filters(understand it as a depth)\n",
        "    # As the output spatial volume is decreasing, \n",
        "    # the number of filters learned is increasing\n",
        "    layers.Conv2D(filters=32, kernel_size=(1, 1), activation='relu'),\n",
        "    # Max pooling is used to redue the spatial dimensions\n",
        "    #layers.MaxPooling2D((1, 1)),\n",
        "    # 'Flatten' converts matrix to single array\n",
        "    layers.Flatten(),\n",
        "    # 'Dense' is the actual network layer in the model\n",
        "    # 32 neurons\n",
        "    layers.Dense(32, activation='relu'),\n",
        "    # 4 neurons\n",
        "    layers.Dense(4, activation='softmax')\n",
        "])"
      ],
      "metadata": {
        "id": "c7eTFZAOdyU9"
      },
      "execution_count": null,
      "outputs": []
    },
    {
      "cell_type": "code",
      "source": [
        "cnn.summary()"
      ],
      "metadata": {
        "colab": {
          "base_uri": "https://localhost:8080/"
        },
        "id": "S2Fi2qnaeh9K",
        "outputId": "47a01d72-6126-49a4-f029-d3448409d79f"
      },
      "execution_count": null,
      "outputs": [
        {
          "output_type": "stream",
          "name": "stdout",
          "text": [
            "Model: \"sequential\"\n",
            "_________________________________________________________________\n",
            " Layer (type)                Output Shape              Param #   \n",
            "=================================================================\n",
            " conv2d (Conv2D)             (None, 1, 8, 64)          640       \n",
            "                                                                 \n",
            " conv2d_1 (Conv2D)           (None, 1, 8, 32)          2080      \n",
            "                                                                 \n",
            " flatten (Flatten)           (None, 256)               0         \n",
            "                                                                 \n",
            " dense (Dense)               (None, 32)                8224      \n",
            "                                                                 \n",
            " dense_1 (Dense)             (None, 4)                 132       \n",
            "                                                                 \n",
            "=================================================================\n",
            "Total params: 11,076\n",
            "Trainable params: 11,076\n",
            "Non-trainable params: 0\n",
            "_________________________________________________________________\n"
          ]
        }
      ]
    },
    {
      "cell_type": "code",
      "source": [
        "cnn.compile(optimizer='adam',\n",
        "              loss='binary_crossentropy',\n",
        "              metrics=['accuracy'])"
      ],
      "metadata": {
        "id": "46SgrBoyuXng"
      },
      "execution_count": null,
      "outputs": []
    },
    {
      "cell_type": "code",
      "source": [
        "from keras.callbacks import ModelCheckpoint\n",
        "\n",
        "checkpoint = ModelCheckpoint(\"model_weights.h5\", monitor='val_acc', verbose=1, save_best_only=True, mode='max')\n",
        "callbacks_list = [checkpoint]\n"
      ],
      "metadata": {
        "id": "cCxMTPnFAoMD"
      },
      "execution_count": null,
      "outputs": []
    },
    {
      "cell_type": "markdown",
      "source": [
        ""
      ],
      "metadata": {
        "id": "BRSVNRW8Yc2i"
      }
    },
    {
      "cell_type": "code",
      "source": [
        "# Fit the model\n",
        "history = cnn.fit(X_train, y_train, validation_data=(X_test, y_test), epochs=100)\n"
      ],
      "metadata": {
        "colab": {
          "base_uri": "https://localhost:8080/"
        },
        "id": "z_Fkrki3uZEl",
        "outputId": "04ea40df-b92d-4e3f-fa12-dae400bf6553"
      },
      "execution_count": null,
      "outputs": [
        {
          "output_type": "stream",
          "name": "stdout",
          "text": [
            "Epoch 1/100\n",
            "3006/3006 [==============================] - 24s 4ms/step - loss: 0.2740 - accuracy: 0.7964 - val_loss: 0.0317 - val_accuracy: 0.9917\n",
            "Epoch 2/100\n",
            "3006/3006 [==============================] - 12s 4ms/step - loss: 0.0219 - accuracy: 0.9903 - val_loss: 0.0126 - val_accuracy: 0.9960\n",
            "Epoch 3/100\n",
            "3006/3006 [==============================] - 11s 4ms/step - loss: 0.0120 - accuracy: 0.9941 - val_loss: 0.0038 - val_accuracy: 0.9980\n",
            "Epoch 4/100\n",
            "3006/3006 [==============================] - 11s 4ms/step - loss: 0.0081 - accuracy: 0.9957 - val_loss: 0.0366 - val_accuracy: 0.9795\n",
            "Epoch 5/100\n",
            "3006/3006 [==============================] - 11s 4ms/step - loss: 0.0085 - accuracy: 0.9952 - val_loss: 0.0059 - val_accuracy: 0.9978\n",
            "Epoch 6/100\n",
            "3006/3006 [==============================] - 11s 4ms/step - loss: 0.0081 - accuracy: 0.9957 - val_loss: 0.0175 - val_accuracy: 0.9870\n",
            "Epoch 7/100\n",
            "3006/3006 [==============================] - 11s 4ms/step - loss: 0.0072 - accuracy: 0.9957 - val_loss: 0.0012 - val_accuracy: 0.9993\n",
            "Epoch 8/100\n",
            "3006/3006 [==============================] - 11s 4ms/step - loss: 0.0059 - accuracy: 0.9962 - val_loss: 0.0217 - val_accuracy: 0.9846\n",
            "Epoch 9/100\n",
            "3006/3006 [==============================] - 11s 4ms/step - loss: 0.0072 - accuracy: 0.9955 - val_loss: 8.5103e-04 - val_accuracy: 0.9995\n",
            "Epoch 10/100\n",
            "3006/3006 [==============================] - 11s 4ms/step - loss: 0.0062 - accuracy: 0.9964 - val_loss: 0.0044 - val_accuracy: 0.9973\n",
            "Epoch 11/100\n",
            "3006/3006 [==============================] - 11s 4ms/step - loss: 0.0060 - accuracy: 0.9964 - val_loss: 0.0216 - val_accuracy: 0.9861\n",
            "Epoch 12/100\n",
            "3006/3006 [==============================] - 11s 4ms/step - loss: 0.0063 - accuracy: 0.9960 - val_loss: 0.0012 - val_accuracy: 0.9991\n",
            "Epoch 13/100\n",
            "3006/3006 [==============================] - 11s 4ms/step - loss: 0.0053 - accuracy: 0.9969 - val_loss: 0.0022 - val_accuracy: 0.9984\n",
            "Epoch 14/100\n",
            "3006/3006 [==============================] - 11s 4ms/step - loss: 0.0056 - accuracy: 0.9967 - val_loss: 0.0025 - val_accuracy: 0.9997\n",
            "Epoch 15/100\n",
            "3006/3006 [==============================] - 11s 4ms/step - loss: 0.0058 - accuracy: 0.9964 - val_loss: 8.4178e-04 - val_accuracy: 0.9995\n",
            "Epoch 16/100\n",
            "3006/3006 [==============================] - 11s 4ms/step - loss: 0.0050 - accuracy: 0.9970 - val_loss: 0.0019 - val_accuracy: 0.9998\n",
            "Epoch 17/100\n",
            "3006/3006 [==============================] - 12s 4ms/step - loss: 0.0053 - accuracy: 0.9970 - val_loss: 0.0021 - val_accuracy: 0.9985\n",
            "Epoch 18/100\n",
            "3006/3006 [==============================] - 11s 4ms/step - loss: 0.0045 - accuracy: 0.9972 - val_loss: 0.0025 - val_accuracy: 0.9983\n",
            "Epoch 19/100\n",
            "3006/3006 [==============================] - 11s 4ms/step - loss: 0.0051 - accuracy: 0.9968 - val_loss: 8.6332e-04 - val_accuracy: 0.9993\n",
            "Epoch 20/100\n",
            "3006/3006 [==============================] - 11s 4ms/step - loss: 0.0057 - accuracy: 0.9968 - val_loss: 5.7113e-04 - val_accuracy: 1.0000\n",
            "Epoch 21/100\n",
            "3006/3006 [==============================] - 11s 4ms/step - loss: 0.0050 - accuracy: 0.9970 - val_loss: 6.3028e-04 - val_accuracy: 0.9998\n",
            "Epoch 22/100\n",
            "3006/3006 [==============================] - 13s 4ms/step - loss: 0.0041 - accuracy: 0.9977 - val_loss: 0.0091 - val_accuracy: 0.9937\n",
            "Epoch 23/100\n",
            "3006/3006 [==============================] - 13s 4ms/step - loss: 0.0039 - accuracy: 0.9976 - val_loss: 0.0055 - val_accuracy: 0.9962\n",
            "Epoch 24/100\n",
            "3006/3006 [==============================] - 11s 4ms/step - loss: 0.0052 - accuracy: 0.9972 - val_loss: 3.0419e-04 - val_accuracy: 0.9999\n",
            "Epoch 25/100\n",
            "3006/3006 [==============================] - 11s 4ms/step - loss: 0.0055 - accuracy: 0.9968 - val_loss: 0.0015 - val_accuracy: 0.9989\n",
            "Epoch 26/100\n",
            "3006/3006 [==============================] - 11s 4ms/step - loss: 0.0037 - accuracy: 0.9977 - val_loss: 0.0046 - val_accuracy: 0.9965\n",
            "Epoch 27/100\n",
            "3006/3006 [==============================] - 11s 4ms/step - loss: 0.0037 - accuracy: 0.9977 - val_loss: 7.3578e-04 - val_accuracy: 1.0000\n",
            "Epoch 28/100\n",
            "3006/3006 [==============================] - 11s 4ms/step - loss: 0.0041 - accuracy: 0.9975 - val_loss: 0.0033 - val_accuracy: 0.9975\n",
            "Epoch 29/100\n",
            "3006/3006 [==============================] - 11s 4ms/step - loss: 0.0038 - accuracy: 0.9977 - val_loss: 0.0019 - val_accuracy: 0.9985\n",
            "Epoch 30/100\n",
            "3006/3006 [==============================] - 11s 4ms/step - loss: 0.0046 - accuracy: 0.9976 - val_loss: 0.0015 - val_accuracy: 0.9989\n",
            "Epoch 31/100\n",
            "3006/3006 [==============================] - 11s 4ms/step - loss: 0.0026 - accuracy: 0.9985 - val_loss: 6.9911e-04 - val_accuracy: 0.9995\n",
            "Epoch 32/100\n",
            "3006/3006 [==============================] - 11s 4ms/step - loss: 0.0032 - accuracy: 0.9979 - val_loss: 0.0033 - val_accuracy: 0.9978\n",
            "Epoch 33/100\n",
            "3006/3006 [==============================] - 11s 4ms/step - loss: 0.0035 - accuracy: 0.9980 - val_loss: 2.9082e-04 - val_accuracy: 1.0000\n",
            "Epoch 34/100\n",
            "3006/3006 [==============================] - 11s 4ms/step - loss: 0.0050 - accuracy: 0.9974 - val_loss: 8.9166e-04 - val_accuracy: 0.9995\n",
            "Epoch 35/100\n",
            "3006/3006 [==============================] - 13s 4ms/step - loss: 0.0029 - accuracy: 0.9984 - val_loss: 5.5850e-04 - val_accuracy: 0.9995\n",
            "Epoch 36/100\n",
            "3006/3006 [==============================] - 11s 4ms/step - loss: 0.0042 - accuracy: 0.9976 - val_loss: 0.0011 - val_accuracy: 0.9993\n",
            "Epoch 37/100\n",
            "3006/3006 [==============================] - 11s 4ms/step - loss: 0.0034 - accuracy: 0.9983 - val_loss: 5.6276e-04 - val_accuracy: 0.9999\n",
            "Epoch 38/100\n",
            "3006/3006 [==============================] - 11s 4ms/step - loss: 0.0032 - accuracy: 0.9981 - val_loss: 0.0025 - val_accuracy: 0.9983\n",
            "Epoch 39/100\n",
            "3006/3006 [==============================] - 11s 4ms/step - loss: 0.0033 - accuracy: 0.9981 - val_loss: 9.4334e-04 - val_accuracy: 0.9993\n",
            "Epoch 40/100\n",
            "3006/3006 [==============================] - 11s 4ms/step - loss: 0.0032 - accuracy: 0.9982 - val_loss: 3.6574e-04 - val_accuracy: 0.9999\n",
            "Epoch 41/100\n",
            "3006/3006 [==============================] - 11s 4ms/step - loss: 0.0043 - accuracy: 0.9977 - val_loss: 8.8104e-04 - val_accuracy: 0.9993\n",
            "Epoch 42/100\n",
            "3006/3006 [==============================] - 12s 4ms/step - loss: 0.0025 - accuracy: 0.9985 - val_loss: 1.5197e-04 - val_accuracy: 1.0000\n",
            "Epoch 43/100\n",
            "3006/3006 [==============================] - 11s 4ms/step - loss: 0.0035 - accuracy: 0.9981 - val_loss: 8.9675e-04 - val_accuracy: 0.9995\n",
            "Epoch 44/100\n",
            "3006/3006 [==============================] - 11s 4ms/step - loss: 0.0032 - accuracy: 0.9983 - val_loss: 3.4056e-04 - val_accuracy: 0.9999\n",
            "Epoch 45/100\n",
            "3006/3006 [==============================] - 11s 4ms/step - loss: 0.0025 - accuracy: 0.9987 - val_loss: 1.4427e-04 - val_accuracy: 1.0000\n",
            "Epoch 46/100\n",
            "3006/3006 [==============================] - 11s 4ms/step - loss: 0.0028 - accuracy: 0.9983 - val_loss: 1.7661e-04 - val_accuracy: 1.0000\n",
            "Epoch 47/100\n",
            "3006/3006 [==============================] - 11s 4ms/step - loss: 0.0027 - accuracy: 0.9985 - val_loss: 1.8433e-04 - val_accuracy: 1.0000\n",
            "Epoch 48/100\n",
            "3006/3006 [==============================] - 11s 4ms/step - loss: 0.0037 - accuracy: 0.9979 - val_loss: 4.5513e-04 - val_accuracy: 0.9999\n",
            "Epoch 49/100\n",
            "3006/3006 [==============================] - 11s 4ms/step - loss: 0.0024 - accuracy: 0.9986 - val_loss: 1.5097e-04 - val_accuracy: 1.0000\n",
            "Epoch 50/100\n",
            "3006/3006 [==============================] - 13s 4ms/step - loss: 0.0036 - accuracy: 0.9979 - val_loss: 2.2687e-04 - val_accuracy: 0.9998\n",
            "Epoch 51/100\n",
            "3006/3006 [==============================] - 11s 4ms/step - loss: 0.0025 - accuracy: 0.9987 - val_loss: 0.0662 - val_accuracy: 0.9422\n",
            "Epoch 52/100\n",
            "3006/3006 [==============================] - 11s 4ms/step - loss: 0.0028 - accuracy: 0.9985 - val_loss: 5.4414e-04 - val_accuracy: 0.9995\n",
            "Epoch 53/100\n",
            "3006/3006 [==============================] - 11s 4ms/step - loss: 0.0023 - accuracy: 0.9986 - val_loss: 0.0021 - val_accuracy: 0.9985\n",
            "Epoch 54/100\n",
            "3006/3006 [==============================] - 13s 4ms/step - loss: 0.0023 - accuracy: 0.9986 - val_loss: 5.8684e-04 - val_accuracy: 1.0000\n",
            "Epoch 55/100\n",
            "3006/3006 [==============================] - 11s 4ms/step - loss: 0.0026 - accuracy: 0.9988 - val_loss: 1.7427e-04 - val_accuracy: 1.0000\n",
            "Epoch 56/100\n",
            "3006/3006 [==============================] - 11s 4ms/step - loss: 0.0028 - accuracy: 0.9985 - val_loss: 4.8406e-04 - val_accuracy: 1.0000\n",
            "Epoch 57/100\n",
            "3006/3006 [==============================] - 11s 4ms/step - loss: 0.0026 - accuracy: 0.9986 - val_loss: 1.1057e-04 - val_accuracy: 1.0000\n",
            "Epoch 58/100\n",
            "3006/3006 [==============================] - 11s 4ms/step - loss: 0.0014 - accuracy: 0.9992 - val_loss: 5.4857e-05 - val_accuracy: 1.0000\n",
            "Epoch 59/100\n",
            "3006/3006 [==============================] - 11s 4ms/step - loss: 0.0032 - accuracy: 0.9983 - val_loss: 7.2586e-04 - val_accuracy: 0.9994\n",
            "Epoch 60/100\n",
            "3006/3006 [==============================] - 12s 4ms/step - loss: 0.0024 - accuracy: 0.9987 - val_loss: 1.7739e-04 - val_accuracy: 1.0000\n",
            "Epoch 61/100\n",
            "3006/3006 [==============================] - 11s 4ms/step - loss: 0.0020 - accuracy: 0.9989 - val_loss: 1.3591e-04 - val_accuracy: 1.0000\n",
            "Epoch 62/100\n",
            "3006/3006 [==============================] - 11s 4ms/step - loss: 0.0015 - accuracy: 0.9991 - val_loss: 0.0026 - val_accuracy: 0.9982\n",
            "Epoch 63/100\n",
            "3006/3006 [==============================] - 11s 4ms/step - loss: 0.0028 - accuracy: 0.9985 - val_loss: 9.8103e-05 - val_accuracy: 1.0000\n",
            "Epoch 64/100\n",
            "3006/3006 [==============================] - 11s 4ms/step - loss: 0.0016 - accuracy: 0.9990 - val_loss: 0.0013 - val_accuracy: 0.9994\n",
            "Epoch 65/100\n",
            "3006/3006 [==============================] - 11s 4ms/step - loss: 0.0018 - accuracy: 0.9990 - val_loss: 0.0010 - val_accuracy: 0.9993\n",
            "Epoch 66/100\n",
            "3006/3006 [==============================] - 12s 4ms/step - loss: 0.0019 - accuracy: 0.9989 - val_loss: 8.7124e-05 - val_accuracy: 1.0000\n",
            "Epoch 67/100\n",
            "3006/3006 [==============================] - 11s 4ms/step - loss: 0.0037 - accuracy: 0.9983 - val_loss: 1.8410e-04 - val_accuracy: 0.9999\n",
            "Epoch 68/100\n",
            "3006/3006 [==============================] - 12s 4ms/step - loss: 0.0013 - accuracy: 0.9993 - val_loss: 6.9389e-04 - val_accuracy: 1.0000\n",
            "Epoch 69/100\n",
            "3006/3006 [==============================] - 11s 4ms/step - loss: 0.0020 - accuracy: 0.9991 - val_loss: 5.4400e-05 - val_accuracy: 1.0000\n",
            "Epoch 70/100\n",
            "3006/3006 [==============================] - 13s 4ms/step - loss: 0.0022 - accuracy: 0.9988 - val_loss: 2.0170e-04 - val_accuracy: 0.9999\n",
            "Epoch 71/100\n",
            "3006/3006 [==============================] - 11s 4ms/step - loss: 0.0017 - accuracy: 0.9990 - val_loss: 1.2888e-04 - val_accuracy: 0.9999\n",
            "Epoch 72/100\n",
            "3006/3006 [==============================] - 11s 4ms/step - loss: 0.0015 - accuracy: 0.9991 - val_loss: 3.6212e-05 - val_accuracy: 1.0000\n",
            "Epoch 73/100\n",
            "3006/3006 [==============================] - 11s 4ms/step - loss: 0.0014 - accuracy: 0.9992 - val_loss: 0.0019 - val_accuracy: 0.9988\n",
            "Epoch 74/100\n",
            "3006/3006 [==============================] - 11s 4ms/step - loss: 0.0022 - accuracy: 0.9986 - val_loss: 2.4602e-04 - val_accuracy: 1.0000\n",
            "Epoch 75/100\n",
            "3006/3006 [==============================] - 11s 4ms/step - loss: 6.8811e-04 - accuracy: 0.9995 - val_loss: 3.9775e-05 - val_accuracy: 1.0000\n",
            "Epoch 76/100\n",
            "3006/3006 [==============================] - 11s 4ms/step - loss: 0.0021 - accuracy: 0.9989 - val_loss: 4.3176e-05 - val_accuracy: 1.0000\n",
            "Epoch 77/100\n",
            "3006/3006 [==============================] - 11s 4ms/step - loss: 0.0011 - accuracy: 0.9994 - val_loss: 0.0014 - val_accuracy: 0.9990\n",
            "Epoch 78/100\n",
            "3006/3006 [==============================] - 13s 4ms/step - loss: 0.0018 - accuracy: 0.9989 - val_loss: 3.6438e-04 - val_accuracy: 0.9995\n",
            "Epoch 79/100\n",
            "3006/3006 [==============================] - 11s 4ms/step - loss: 0.0026 - accuracy: 0.9985 - val_loss: 1.5330e-04 - val_accuracy: 1.0000\n",
            "Epoch 80/100\n",
            "3006/3006 [==============================] - 11s 4ms/step - loss: 0.0016 - accuracy: 0.9991 - val_loss: 1.4374e-04 - val_accuracy: 1.0000\n",
            "Epoch 81/100\n",
            "3006/3006 [==============================] - 11s 4ms/step - loss: 0.0023 - accuracy: 0.9989 - val_loss: 0.0036 - val_accuracy: 0.9978\n",
            "Epoch 82/100\n",
            "3006/3006 [==============================] - 11s 4ms/step - loss: 0.0020 - accuracy: 0.9990 - val_loss: 2.8580e-04 - val_accuracy: 0.9998\n",
            "Epoch 83/100\n",
            "3006/3006 [==============================] - 11s 4ms/step - loss: 0.0019 - accuracy: 0.9989 - val_loss: 1.9725e-04 - val_accuracy: 0.9998\n",
            "Epoch 84/100\n",
            "3006/3006 [==============================] - 11s 4ms/step - loss: 0.0019 - accuracy: 0.9990 - val_loss: 6.9009e-05 - val_accuracy: 1.0000\n",
            "Epoch 85/100\n",
            "3006/3006 [==============================] - 11s 4ms/step - loss: 0.0013 - accuracy: 0.9993 - val_loss: 4.3737e-05 - val_accuracy: 1.0000\n",
            "Epoch 86/100\n",
            "3006/3006 [==============================] - 11s 4ms/step - loss: 0.0015 - accuracy: 0.9991 - val_loss: 6.7217e-04 - val_accuracy: 0.9994\n",
            "Epoch 87/100\n",
            "3006/3006 [==============================] - 11s 4ms/step - loss: 0.0021 - accuracy: 0.9989 - val_loss: 8.4625e-05 - val_accuracy: 1.0000\n",
            "Epoch 88/100\n",
            "3006/3006 [==============================] - 11s 4ms/step - loss: 0.0013 - accuracy: 0.9993 - val_loss: 2.5048e-04 - val_accuracy: 0.9998\n",
            "Epoch 89/100\n",
            "3006/3006 [==============================] - 12s 4ms/step - loss: 0.0024 - accuracy: 0.9990 - val_loss: 1.3322e-04 - val_accuracy: 1.0000\n",
            "Epoch 90/100\n",
            "3006/3006 [==============================] - 12s 4ms/step - loss: 0.0018 - accuracy: 0.9992 - val_loss: 1.9631e-04 - val_accuracy: 1.0000\n",
            "Epoch 91/100\n",
            "3006/3006 [==============================] - 11s 4ms/step - loss: 0.0011 - accuracy: 0.9992 - val_loss: 8.6724e-05 - val_accuracy: 1.0000\n",
            "Epoch 92/100\n",
            "3006/3006 [==============================] - 11s 4ms/step - loss: 0.0016 - accuracy: 0.9991 - val_loss: 4.0480e-04 - val_accuracy: 0.9998\n",
            "Epoch 93/100\n",
            "3006/3006 [==============================] - 11s 4ms/step - loss: 0.0018 - accuracy: 0.9991 - val_loss: 5.6284e-05 - val_accuracy: 1.0000\n",
            "Epoch 94/100\n",
            "3006/3006 [==============================] - 11s 4ms/step - loss: 0.0010 - accuracy: 0.9994 - val_loss: 3.4229e-05 - val_accuracy: 1.0000\n",
            "Epoch 95/100\n",
            "3006/3006 [==============================] - 11s 4ms/step - loss: 0.0014 - accuracy: 0.9992 - val_loss: 6.1716e-05 - val_accuracy: 1.0000\n",
            "Epoch 96/100\n",
            "3006/3006 [==============================] - 11s 4ms/step - loss: 0.0019 - accuracy: 0.9989 - val_loss: 3.4384e-05 - val_accuracy: 1.0000\n",
            "Epoch 97/100\n",
            "3006/3006 [==============================] - 11s 4ms/step - loss: 0.0014 - accuracy: 0.9993 - val_loss: 5.8923e-05 - val_accuracy: 1.0000\n",
            "Epoch 98/100\n",
            "3006/3006 [==============================] - 12s 4ms/step - loss: 7.7551e-04 - accuracy: 0.9995 - val_loss: 3.4393e-05 - val_accuracy: 1.0000\n",
            "Epoch 99/100\n",
            "3006/3006 [==============================] - 11s 4ms/step - loss: 0.0017 - accuracy: 0.9989 - val_loss: 1.1737e-04 - val_accuracy: 1.0000\n",
            "Epoch 100/100\n",
            "3006/3006 [==============================] - 11s 4ms/step - loss: 0.0012 - accuracy: 0.9995 - val_loss: 4.5940e-05 - val_accuracy: 1.0000\n"
          ]
        }
      ]
    },
    {
      "cell_type": "code",
      "source": [
        "# serialize model structure to JSON\n",
        "model_json = cnn.to_json()\n",
        "with open(\"model.json\", \"w\") as json_file:\n",
        "    json_file.write(model_json)"
      ],
      "metadata": {
        "id": "_zXlKEw8_aSw"
      },
      "execution_count": null,
      "outputs": []
    },
    {
      "cell_type": "code",
      "source": [
        "# summarize history for accuracy\n",
        "plt.plot(history.history['accuracy'])\n",
        "plt.plot(history.history['val_accuracy'])\n",
        "plt.title('model accuracy')\n",
        "plt.ylabel('accuracy')\n",
        "plt.xlabel('epoch')\n",
        "plt.legend(['train', 'test'], loc='upper left')\n",
        "plt.show()\n",
        "# summarize history for loss\n",
        "plt.plot(history.history['loss'])\n",
        "plt.plot(history.history['val_loss'])\n",
        "plt.title('model loss')\n",
        "plt.ylabel('loss')\n",
        "plt.xlabel('epoch')\n",
        "plt.legend(['train', 'test'], loc='upper left')\n",
        "plt.show()"
      ],
      "metadata": {
        "colab": {
          "base_uri": "https://localhost:8080/",
          "height": 573
        },
        "id": "K47yZfKZq7np",
        "outputId": "53a2a9d5-de03-4da8-f9dc-7d5ca668d6e8"
      },
      "execution_count": null,
      "outputs": [
        {
          "output_type": "display_data",
          "data": {
            "text/plain": [
              "<Figure size 432x288 with 1 Axes>"
            ],
            "image/png": "[encoded data removed]"
          },
          "metadata": {
            "needs_background": "light"
          }
        },
        {
          "output_type": "display_data",
          "data": {
            "text/plain": [
              "<Figure size 432x288 with 1 Axes>"
            ],
            "image/png": "[encoded data removed]"
          },
          "metadata": {
            "needs_background": "light"
          }
        }
      ]
    },
    {
      "cell_type": "code",
      "source": [
        "from sklearn.metrics import ConfusionMatrixDisplay\n",
        "from sklearn.metrics import confusion_matrix"
      ],
      "metadata": {
        "id": "0zOp91XihKvC"
      },
      "execution_count": null,
      "outputs": []
    },
    {
      "cell_type": "code",
      "source": [
        "y_pred=cnn.predict(X_test) \n"
      ],
      "metadata": {
        "id": "H_yHDsgEht9x"
      },
      "execution_count": null,
      "outputs": []
    },
    {
      "cell_type": "code",
      "source": [
        "print(y_test.shape)\n",
        "print(y_pred.shape)"
      ],
      "metadata": {
        "colab": {
          "base_uri": "https://localhost:8080/"
        },
        "id": "olGJHjf6hFTX",
        "outputId": "0dd3a7d8-04f4-406a-8821-1605f160780d"
      },
      "execution_count": null,
      "outputs": [
        {
          "output_type": "stream",
          "name": "stdout",
          "text": [
            "(24042, 4)\n",
            "(24042, 4)\n"
          ]
        }
      ]
    },
    {
      "cell_type": "code",
      "source": [
        "y_pred=np.argmax(y_pred, axis=1)\n",
        "y_test=np.argmax(y_test, axis=1)\n",
        "cm = confusion_matrix(y_test, y_pred)\n",
        "print(cm)"
      ],
      "metadata": {
        "colab": {
          "base_uri": "https://localhost:8080/"
        },
        "id": "MG6Mx3YAibXA",
        "outputId": "882da3b5-b732-4863-ab9f-4a4625187fd1"
      },
      "execution_count": null,
      "outputs": [
        {
          "output_type": "stream",
          "name": "stdout",
          "text": [
            "[[6034    0    0    0]\n",
            " [   0 5983    0    0]\n",
            " [   0    0 6010    0]\n",
            " [   0    0    0 6015]]\n"
          ]
        }
      ]
    },
    {
      "cell_type": "code",
      "source": [
        "#cm = confusion_matrix(y_test, y_pred)\n",
        "labels = [\"GrippingLeftFaster\", \"GrippingLeft\", \"GrippingOnly\",\"GrippingWIthDiffForce\"]\n",
        "disp = ConfusionMatrixDisplay(confusion_matrix=cm, display_labels=labels)\n",
        "\n",
        "disp.plot(cmap=plt.cm.Blues)\n",
        "plt.show()"
      ],
      "metadata": {
        "colab": {
          "base_uri": "https://localhost:8080/",
          "height": 282
        },
        "id": "IZB5HSrJf-pr",
        "outputId": "3572c19b-dc42-4db0-9e76-7f938acec7c5"
      },
      "execution_count": null,
      "outputs": [
        {
          "output_type": "display_data",
          "data": {
            "text/plain": [
              "<Figure size 432x288 with 2 Axes>"
            ],
            "image/png": "[encoded data removed]"
          },
          "metadata": {
            "needs_background": "light"
          }
        }
      ]
    },
    {
      "cell_type": "markdown",
      "source": [
        "Saving our model in SavedModel format"
      ],
      "metadata": {
        "id": "nTeCgoZjTMiS"
      }
    },
    {
      "cell_type": "code",
      "source": [
        "from tensorflow.keras.models import Sequential, save_model, load_model\n",
        "\n",
        "# Save the model\n",
        "filepath = './saved_model'\n",
        "save_model(model, filepath)"
      ],
      "metadata": {
        "id": "SQ2xWMU8SxsW"
      },
      "execution_count": null,
      "outputs": []
    },
    {
      "cell_type": "markdown",
      "source": [
        "Loading the model"
      ],
      "metadata": {
        "id": "Tq-5__zHTTrN"
      }
    },
    {
      "cell_type": "code",
      "source": [
        "# Load the model\n",
        "model = load_model(filepath, compile = True)"
      ],
      "metadata": {
        "id": "vzITIkFiTU-b"
      },
      "execution_count": null,
      "outputs": []
    },
    {
      "cell_type": "code",
      "source": [
        ""
      ],
      "metadata": {
        "id": "xgYq_VF_YmfL"
      },
      "execution_count": null,
      "outputs": []
    },
    {
      "cell_type": "code",
      "source": [
        "from keras.models import model_from_json\n",
        "import numpy as np\n",
        "\n",
        "class FacialExpressionModel(object):\n",
        "\n",
        "    EMOTIONS_LIST = [\"DiffForceLeft\", \"GrippingLeft\",\n",
        "                     \"GrippingOnly\", \"GrippingWithDiffForce\"]\n",
        "\n",
        "    def __init__(self, model_json_file, model_weights_file):\n",
        "        # load model from JSON file\n",
        "        with open(model_json_file, \"r\") as json_file:\n",
        "            loaded_model_json = json_file.read()\n",
        "            self.loaded_model = model_from_json(loaded_model_json)\n",
        "\n",
        "        # load weights into the new model\n",
        "        self.loaded_model.load_weights(model_weights_file)\n",
        "        self.loaded_model._make_predict_function()\n",
        "\n",
        "    def predict_emotion(self, img):\n",
        "        self.preds = self.loaded_model.predict(img)\n",
        "        return FacialExpressionModel.EMOTIONS_LIST[np.argmax(self.preds)]"
      ],
      "metadata": {
        "id": "rXBiqbJnkGzQ"
      },
      "execution_count": null,
      "outputs": []
    },
    {
      "cell_type": "markdown",
      "source": [
        "\n",
        "*   get the image stream from our webcam\n",
        "*   detect faces with OpenCV and add bounding boxes\n",
        "*   convert the faces to greyscale, rescale them and send them to our pre-trained Neural Network\n",
        "*   get the predictions back from our Neural Network and *   add the label to the webcam image\n",
        "*   return the final image stream\n",
        "\n"
      ],
      "metadata": {
        "id": "5-mexqfSEoNJ"
      }
    },
    {
      "cell_type": "code",
      "source": [
        "import cv2\n",
        "from model import FacialExpressionModel\n",
        "import numpy as np\n",
        "\n",
        "facec = cv2.CascadeClassifier('haarcascade_frontalface_default.xml')\n",
        "model = FacialExpressionModel(\"model.json\", \"model_weights.h5\")\n",
        "font = cv2.FONT_HERSHEY_SIMPLEX\n",
        "\n",
        "class VideoCamera(object):\n",
        "\n",
        "    # returns camera frames along with bounding boxes and predictions\n",
        "    def get_frame(self):\n",
        "        _, fr = self.video.read()\n",
        "        gray_fr = cv2.cvtColor(fr, cv2.COLOR_BGR2GRAY)\n",
        "        faces = facec.detectMultiScale(gray_fr, 1.3, 5)\n",
        "\n",
        "        for (x, y, w, h) in faces:\n",
        "            fc = gray_fr[y:y+h, x:x+w]\n",
        "\n",
        "            roi = cv2.resize(fc, (48, 48))\n",
        "            pred = model.predict_emotion(roi[np.newaxis, :, :, np.newaxis])\n",
        "\n",
        "            cv2.putText(fr, pred, (x, y), font, 1, (255, 255, 0), 2)\n",
        "            cv2.rectangle(fr,(x,y),(x+w,y+h),(255,0,0),2)\n",
        "\n",
        "        _, jpeg = cv2.imencode('.jpg', fr)\n",
        "        return jpeg.tobytes()"
      ],
      "metadata": {
        "id": "Uz5_ceF7E1LY",
        "colab": {
          "base_uri": "https://localhost:8080/",
          "height": 374
        },
        "outputId": "0f812e51-597e-4c39-9bd7-93d39e0ebbc6"
      },
      "execution_count": null,
      "outputs": [
        {
          "output_type": "error",
          "ename": "ModuleNotFoundError",
          "evalue": "ignored",
          "traceback": [
            "\u001b[0;31m---------------------------------------------------------------------------\u001b[0m",
            "\u001b[0;31mModuleNotFoundError\u001b[0m                       Traceback (most recent call last)",
            "\u001b[0;32m<ipython-input-30-a3ca7e2a0016>\u001b[0m in \u001b[0;36m<module>\u001b[0;34m()\u001b[0m\n\u001b[1;32m      1\u001b[0m \u001b[0;32mimport\u001b[0m \u001b[0mcv2\u001b[0m\u001b[0;34m\u001b[0m\u001b[0;34m\u001b[0m\u001b[0m\n\u001b[0;32m----> 2\u001b[0;31m \u001b[0;32mfrom\u001b[0m \u001b[0mmodel\u001b[0m \u001b[0;32mimport\u001b[0m \u001b[0mFacialExpressionModel\u001b[0m\u001b[0;34m\u001b[0m\u001b[0;34m\u001b[0m\u001b[0m\n\u001b[0m\u001b[1;32m      3\u001b[0m \u001b[0;32mimport\u001b[0m \u001b[0mnumpy\u001b[0m \u001b[0;32mas\u001b[0m \u001b[0mnp\u001b[0m\u001b[0;34m\u001b[0m\u001b[0;34m\u001b[0m\u001b[0m\n\u001b[1;32m      4\u001b[0m \u001b[0;34m\u001b[0m\u001b[0m\n\u001b[1;32m      5\u001b[0m \u001b[0mfacec\u001b[0m \u001b[0;34m=\u001b[0m \u001b[0mcv2\u001b[0m\u001b[0;34m.\u001b[0m\u001b[0mCascadeClassifier\u001b[0m\u001b[0;34m(\u001b[0m\u001b[0;34m'haarcascade_frontalface_default.xml'\u001b[0m\u001b[0;34m)\u001b[0m\u001b[0;34m\u001b[0m\u001b[0;34m\u001b[0m\u001b[0m\n",
            "\u001b[0;31mModuleNotFoundError\u001b[0m: No module named 'model'",
            "",
            "\u001b[0;31m---------------------------------------------------------------------------\u001b[0;32m\nNOTE: If your import is failing due to a missing package, you can\nmanually install dependencies using either !pip or !apt.\n\nTo view examples of installing some common dependencies, click the\n\"Open Examples\" button below.\n\u001b[0;31m---------------------------------------------------------------------------\u001b[0m\n"
          ],
          "errorDetails": {
            "actions": [
              {
                "action": "open_url",
                "actionText": "Open Examples",
                "url": "/notebooks/snippets/importing_libraries.ipynb"
              }
            ]
          }
        }
      ]
    }
  ]
}