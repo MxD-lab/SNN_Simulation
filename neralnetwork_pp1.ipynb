{
  "nbformat": 4,
  "nbformat_minor": 0,
  "metadata": {
    "colab": {
      "name": "neralnetwork_pp1.ipynb",
      "provenance": [],
      "include_colab_link": true
    },
    "kernelspec": {
      "name": "python3",
      "display_name": "Python 3"
    },
    "language_info": {
      "name": "python"
    }
  },
  "cells": [
    {
      "cell_type": "markdown",
      "metadata": {
        "id": "view-in-github",
        "colab_type": "text"
      },
      "source": [
        "<a href=\"https://colab.research.google.com/github/MxD-lab/SNN_Simulation/blob/neralnetwork/neralnetwork_pp1.ipynb\" target=\"_parent\"><img src=\"https://colab.research.google.com/assets/colab-badge.svg\" alt=\"Open In Colab\"/></a>"
      ]
    },
    {
      "cell_type": "markdown",
      "metadata": {
        "id": "mDoqQNyWTZA4"
      },
      "source": [
        ""
      ]
    },
    {
      "cell_type": "code",
      "metadata": {
        "id": "cmHemqNMVycT"
      },
      "source": [
        "# -*- coding: utf-8 -*-\n",
        "import os\n",
        "import pandas as pd\n",
        "import matplotlib\n",
        "import matplotlib.pyplot as plt\n",
        "import numpy as np\n",
        "import math\n",
        "import numpy \n"
      ],
      "execution_count": null,
      "outputs": []
    },
    {
      "cell_type": "code",
      "metadata": {
        "id": "rVfiDGT0TSiz"
      },
      "source": [
        "#シグモイド関数\n",
        "def sigmoid(x):\n",
        "  return 1/(1+np.exp(-x))"
      ],
      "execution_count": null,
      "outputs": []
    },
    {
      "cell_type": "code",
      "metadata": {
        "id": "EtffoYMfTPc1"
      },
      "source": [
        "#交差エントロピー誤差\n",
        "def cross_entropy_error(y,t):\n",
        "  delta = 1e-7\n",
        "  return -np.sum(t*np.log(y+delta))"
      ],
      "execution_count": null,
      "outputs": []
    },
    {
      "cell_type": "code",
      "metadata": {
        "id": "vM8pe9UDRs3V"
      },
      "source": [
        "\"\"\"\n",
        "クラス数　2類の分類\n",
        "x:入力\n",
        "W:重み\n",
        "b:閾値\n",
        "\"\"\"\n",
        "\n",
        "def perceptron(x):\n",
        "\n",
        "  tmp = np.dot(x,W)+b\n",
        "  y  = sigmoid(tmp)\n",
        "\n",
        "  return y"
      ],
      "execution_count": null,
      "outputs": []
    },
    {
      "cell_type": "code",
      "metadata": {
        "colab": {
          "base_uri": "https://localhost:8080/"
        },
        "id": "sZSLLE7KUrlt",
        "outputId": "611a8a44-b506-42ea-b0c2-5d54a3c96e57"
      },
      "source": [
        "\"\"\"\n",
        "入力データの作成\n",
        "\"\"\"\n",
        "x = np.array([[0,0,1,1],[0,1,0,1]])\n",
        "\n",
        "\n",
        "W = np.array([[0.5,0.5,0.5],[0.5,0.5,0.5],[0,0,0],[0,0,0]])\n",
        "b = 0.5\n",
        "perceptron(x)\n",
        "\n",
        "#perceptron_3(perceptron_2(x1,x2),perceptron_2(x1,x2),perceptron_2(x1,x2))\n"
      ],
      "execution_count": null,
      "outputs": [
        {
          "output_type": "execute_result",
          "data": {
            "text/plain": [
              "array([[0.62245933, 0.62245933, 0.62245933],\n",
              "       [0.73105858, 0.73105858, 0.73105858]])"
            ]
          },
          "metadata": {},
          "execution_count": 17
        }
      ]
    },
    {
      "cell_type": "code",
      "metadata": {
        "id": "3BZlWMYObD1C"
      },
      "source": [
        ""
      ],
      "execution_count": null,
      "outputs": []
    },
    {
      "cell_type": "code",
      "metadata": {
        "id": "iUgxJbD0o_zy"
      },
      "source": [
        ""
      ],
      "execution_count": null,
      "outputs": []
    },
    {
      "cell_type": "code",
      "metadata": {
        "id": "HxGiQAg-o_ob"
      },
      "source": [
        ""
      ],
      "execution_count": null,
      "outputs": []
    },
    {
      "cell_type": "code",
      "metadata": {
        "id": "4poqP4Loo_bw"
      },
      "source": [
        "\n",
        "\n",
        "\"\"\"\n",
        "クラス数　2類の分類\n",
        "x:入力\n",
        "W:重み\n",
        "b:閾値\n",
        "\"\"\"\n",
        "\n",
        "def perceptron2(x,W):\n",
        "\n",
        "  tmp = np.dot(x,W)+b\n",
        "  y  = sigmoid(tmp)\n",
        "\n",
        "  return y"
      ],
      "execution_count": null,
      "outputs": []
    },
    {
      "cell_type": "code",
      "metadata": {
        "colab": {
          "base_uri": "https://localhost:8080/"
        },
        "id": "Ui7jl1ERpD2h",
        "outputId": "c8f24784-e4ff-4bd3-8df3-10859aeaa628"
      },
      "source": [
        "\"\"\"\n",
        "入力データの作成\n",
        "\"\"\"\n",
        "x = np.array([[0,0,1,1],[0,1,0,1]])\n",
        "\n",
        "\n",
        "W1 = np.array([[0.5,0.5,0.5],[0.5,0.5,0.5],[0,0,0],[0,0,0]])\n",
        "W2 = np.array([[0.5,0.5,0.5,0.5],[0.5,0.5,0.5,0.5],[0,0,0,0]])\n",
        "\n",
        "b1 = 0.5\n",
        "b2 = 0.3\n",
        "perceptron2(perceptron2(x,W1),W2)\n"
      ],
      "execution_count": null,
      "outputs": [
        {
          "output_type": "execute_result",
          "data": {
            "text/plain": [
              "array([[0.75444461, 0.75444461, 0.75444461, 0.75444461],\n",
              "       [0.7740038 , 0.7740038 , 0.7740038 , 0.7740038 ]])"
            ]
          },
          "metadata": {},
          "execution_count": 25
        }
      ]
    },
    {
      "cell_type": "code",
      "metadata": {
        "id": "BrPIQcknpGdf"
      },
      "source": [
        ""
      ],
      "execution_count": null,
      "outputs": []
    }
  ]
}