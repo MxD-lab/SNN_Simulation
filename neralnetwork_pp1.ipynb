{
  "nbformat": 4,
  "nbformat_minor": 0,
  "metadata": {
    "colab": {
      "name": "neralnetwork_pp1.ipynb",
      "provenance": [],
      "authorship_tag": "ABX9TyMjUlcusV51nvRt6qaRUVvl",
      "include_colab_link": true
    },
    "kernelspec": {
      "name": "python3",
      "display_name": "Python 3"
    },
    "language_info": {
      "name": "python"
    }
  },
  "cells": [
    {
      "cell_type": "markdown",
      "metadata": {
        "id": "view-in-github",
        "colab_type": "text"
      },
      "source": [
        "<a href=\"https://colab.research.google.com/github/MxD-lab/SNN_Simulation/blob/neralnetwork/neralnetwork_pp1.ipynb\" target=\"_parent\"><img src=\"https://colab.research.google.com/assets/colab-badge.svg\" alt=\"Open In Colab\"/></a>"
      ]
    },
    {
      "cell_type": "markdown",
      "metadata": {
        "id": "mDoqQNyWTZA4"
      },
      "source": [
        ""
      ]
    },
    {
      "cell_type": "code",
      "metadata": {
        "id": "cmHemqNMVycT"
      },
      "source": [
        "# -*- coding: utf-8 -*-\n",
        "import os\n",
        "import pandas as pd\n",
        "import matplotlib\n",
        "import matplotlib.pyplot as plt\n",
        "import numpy as np\n",
        "import math\n",
        "import numpy "
      ],
      "execution_count": null,
      "outputs": []
    },
    {
      "cell_type": "code",
      "metadata": {
        "id": "rVfiDGT0TSiz"
      },
      "source": [
        "density_min = 4 #パルス密度の最小値\n",
        "density_max = 50 #パルス密度の最大値"
      ],
      "execution_count": null,
      "outputs": []
    },
    {
      "cell_type": "code",
      "metadata": {
        "id": "EtffoYMfTPc1"
      },
      "source": [
        "\"\"\"\n",
        "入ってきたパルス数を実際に表現したい数値（0～1の少数）に変換\n",
        "\n",
        "\"\"\"\n",
        "\n",
        "def nomalization(input_pulse_count):\n",
        "\n",
        "  nomalized_val= (density_min + density_max-input_pulse_count)/(density_max-density_min)\n",
        " \n",
        "  return nomalized_val\n",
        "\n"
      ],
      "execution_count": null,
      "outputs": []
    },
    {
      "cell_type": "code",
      "metadata": {
        "id": "D3zjk8lZW50p"
      },
      "source": [
        "\"\"\"\n",
        "活性化関数\n",
        "\n",
        "  ReLU関数\n",
        "  input_pp:入力,\n",
        "  n:x切片,\n",
        "  a:傾き\n",
        "\"\"\"\n",
        "\n",
        "def relu(input_pp,n,a):\n",
        "  tmp = a*(input_pp-n)\n",
        "  out = np.maximum(tmp,0)\n",
        "  \n",
        "  return out\n",
        "\n",
        "\n",
        "\n"
      ],
      "execution_count": null,
      "outputs": []
    },
    {
      "cell_type": "code",
      "metadata": {
        "id": "vM8pe9UDRs3V"
      },
      "source": [
        "\"\"\"\n",
        "2入力パーセプトロン1個\n",
        "x1,x2:入力\n",
        "w1,w2:重み\n",
        "b:閾値\n",
        "\"\"\"\n",
        "\n",
        "def perceptron_2(x1,x2):\n",
        "  tmp = x1*w1 + x2*w2 +b\n",
        "  y  = relu(tmp,n,a)\n",
        "  if y<=0:\n",
        "    return 0\n",
        "  elif y > 0:\n",
        "    return 1"
      ],
      "execution_count": null,
      "outputs": []
    },
    {
      "cell_type": "code",
      "metadata": {
        "id": "Ti4w4GjnbSPL"
      },
      "source": [
        "\"\"\"\n",
        "３入力パーセプトロン1個\n",
        "x1,x2,x3:入力\n",
        "w1,w2,w3:重み\n",
        "b:閾値\n",
        "\"\"\"\n",
        "\n",
        "def perceptron_3(x1,x2,x3):\n",
        "  tmp = x1*w1 + x2*w2 + x3*w3 +b\n",
        "  y  = relu(tmp,n,a)\n",
        "  if y<=0:\n",
        "    return 0\n",
        "  elif y > 0:\n",
        "    return 1"
      ],
      "execution_count": null,
      "outputs": []
    },
    {
      "cell_type": "code",
      "metadata": {
        "colab": {
          "base_uri": "https://localhost:8080/",
          "height": 335
        },
        "id": "sZSLLE7KUrlt",
        "outputId": "a7fe48db-7a33-43ff-d202-c6dda8190ead"
      },
      "source": [
        "\"\"\"\n",
        "入力データの作成\n",
        "\"\"\"\n",
        "x1 = np.array([0,0,1,1])\n",
        "x2 = np.array([0,1,0,1])\n",
        "\n",
        "w1 = np.array([[0.5,0.5,0.5],[0.5,0.5,0.5]])\n",
        "w2 = np.array([[0.5],[0.5],[0.5]])\n",
        "\"\"\"\n",
        "ニューラルネットワークを作成\n",
        "入力層：２\n",
        "隠れ層：１\n",
        "出力層：１\n",
        "\"\"\"\n",
        "\n",
        "perceptron_3(perceptron_2(x1,x2),perceptron_2(x1,x2),perceptron_2(x1,x2))\n"
      ],
      "execution_count": null,
      "outputs": [
        {
          "output_type": "error",
          "ename": "ValueError",
          "evalue": "ignored",
          "traceback": [
            "\u001b[0;31m---------------------------------------------------------------------------\u001b[0m",
            "\u001b[0;31mValueError\u001b[0m                                Traceback (most recent call last)",
            "\u001b[0;32m<ipython-input-26-dd35fc851e72>\u001b[0m in \u001b[0;36m<module>\u001b[0;34m()\u001b[0m\n\u001b[1;32m     14\u001b[0m \"\"\"\n\u001b[1;32m     15\u001b[0m \u001b[0;34m\u001b[0m\u001b[0m\n\u001b[0;32m---> 16\u001b[0;31m \u001b[0mperceptron_3\u001b[0m\u001b[0;34m(\u001b[0m\u001b[0mperceptron_2\u001b[0m\u001b[0;34m(\u001b[0m\u001b[0mx1\u001b[0m\u001b[0;34m,\u001b[0m\u001b[0mx2\u001b[0m\u001b[0;34m)\u001b[0m\u001b[0;34m,\u001b[0m\u001b[0mperceptron_2\u001b[0m\u001b[0;34m(\u001b[0m\u001b[0mx1\u001b[0m\u001b[0;34m,\u001b[0m\u001b[0mx2\u001b[0m\u001b[0;34m)\u001b[0m\u001b[0;34m,\u001b[0m\u001b[0mperceptron_2\u001b[0m\u001b[0;34m(\u001b[0m\u001b[0mx1\u001b[0m\u001b[0;34m,\u001b[0m\u001b[0mx2\u001b[0m\u001b[0;34m)\u001b[0m\u001b[0;34m)\u001b[0m\u001b[0;34m\u001b[0m\u001b[0;34m\u001b[0m\u001b[0m\n\u001b[0m",
            "\u001b[0;32m<ipython-input-21-9a0e8c67317b>\u001b[0m in \u001b[0;36mperceptron_2\u001b[0;34m(x1, x2)\u001b[0m\n\u001b[1;32m      7\u001b[0m \u001b[0;34m\u001b[0m\u001b[0m\n\u001b[1;32m      8\u001b[0m \u001b[0;32mdef\u001b[0m \u001b[0mperceptron_2\u001b[0m\u001b[0;34m(\u001b[0m\u001b[0mx1\u001b[0m\u001b[0;34m,\u001b[0m\u001b[0mx2\u001b[0m\u001b[0;34m)\u001b[0m\u001b[0;34m:\u001b[0m\u001b[0;34m\u001b[0m\u001b[0;34m\u001b[0m\u001b[0m\n\u001b[0;32m----> 9\u001b[0;31m   \u001b[0mtmp\u001b[0m \u001b[0;34m=\u001b[0m \u001b[0mx1\u001b[0m\u001b[0;34m*\u001b[0m\u001b[0mw1\u001b[0m \u001b[0;34m+\u001b[0m \u001b[0mx2\u001b[0m\u001b[0;34m*\u001b[0m\u001b[0mw2\u001b[0m \u001b[0;34m+\u001b[0m\u001b[0mb\u001b[0m\u001b[0;34m\u001b[0m\u001b[0;34m\u001b[0m\u001b[0m\n\u001b[0m\u001b[1;32m     10\u001b[0m   \u001b[0my\u001b[0m  \u001b[0;34m=\u001b[0m \u001b[0mrelu\u001b[0m\u001b[0;34m(\u001b[0m\u001b[0mtmp\u001b[0m\u001b[0;34m,\u001b[0m\u001b[0mn\u001b[0m\u001b[0;34m,\u001b[0m\u001b[0ma\u001b[0m\u001b[0;34m)\u001b[0m\u001b[0;34m\u001b[0m\u001b[0;34m\u001b[0m\u001b[0m\n\u001b[1;32m     11\u001b[0m   \u001b[0;32mif\u001b[0m \u001b[0my\u001b[0m\u001b[0;34m<=\u001b[0m\u001b[0;36m0\u001b[0m\u001b[0;34m:\u001b[0m\u001b[0;34m\u001b[0m\u001b[0;34m\u001b[0m\u001b[0m\n",
            "\u001b[0;31mValueError\u001b[0m: operands could not be broadcast together with shapes (4,) (2,3) "
          ]
        }
      ]
    },
    {
      "cell_type": "code",
      "metadata": {
        "id": "3BZlWMYObD1C"
      },
      "source": [
        ""
      ],
      "execution_count": null,
      "outputs": []
    }
  ]
}