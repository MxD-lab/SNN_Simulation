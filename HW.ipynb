{
  "nbformat": 4,
  "nbformat_minor": 0,
  "metadata": {
    "colab": {
      "name": "HW.ipynb",
      "provenance": [],
      "authorship_tag": "ABX9TyPLZ4sHcPVWy1GDgGOmQben",
      "include_colab_link": true
    },
    "kernelspec": {
      "name": "python3",
      "display_name": "Python 3"
    },
    "language_info": {
      "name": "python"
    }
  },
  "cells": [
    {
      "cell_type": "markdown",
      "metadata": {
        "id": "view-in-github",
        "colab_type": "text"
      },
      "source": [
        "<a href=\"https://colab.research.google.com/github/MxD-lab/SNN_Simulation/blob/HW/HW.ipynb\" target=\"_parent\"><img src=\"https://colab.research.google.com/assets/colab-badge.svg\" alt=\"Open In Colab\"/></a>"
      ]
    },
    {
      "cell_type": "code",
      "metadata": {
        "id": "vr3aM6aRfDSg"
      },
      "source": [
        "# -*- coding: utf-8 -*-\n",
        "import os\n",
        "import pandas as pd\n",
        "import matplotlib\n",
        "import matplotlib.pyplot as plt\n",
        "import numpy as np\n",
        "import math\n",
        "import numpy \n",
        "\n"
      ],
      "execution_count": 92,
      "outputs": []
    },
    {
      "cell_type": "code",
      "metadata": {
        "id": "IVZLWMAIf3o2"
      },
      "source": [
        "\"\"\"\n",
        "input_num :インプット層のニューロン数\n",
        "hidden_num ：隠れ層のニューロン数\n",
        "output_num ：出力層のニューロン数\n",
        "\"\"\"\n",
        "N = 4#データ数(ミニバッチ)\n",
        "input_num = 2 \n",
        "hidden_num = 12\n",
        "output_num = 1"
      ],
      "execution_count": 93,
      "outputs": []
    },
    {
      "cell_type": "code",
      "metadata": {
        "id": "0KJQ_KpavFzo"
      },
      "source": [
        "sample_count = 200\n",
        "s = np.zeros((input_num,hidden_num))\n",
        "diff = np.zeros((input_num,hidden_num))"
      ],
      "execution_count": 94,
      "outputs": []
    },
    {
      "cell_type": "code",
      "metadata": {
        "id": "NFlr-EcKf4Xp"
      },
      "source": [
        "\"\"\"\n",
        "重み、バイアス、初期設定\n",
        "W1：隠れ層の重み\n",
        "B1:隠れ層のバイアス\n",
        "W2:出力層の重み\n",
        "B2:隠れ層のバイアス\n",
        "\"\"\"\n",
        "\n",
        "\n",
        "W1 = np.random.rand(input_num,hidden_num)\n",
        "B1 = np.random.rand(hidden_num)\n",
        "W2 = np.random.rand(hidden_num,output_num)\n",
        "B2 = np.random.rand(output_num)"
      ],
      "execution_count": 95,
      "outputs": []
    },
    {
      "cell_type": "code",
      "metadata": {
        "id": "XldTaZxtfQ86"
      },
      "source": [
        "#シグモイド関数（出力層）\n",
        "\n",
        "def sigmoid(x):\n",
        "  return 1/(1+np.exp(-x))\n",
        "\"\"\"\n",
        "def sigmoid(x):\n",
        "  if x < -5:\n",
        "    return 0\n",
        "\n",
        "  if -5<=x<=5:\n",
        "    return 1/10*x+0.5\n",
        "\n",
        "  if 5 < x:\n",
        "    return 1\n",
        "\"\"\" \n",
        "\"\"\"\n",
        "#ReLU関数（隠れ層）\n",
        "def relu(x):\n",
        "  return np.maximum(0,x)\n",
        "\"\"\"\n",
        "\"\"\"\n",
        "ReLU関数\n",
        "x:入力,\n",
        "n:x切片,\n",
        "a:傾き\n",
        "\"\"\"\n",
        "def relu(x,n,a,min,max):\n",
        "  \n",
        "  if x<min:\n",
        "    out = min\n",
        "  \n",
        "  if min<=x<=max:\n",
        "    y = a*(x-n)\n",
        "    out = np.maximum(y,0)\n",
        "\n",
        "  if x>max:\n",
        "    out = max\n",
        "  \n",
        "  return out\n"
      ],
      "execution_count": 96,
      "outputs": []
    },
    {
      "cell_type": "code",
      "metadata": {
        "colab": {
          "base_uri": "https://localhost:8080/",
          "height": 36
        },
        "id": "QI6cd-Tyfl6e",
        "outputId": "5ba3428a-b084-4fb5-f9e7-1e76675f84b0"
      },
      "source": [
        "\"\"\"\n",
        "a = np.zeros(1)\n",
        "for i in range(sample_count):\n",
        "  if i%20 == 0:\n",
        "    a[i] = np.insert(a,i,1)\n",
        "  else:\n",
        "    a[i] = np.insert(a,i,0)\n",
        "\n",
        "\n",
        "\n",
        "\"\"\"\n"
      ],
      "execution_count": 97,
      "outputs": [
        {
          "output_type": "execute_result",
          "data": {
            "application/vnd.google.colaboratory.intrinsic+json": {
              "type": "string"
            },
            "text/plain": [
              "'\\na = np.zeros(1)\\nfor i in range(sample_count):\\n  if i%20 == 0:\\n    a[i] = np.insert(a,i,1)\\n  else:\\n    a[i] = np.insert(a,i,0)\\n\\n\\n\\n'"
            ]
          },
          "metadata": {},
          "execution_count": 97
        }
      ]
    },
    {
      "cell_type": "code",
      "metadata": {
        "colab": {
          "base_uri": "https://localhost:8080/",
          "height": 54
        },
        "id": "WCl882oO5py8",
        "outputId": "8c2ca6f3-c231-4a38-d84f-ad87f7fdef98"
      },
      "source": [
        "\"\"\"\n",
        "def PG(sample_count,pulse_msec):\n",
        "  a = np.zeros(sample_count)\n",
        "  count = 0\n",
        "  for i in range(sample_count):\n",
        "    if i%(1/pulse_msec/10) == 0:#dt = 10microsec\n",
        "      a[i] = 1\n",
        "      print(\"a\")\n",
        "    else:\n",
        "      a[i] = 0\n",
        "    count = count +1\n",
        "    print(count)\n",
        " \"\"\"     "
      ],
      "execution_count": 98,
      "outputs": [
        {
          "output_type": "execute_result",
          "data": {
            "application/vnd.google.colaboratory.intrinsic+json": {
              "type": "string"
            },
            "text/plain": [
              "'\\ndef PG(sample_count,pulse_msec):\\n  a = np.zeros(sample_count)\\n  count = 0\\n  for i in range(sample_count):\\n    if i%(1/pulse_msec/10) == 0:#dt = 10microsec\\n      a[i] = 1\\n      print(\"a\")\\n    else:\\n      a[i] = 0\\n    count = count +1\\n    print(count)\\n '"
            ]
          },
          "metadata": {},
          "execution_count": 98
        }
      ]
    },
    {
      "cell_type": "code",
      "metadata": {
        "id": "xkf9ZQPI55u-"
      },
      "source": [
        "#a = PG(sample_count,50)"
      ],
      "execution_count": 99,
      "outputs": []
    },
    {
      "cell_type": "code",
      "metadata": {
        "id": "7-zbKdd38A_7"
      },
      "source": [
        "x1 = np.zeros(sample_count)\n",
        "  \n",
        "for i in range(sample_count):\n",
        "  if i%2 == 0:#dt = 10microsec\n",
        "    x1[i] = 1\n",
        "      \n",
        "  else:\n",
        "    x1[i] = 0"
      ],
      "execution_count": 100,
      "outputs": []
    },
    {
      "cell_type": "code",
      "metadata": {
        "colab": {
          "base_uri": "https://localhost:8080/"
        },
        "id": "Z6JnIIjBAFTV",
        "outputId": "12dabd55-de98-4ac1-a415-5a3ee417dda7"
      },
      "source": [
        ""
      ],
      "execution_count": 101,
      "outputs": [
        {
          "output_type": "execute_result",
          "data": {
            "text/plain": [
              "array([1., 0., 1., 0., 1., 0., 1., 0., 1., 0., 1., 0., 1., 0., 1., 0., 1.,\n",
              "       0., 1., 0., 1., 0., 1., 0., 1., 0., 1., 0., 1., 0., 1., 0., 1., 0.,\n",
              "       1., 0., 1., 0., 1., 0., 1., 0., 1., 0., 1., 0., 1., 0., 1., 0., 1.,\n",
              "       0., 1., 0., 1., 0., 1., 0., 1., 0., 1., 0., 1., 0., 1., 0., 1., 0.,\n",
              "       1., 0., 1., 0., 1., 0., 1., 0., 1., 0., 1., 0., 1., 0., 1., 0., 1.,\n",
              "       0., 1., 0., 1., 0., 1., 0., 1., 0., 1., 0., 1., 0., 1., 0., 1., 0.,\n",
              "       1., 0., 1., 0., 1., 0., 1., 0., 1., 0., 1., 0., 1., 0., 1., 0., 1.,\n",
              "       0., 1., 0., 1., 0., 1., 0., 1., 0., 1., 0., 1., 0., 1., 0., 1., 0.,\n",
              "       1., 0., 1., 0., 1., 0., 1., 0., 1., 0., 1., 0., 1., 0., 1., 0., 1.,\n",
              "       0., 1., 0., 1., 0., 1., 0., 1., 0., 1., 0., 1., 0., 1., 0., 1., 0.,\n",
              "       1., 0., 1., 0., 1., 0., 1., 0., 1., 0., 1., 0., 1., 0., 1., 0., 1.,\n",
              "       0., 1., 0., 1., 0., 1., 0., 1., 0., 1., 0., 1., 0.])"
            ]
          },
          "metadata": {},
          "execution_count": 101
        }
      ]
    },
    {
      "cell_type": "code",
      "metadata": {
        "id": "U_IPBgGL-2o1"
      },
      "source": [
        "x2 = np.zeros(sample_count)\n",
        "  \n",
        "for i in range(sample_count):\n",
        "  if i%2 == 0:#dt = 10microsec\n",
        "    x2[i] = 1\n",
        "      \n",
        "  else:\n",
        "    x2[i] = 0"
      ],
      "execution_count": 102,
      "outputs": []
    },
    {
      "cell_type": "code",
      "metadata": {
        "id": "msD49sA3_auq"
      },
      "source": [
        ""
      ],
      "execution_count": 102,
      "outputs": []
    },
    {
      "cell_type": "code",
      "metadata": {
        "id": "EWIc1SgF_fKA"
      },
      "source": [
        "for i in range(sample_count):\n",
        "  if x1[i] == 1:\n",
        "    for j in range(hidden_num):\n",
        "      s[0][j] = s[0][j]+W1[0][j]\n",
        "\n",
        "  if x2[i] == 1:\n",
        "    for j in range(hidden_num):\n",
        "      s[1][j] = s[1][j]+W1[1][j]\n",
        "  "
      ],
      "execution_count": 110,
      "outputs": []
    },
    {
      "cell_type": "code",
      "metadata": {
        "colab": {
          "base_uri": "https://localhost:8080/"
        },
        "id": "7HSbCMKHAQP2",
        "outputId": "bb2121f2-3ab3-4045-c02c-5824370d1a95"
      },
      "source": [
        "s"
      ],
      "execution_count": 111,
      "outputs": [
        {
          "output_type": "execute_result",
          "data": {
            "text/plain": [
              "array([[ 24.53999623, 157.18236882,  79.7374099 ,  19.01585487,\n",
              "         32.44158706,  66.10225364,   6.39882367,  49.35243315,\n",
              "         37.98125053,  35.11041223, 186.49594708, 140.38960315],\n",
              "       [118.25127617, 185.4305695 , 158.40321388, 171.59933824,\n",
              "         41.32609114, 144.28653515, 167.40980303,  13.2537573 ,\n",
              "         93.12659851,  47.66309305,  60.42496769, 142.51803081]])"
            ]
          },
          "metadata": {},
          "execution_count": 111
        }
      ]
    },
    {
      "cell_type": "code",
      "metadata": {
        "id": "oDGCqrBhgeCa"
      },
      "source": [
        "for i in range(input_num):\n",
        "  for j in range(hidden_num):\n",
        "    diff[i][j] =relu(s[i][j],5,1,5,50) "
      ],
      "execution_count": 112,
      "outputs": []
    },
    {
      "cell_type": "code",
      "metadata": {
        "colab": {
          "base_uri": "https://localhost:8080/"
        },
        "id": "WdJnXPhBvQl-",
        "outputId": "8f7e6eeb-c271-420c-e589-4955089daf29"
      },
      "source": [
        "diff"
      ],
      "execution_count": 113,
      "outputs": [
        {
          "output_type": "execute_result",
          "data": {
            "text/plain": [
              "array([[19.53999623, 50.        , 50.        , 14.01585487, 27.44158706,\n",
              "        50.        ,  1.39882367, 44.35243315, 32.98125053, 30.11041223,\n",
              "        50.        , 50.        ],\n",
              "       [50.        , 50.        , 50.        , 50.        , 36.32609114,\n",
              "        50.        , 50.        ,  8.2537573 , 50.        , 42.66309305,\n",
              "        50.        , 50.        ]])"
            ]
          },
          "metadata": {},
          "execution_count": 113
        }
      ]
    },
    {
      "cell_type": "code",
      "metadata": {
        "id": "v9yE2sgCwa7I"
      },
      "source": [
        ""
      ],
      "execution_count": null,
      "outputs": []
    }
  ]
}