{
  "nbformat": 4,
  "nbformat_minor": 0,
  "metadata": {
    "colab": {
      "name": "HW.ipynb",
      "provenance": [],
      "authorship_tag": "ABX9TyMtid2lBm5ZMRxBU20vLLXj",
      "include_colab_link": true
    },
    "kernelspec": {
      "name": "python3",
      "display_name": "Python 3"
    },
    "language_info": {
      "name": "python"
    }
  },
  "cells": [
    {
      "cell_type": "markdown",
      "metadata": {
        "id": "view-in-github",
        "colab_type": "text"
      },
      "source": [
        "<a href=\"https://colab.research.google.com/github/MxD-lab/SNN_Simulation/blob/HW/HW.ipynb\" target=\"_parent\"><img src=\"https://colab.research.google.com/assets/colab-badge.svg\" alt=\"Open In Colab\"/></a>"
      ]
    },
    {
      "cell_type": "code",
      "metadata": {
        "id": "vr3aM6aRfDSg"
      },
      "source": [
        "# -*- coding: utf-8 -*-\n",
        "import os\n",
        "import pandas as pd\n",
        "import matplotlib\n",
        "import matplotlib.pyplot as plt\n",
        "import numpy as np\n",
        "import math\n",
        "import numpy \n",
        "\n"
      ],
      "execution_count": 39,
      "outputs": []
    },
    {
      "cell_type": "code",
      "metadata": {
        "id": "IVZLWMAIf3o2"
      },
      "source": [
        "\"\"\"\n",
        "input_num :インプット層のニューロン数\n",
        "hidden_num ：隠れ層のニューロン数\n",
        "output_num ：出力層のニューロン数\n",
        "\"\"\"\n",
        "N = 4#データ数(ミニバッチ)\n",
        "input_num = 2 \n",
        "hidden_num = 12\n",
        "output_num = 1"
      ],
      "execution_count": 40,
      "outputs": []
    },
    {
      "cell_type": "code",
      "metadata": {
        "id": "0KJQ_KpavFzo"
      },
      "source": [
        "sample_count = 200\n",
        "s = np.zeros((input_num,hidden_num))\n",
        "diff = np.zeros((input_num,hidden_num))"
      ],
      "execution_count": 41,
      "outputs": []
    },
    {
      "cell_type": "code",
      "metadata": {
        "id": "NFlr-EcKf4Xp"
      },
      "source": [
        "\"\"\"\n",
        "重み、バイアス、初期設定\n",
        "W1：隠れ層の重み\n",
        "B1:隠れ層のバイアス\n",
        "W2:出力層の重み\n",
        "B2:隠れ層のバイアス\n",
        "\"\"\"\n",
        "\n",
        "\n",
        "W1 = np.random.rand(input_num,hidden_num)\n",
        "B1 = np.random.rand(hidden_num)\n",
        "W2 = np.random.rand(hidden_num,output_num)\n",
        "B2 = np.random.rand(output_num)"
      ],
      "execution_count": 42,
      "outputs": []
    },
    {
      "cell_type": "code",
      "metadata": {
        "id": "XldTaZxtfQ86"
      },
      "source": [
        "#シグモイド関数（出力層）\n",
        "\n",
        "def sigmoid(x):\n",
        "  return 1/(1+np.exp(-x))\n",
        "\"\"\"\n",
        "def sigmoid(x):\n",
        "  if x < -5:\n",
        "    return 0\n",
        "\n",
        "  if -5<=x<=5:\n",
        "    return 1/10*x+0.5\n",
        "\n",
        "  if 5 < x:\n",
        "    return 1\n",
        "\"\"\" \n",
        "\"\"\"\n",
        "#ReLU関数（隠れ層）\n",
        "def relu(x):\n",
        "  return np.maximum(0,x)\n",
        "\"\"\"\n",
        "\"\"\"\n",
        "ReLU関数\n",
        "x:入力,\n",
        "n:x切片,\n",
        "a:傾き\n",
        "\"\"\"\n",
        "def relu(x,n,a,min,max):\n",
        "  \n",
        "  if x<min:\n",
        "    out = min\n",
        "  \n",
        "  if min<=x<=max:\n",
        "    y = a*(x-n)\n",
        "    out = np.maximum(y,0)\n",
        "\n",
        "  if x>max:\n",
        "    out = max\n",
        "  \n",
        "  return out\n"
      ],
      "execution_count": 43,
      "outputs": []
    },
    {
      "cell_type": "code",
      "metadata": {
        "id": "QI6cd-Tyfl6e"
      },
      "source": [
        "for i in range(sample_count):\n",
        "  if i%20 == 0:\n",
        "    s = s +W1\n",
        "\n",
        "\n",
        "\n",
        "\n"
      ],
      "execution_count": 44,
      "outputs": []
    },
    {
      "cell_type": "code",
      "metadata": {
        "id": "oDGCqrBhgeCa"
      },
      "source": [
        "for i in range(input_num):\n",
        "  for j in range(hidden_num):\n",
        "    diff[i][j] =relu(s[i][j],5,1,5,50) "
      ],
      "execution_count": 45,
      "outputs": []
    },
    {
      "cell_type": "code",
      "metadata": {
        "colab": {
          "base_uri": "https://localhost:8080/"
        },
        "id": "WdJnXPhBvQl-",
        "outputId": "3d909d4d-c9be-4f07-c6ca-78a4a4425b88"
      },
      "source": [
        "for i in range(sample_count):\n",
        "  "
      ],
      "execution_count": 46,
      "outputs": [
        {
          "output_type": "execute_result",
          "data": {
            "text/plain": [
              "array([[8.27660745, 5.34218553, 5.        , 5.        , 7.19840871,\n",
              "        5.        , 7.97172073, 8.12129892, 5.        , 5.        ,\n",
              "        5.        , 5.        ],\n",
              "       [8.61666446, 5.79254878, 4.95996849, 5.        , 5.        ,\n",
              "        7.87794062, 5.        , 5.23436674, 5.        , 5.        ,\n",
              "        7.63111196, 5.        ]])"
            ]
          },
          "metadata": {},
          "execution_count": 46
        }
      ]
    },
    {
      "cell_type": "code",
      "metadata": {
        "id": "v9yE2sgCwa7I"
      },
      "source": [
        ""
      ],
      "execution_count": null,
      "outputs": []
    }
  ]
}