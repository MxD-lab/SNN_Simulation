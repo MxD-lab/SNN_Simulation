{
  "nbformat": 4,
  "nbformat_minor": 0,
  "metadata": {
    "colab": {
      "name": "perceptronxor.ipynb",
      "provenance": [],
      "authorship_tag": "ABX9TyPmHJCvsnw6JsF2IBkHdvJC",
      "include_colab_link": true
    },
    "kernelspec": {
      "name": "python3",
      "display_name": "Python 3"
    },
    "language_info": {
      "name": "python"
    }
  },
  "cells": [
    {
      "cell_type": "markdown",
      "metadata": {
        "id": "view-in-github",
        "colab_type": "text"
      },
      "source": [
        "<a href=\"https://colab.research.google.com/github/MxD-lab/SNN_Simulation/blob/xor/perceptronxor.ipynb\" target=\"_parent\"><img src=\"https://colab.research.google.com/assets/colab-badge.svg\" alt=\"Open In Colab\"/></a>"
      ]
    },
    {
      "cell_type": "code",
      "metadata": {
        "id": "tz4MZ4K3wCep"
      },
      "source": [
        "# -*- coding: utf-8 -*-\n",
        "import os\n",
        "import pandas as pd\n",
        "import matplotlib\n",
        "import matplotlib.pyplot as plt\n",
        "import numpy as np\n",
        "import math\n"
      ],
      "execution_count": 34,
      "outputs": []
    },
    {
      "cell_type": "code",
      "metadata": {
        "id": "cc5s5RUzwOZS"
      },
      "source": [
        "#時間（m秒）\n",
        "msec = 10000\n",
        "#サンプリングした時の時間軸\n",
        "t = np.arange(0.0, msec)\n"
      ],
      "execution_count": 35,
      "outputs": []
    },
    {
      "cell_type": "code",
      "metadata": {
        "id": "NmW1QtJmwQnv"
      },
      "source": [
        "def relu(x,n,a):\n",
        "  \"\"\"\n",
        "  ReLU関数\n",
        "  x:入力,\n",
        "  n:x切片,\n",
        "  a:傾き\n",
        "\n",
        "  \"\"\"\n",
        "  y = a*(x-n)\n",
        "  out = np.maximum(y,0)\n",
        "  \n",
        "  return out\n"
      ],
      "execution_count": 36,
      "outputs": []
    },
    {
      "cell_type": "code",
      "metadata": {
        "id": "RV21ngDLwTmx"
      },
      "source": [
        "def AND(x1,x2):\n",
        "  # ゼロ初期化\n",
        "  out=np.zeros(10000, dtype=float)\n",
        "\n",
        "  # 重み/バイアス パラメータ\n",
        "  w_1= 0.5\n",
        "  w_2= 0.5\n",
        "  b = -0.7\n",
        "\n",
        "  # 要素数チェック\n",
        "  if len(x1) != len(x2):\n",
        "    raise Exception(\"x1 and x2 len does not match!\")\n",
        "\n",
        "  # 各フレームのノード出力値計算\n",
        "  for i in range(len(x1)):\n",
        "    out[i] = x1[i]*w_1 + x2[i]*w_2 + b\n",
        "\n",
        "    if out[i] <= 0:\n",
        "      out[i]=0\n",
        "\n",
        "    else:\n",
        "       out[i] = 1\n",
        "\n",
        "  return out\n"
      ],
      "execution_count": 37,
      "outputs": []
    },
    {
      "cell_type": "code",
      "metadata": {
        "id": "NcR00m4DwWP4"
      },
      "source": [
        "def OR(x1,x2):\n",
        "  # ゼロ初期化\n",
        "  out=np.zeros(10000, dtype=float)\n",
        "\n",
        "  # 重み/バイアス パラメータ\n",
        "  w_1= 0.5\n",
        "  w_2= 0.5\n",
        "  b = -0.2\n",
        "\n",
        "  # 要素数チェック\n",
        "  if len(x1) != len(x2):\n",
        "    raise Exception(\"x1 and x2 len does not match!\")\n",
        "\n",
        "  # 各フレームのノード出力値計算\n",
        "  for i in range(len(x1)):\n",
        "    out[i] = x1[i]*w_1 + x2[i]*w_2 + b\n",
        "\n",
        "    if out[i] <= 0:\n",
        "      out[i]=0\n",
        "\n",
        "    else:\n",
        "       out[i] = 1\n",
        "\n",
        "  return out\n",
        "\n",
        "\n"
      ],
      "execution_count": 38,
      "outputs": []
    },
    {
      "cell_type": "code",
      "metadata": {
        "id": "FJGW1EosxUKB"
      },
      "source": [
        "def NAND(x1,x2):\n",
        "  # ゼロ初期化\n",
        "  out=np.zeros(10000, dtype=float)\n",
        "\n",
        "  # 重み/バイアス パラメータ\n",
        "  w_1= -0.5\n",
        "  w_2= -0.5\n",
        "  b = 0.7\n",
        "\n",
        "  # 要素数チェック\n",
        "  if len(x1) != len(x2):\n",
        "    raise Exception(\"x1 and x2 len does not match!\")\n",
        "\n",
        "  # 各フレームのノード出力値計算\n",
        "  for i in range(len(x1)):\n",
        "    out[i] = x1[i]*w_1 + x2[i]*w_2 + b\n",
        "\n",
        "    if out[i] <= 0:\n",
        "      out[i]=0\n",
        "\n",
        "    else:\n",
        "       out[i] = 1\n",
        "\n",
        "  return out\n",
        "\n",
        "\n",
        "\n"
      ],
      "execution_count": 39,
      "outputs": []
    },
    {
      "cell_type": "code",
      "metadata": {
        "id": "NA-o-X_3zm7G"
      },
      "source": [
        "def XOR(x1,x2):\n",
        "  s1 = NAND(x1,x2)\n",
        "  s2 = OR(x1,x2)\n",
        "  y = AND(s1,s2)\n",
        "  return y"
      ],
      "execution_count": 40,
      "outputs": []
    },
    {
      "cell_type": "code",
      "metadata": {
        "id": "Zmxs_JKty2bz"
      },
      "source": [
        "# シミュレーション用の波形準備\n",
        "simulation_time = 10000\n",
        "a_dens_array = [1 if (i > 2500 and i < 5000) or (i > 7500 and i < 10000) else 0 for i in range(10000)]\n",
        "b_dens_array = [1 if (i > 5000 and i < 10000) else 0 for i in range(10000)]\n",
        "\n",
        "# density情報からパルス数を生成\n",
        "dt=1\n",
        "a_pulse_cnt = a_dens_array * dt\n",
        "b_pulse_cnt = b_dens_array * dt\n"
      ],
      "execution_count": 41,
      "outputs": []
    },
    {
      "cell_type": "code",
      "metadata": {
        "colab": {
          "base_uri": "https://localhost:8080/",
          "height": 1000
        },
        "id": "mDxJJ_LXy89_",
        "outputId": "c134a281-1334-4049-dbb6-cfbd009472cc"
      },
      "source": [
        "and_result = AND(a_pulse_cnt, b_pulse_cnt)\n",
        "nand_result = NAND(a_pulse_cnt, b_pulse_cnt)\n",
        "or_result = OR(a_pulse_cnt, b_pulse_cnt)\n",
        "xor_result = XOR(a_pulse_cnt, b_pulse_cnt)\n",
        "\n",
        "# 結果描画\n",
        "plt.figure(figsize=(12, 8))\n",
        "plt.subplot(2, 1, 1)\n",
        "plt.ylabel('output wave density')\n",
        "plt.plot(a_dens_array)\n",
        "plt.show()\n",
        "\n",
        "plt.figure(figsize=(12, 8))\n",
        "plt.subplot(2, 1, 1)\n",
        "plt.ylabel('output wave density')\n",
        "plt.plot(b_dens_array)\n",
        "plt.show()\n",
        "\n",
        "plt.figure(figsize=(12, 8))\n",
        "plt.subplot(2, 1, 1)\n",
        "plt.ylabel('and')\n",
        "plt.plot(and_result)\n",
        "plt.show()\n",
        "\n",
        "plt.figure(figsize=(12, 8))\n",
        "plt.subplot(2, 1, 1)\n",
        "plt.ylabel('or')\n",
        "plt.plot(or_result)\n",
        "plt.show()\n",
        "\n",
        "plt.figure(figsize=(12, 8))\n",
        "plt.subplot(2, 1, 1)\n",
        "plt.ylabel('NAND')\n",
        "plt.plot(nand_result)\n",
        "plt.show()\n",
        "\n",
        "plt.figure(figsize=(12, 8))\n",
        "plt.subplot(2, 1, 1)\n",
        "plt.ylabel('xor')\n",
        "plt.plot(xor_result)\n",
        "plt.show()\n",
        "\n",
        "\n"
      ],
      "execution_count": 42,
      "outputs": [
        {
          "output_type": "display_data",
          "data": {
            "image/png": "[encoded data removed]",
            "text/plain": [
              "<Figure size 864x576 with 1 Axes>"
            ]
          },
          "metadata": {
            "tags": [],
            "needs_background": "light"
          }
        },
        {
          "output_type": "display_data",
          "data": {
            "image/png": "[encoded data removed]",
            "text/plain": [
              "<Figure size 864x576 with 1 Axes>"
            ]
          },
          "metadata": {
            "tags": [],
            "needs_background": "light"
          }
        },
        {
          "output_type": "display_data",
          "data": {
            "image/png": "[encoded data removed]",
            "text/plain": [
              "<Figure size 864x576 with 1 Axes>"
            ]
          },
          "metadata": {
            "tags": [],
            "needs_background": "light"
          }
        },
        {
          "output_type": "display_data",
          "data": {
            "image/png": "[encoded data removed]",
            "text/plain": [
              "<Figure size 864x576 with 1 Axes>"
            ]
          },
          "metadata": {
            "tags": [],
            "needs_background": "light"
          }
        },
        {
          "output_type": "display_data",
          "data": {
            "image/png": "[encoded data removed]",
            "text/plain": [
              "<Figure size 864x576 with 1 Axes>"
            ]
          },
          "metadata": {
            "tags": [],
            "needs_background": "light"
          }
        },
        {
          "output_type": "display_data",
          "data": {
            "image/png": "[encoded data removed]",
            "text/plain": [
              "<Figure size 864x576 with 1 Axes>"
            ]
          },
          "metadata": {
            "tags": [],
            "needs_background": "light"
          }
        }
      ]
    },
    {
      "cell_type": "code",
      "metadata": {
        "id": "4AMbZ-dHzK4C"
      },
      "source": [
        ""
      ],
      "execution_count": null,
      "outputs": []
    }
  ]
}