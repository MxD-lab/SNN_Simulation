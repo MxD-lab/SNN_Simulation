{
  "nbformat": 4,
  "nbformat_minor": 0,
  "metadata": {
    "colab": {
      "name": "neralnetwork.ipynb",
      "provenance": [],
      "authorship_tag": "ABX9TyPzFrxOp8OQPTTSrAKZB6MM",
      "include_colab_link": true
    },
    "kernelspec": {
      "name": "python3",
      "display_name": "Python 3"
    },
    "language_info": {
      "name": "python"
    }
  },
  "cells": [
    {
      "cell_type": "markdown",
      "metadata": {
        "id": "view-in-github",
        "colab_type": "text"
      },
      "source": [
        "<a href=\"https://colab.research.google.com/github/MxD-lab/SNN_Simulation/blob/neralnetwork/neralnetwork.ipynb\" target=\"_parent\"><img src=\"https://colab.research.google.com/assets/colab-badge.svg\" alt=\"Open In Colab\"/></a>"
      ]
    },
    {
      "cell_type": "code",
      "metadata": {
        "id": "LN_MDRkYWmSx"
      },
      "source": [
        "# -*- coding: utf-8 -*-\n",
        "import os\n",
        "import pandas as pd\n",
        "import matplotlib\n",
        "import matplotlib.pyplot as plt\n",
        "import numpy as np\n",
        "import math\n",
        "import numpy \n",
        "\n"
      ],
      "execution_count": 352,
      "outputs": []
    },
    {
      "cell_type": "code",
      "metadata": {
        "id": "Qeqfdp5xXDod"
      },
      "source": [
        "\"\"\"\n",
        "input_num :インプット層のニューロン数\n",
        "hidden_num ：隠れ層のニューロン数\n",
        "output_num ：出力層のニューロン数\n",
        "\"\"\"\n",
        "N = 4#データ数(ミニバッチ)\n",
        "input_num = 2 \n",
        "hidden_num = 12\n",
        "output_num = 1"
      ],
      "execution_count": 353,
      "outputs": []
    },
    {
      "cell_type": "code",
      "metadata": {
        "id": "8-doxikrXFle"
      },
      "source": [
        "\"\"\"\n",
        "重み、バイアス、初期設定\n",
        "W1：隠れ層の重み\n",
        "B1:隠れ層のバイアス\n",
        "W2:出力層の重み\n",
        "B2:隠れ層のバイアス\n",
        "\"\"\"\n",
        "\n",
        "\n",
        "W1 = np.random.rand(input_num,hidden_num)\n",
        "B1 = np.random.rand(hidden_num)\n",
        "W2 = np.random.rand(hidden_num,output_num)\n",
        "B2 = np.random.rand(output_num)"
      ],
      "execution_count": 354,
      "outputs": []
    },
    {
      "cell_type": "code",
      "metadata": {
        "id": "0vtgLHRTXHdy"
      },
      "source": [
        "i = 0\n",
        "y = np.zeros(100)\n",
        "\n",
        "count = 0\n",
        "\n",
        "N = 4#データ数(ミニバッチ)\n",
        "learning_rate = 0.2#学習率\n",
        "beta1 = 0.9\n",
        "beta2 = 0.999\n",
        "epsiron = 0.00000001\n",
        "alpha = 0.0001\n",
        "mX = np.zeros((hidden_num,1))\n",
        "vX = np.zeros((hidden_num,1))\n",
        "m = 0\n",
        "v = 0"
      ],
      "execution_count": 355,
      "outputs": []
    },
    {
      "cell_type": "code",
      "metadata": {
        "id": "eD3ac98SZBXp"
      },
      "source": [
        "#シグモイド関数（出力層）\n",
        "\n",
        "def sigmoid(x):\n",
        "  return 1/(1+np.exp(-x))\n",
        "\"\"\"\n",
        "def sigmoid(x):\n",
        "  if x < -5:\n",
        "    return 0\n",
        "\n",
        "  if -5<=x<=5:\n",
        "    return 1/10*x+0.5\n",
        "\n",
        "  if 5 < x:\n",
        "    return 1\n",
        " \"\"\"\n",
        "#ReLU関数（隠れ層）\n",
        "def relu(x):\n",
        "  return np.maximum(0,x)"
      ],
      "execution_count": 356,
      "outputs": []
    },
    {
      "cell_type": "code",
      "metadata": {
        "id": "BjNzgnzyZD3k"
      },
      "source": [
        "#交差エントロピー誤差\n",
        "\n",
        "def cross_entropy_error(y,t):\n",
        "  if y.ndim == 1:\n",
        "    t = t.reshape(1,t.size)\n",
        "    y = y.reshape(1,y.size)\n",
        "  \n",
        "  batch_size = y.shape[0]#yの行数\n",
        "  return np.sum(-t*np.log(y)-(1-t)*np.log(1-y))/batch_size\n",
        "\n",
        "\n",
        "  \n",
        "  "
      ],
      "execution_count": 357,
      "outputs": []
    },
    {
      "cell_type": "code",
      "metadata": {
        "id": "L7KzgC6nZFSB"
      },
      "source": [
        "#活性化関数の微分(relu)u:隠れ層の活性\n",
        "\n",
        "def relu_diff(u):\n",
        "  d = np.zeros_like(u) #xと同じ形状の配列を作成\n",
        "  for i in range(len(u)):\n",
        "    for j in range(len(u[0])):\n",
        "      if u[i][j]>0:\n",
        "        d[i][j] = 1\n",
        "      else: \n",
        "        d[i][j] = 0\n",
        "\n",
        "  return d\n"
      ],
      "execution_count": 358,
      "outputs": []
    },
    {
      "cell_type": "code",
      "metadata": {
        "id": "qyiQRsPuZHJS"
      },
      "source": [
        "#隠れ層の誤差\n",
        "\"\"\"\n",
        "delta:一個前の誤差（出力層の誤差）\n",
        "w:一個前の重み（出力層の重み）\n",
        "activ:活性化関数の微分\n",
        "\"\"\"\n",
        "def hidden_delta(delta,w,activ):\n",
        "  d = np.zeros((N,hidden_num)) #データ数×隠れ層のニューロン数の配列を作成\n",
        "  for i in range(len(delta)):\n",
        "    for j in range(len(w[0])):\n",
        "      d[i][j] = delta[i]*w[j]*activ[i][j]\n",
        "  return np.array(d)\n",
        "  \n"
      ],
      "execution_count": 359,
      "outputs": []
    },
    {
      "cell_type": "code",
      "metadata": {
        "id": "mvrRWnMIZKoX"
      },
      "source": [
        "\n",
        "\n",
        "for i in range(100):\n",
        "  \n",
        "  x = np.array([[0,0],[0,1],[1,0],[1,1]])#入力\n",
        "  target =  np.array([[0],[1],[1],[0]]) #教師\n",
        "  \n",
        "\n",
        "  A1 = np.dot(x,W1)+B1\n",
        "  Z1 = relu(A1)#一層目活性化関数かける\n",
        "  \n",
        "  A2 = np.dot(Z1,W2) + B2\n",
        "  Z2 = sigmoid(A2)\n",
        "  y[i] = cross_entropy_error(Z2,target)#出力層の損失関数\n",
        "  \n",
        "\n",
        "\n",
        "  ###出力層の逆伝搬\n",
        "  ##重み\n",
        "  delta = Z2 - target#誤差\n",
        "  Z1_t = np.transpose(Z1)\n",
        "  sum_delta = np.dot(Z1_t,delta)\n",
        "  \n",
        "  beta1coef = (1-beta1)/N\n",
        "  beta2coef = (1-beta2)/N/N\n",
        " \n",
        "  \n",
        "  \n",
        "  \"\"\"    \n",
        "  #adam\n",
        "  for q in range(output_num):#下説明あり\n",
        "    mX[q] = beta1*mX[q] + beta1coef*(sum_delta[q] + alfa*W2[q]*N)\n",
        "    vX[q] = beta2*vX[q] + beta2coef*(sum_delta[q] + alfa*W2[q])*(sum_delta[q]+alfa+W2[q])\n",
        "    m = beta1*m+beta1coef*delta\n",
        "    v = beta2*v+beta2coef*delta*delta\n",
        "  \n",
        "  epoch = count/(2*N+1) \n",
        "  sqbeta = np.sqrt((1-beta2**(epoch+1)))\n",
        "  learning_rate2 = learning_rate/(1-beta1**(epoch+1))*sqbeta#学習率の更新\n",
        "  epsilon2 = sqbeta * epsiron\n",
        "\n",
        "  q = 0\n",
        "  for p in range(hidden_num-1):\n",
        "    W2[q] = W2[q] - learning_rate2*mX[q]/(np.sqrt(vX[q]))+epsilon2\n",
        "  B2 = B2 - learning_rate2*m/(np.sqrt(v)+epsilon2)\n",
        "  \n",
        "  \"\"\"\n",
        "  delta_accum = np.sum(delta) \n",
        "  learning_ratecoef = learning_rate/N\n",
        "  \n",
        "  for q in range(hidden_num-1):\n",
        "    W2[q] = (1-alpha*learning_rate)*W2[q]-learning_ratecoef*sum_delta[q]\n",
        "  B2 = B2 -learning_ratecoef*delta_accum\n",
        "\n",
        "\n",
        "  ###隠れ層の逆伝搬\n",
        "  ##重み\n",
        "  differential_y = relu_diff(Z1)#活性化関数の微分\n",
        "  hid_delta = hidden_delta(delta,W2,differential_y)\n",
        "\n",
        "  x_t = np.transpose(x)\n",
        "  delta_hidden = 1/N*np.dot(x_t,hid_delta)\n",
        "  W1 = W1 - learning_rate*delta_hidden\n",
        " \n",
        "\n",
        "  ##バイアス\n",
        "  a2 = np.array([1,1,1,1])\n",
        "  delta_hidden_bias = 1/N*np.dot(a2,hid_delta)\n",
        "  B1 = B1 - learning_rate*delta_hidden_bias\n",
        "  count = count +1"
      ],
      "execution_count": 360,
      "outputs": []
    },
    {
      "cell_type": "code",
      "metadata": {
        "colab": {
          "base_uri": "https://localhost:8080/",
          "height": 281
        },
        "id": "YSoLKcdvZM4A",
        "outputId": "b1963feb-4579-46e2-a34a-061462e5eeb3"
      },
      "source": [
        "#グラフ表示\n",
        "p = np.arange(100)\n",
        "plt.scatter(p, y, c='b', label='loss_data')\n",
        "plt.title('loss')\n",
        "plt.show()"
      ],
      "execution_count": 361,
      "outputs": [
        {
          "output_type": "display_data",
          "data": {
            "image/png": "[encoded data removed]",
            "text/plain": [
              "<Figure size 432x288 with 1 Axes>"
            ]
          },
          "metadata": {
            "needs_background": "light"
          }
        }
      ]
    },
    {
      "cell_type": "code",
      "metadata": {
        "colab": {
          "base_uri": "https://localhost:8080/"
        },
        "id": "OT3t78nlZOlN",
        "outputId": "dfeccc3f-646c-4ece-e1b5-a405d0c6a372"
      },
      "source": [
        "A1 = np.dot(x,W1) +B1\n",
        "Z1 = relu(A1)#一層目活性化関数かける\n",
        "\n",
        "\n",
        "A2 = np.dot(Z1,W2)+B2\n",
        "Z22 = sigmoid(A2)\n",
        "\n",
        "delta = Z2 - target#誤差\n",
        "#print(Z22)\n",
        "#print(W1)\n",
        "#print(W2)\n",
        "y[99]"
      ],
      "execution_count": 362,
      "outputs": [
        {
          "output_type": "execute_result",
          "data": {
            "text/plain": [
              "0.6934664073617622"
            ]
          },
          "metadata": {},
          "execution_count": 362
        }
      ]
    },
    {
      "cell_type": "markdown",
      "metadata": {
        "id": "OSWwJEpoZAVQ"
      },
      "source": [
        ""
      ]
    }
  ]
}