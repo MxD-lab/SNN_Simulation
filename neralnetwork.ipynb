{
  "nbformat": 4,
  "nbformat_minor": 0,
  "metadata": {
    "colab": {
      "name": "neralnetwork.ipynb",
      "provenance": [],
      "authorship_tag": "ABX9TyOcydBeL56OwOQUEaSNzL04",
      "include_colab_link": true
    },
    "kernelspec": {
      "name": "python3",
      "display_name": "Python 3"
    },
    "language_info": {
      "name": "python"
    }
  },
  "cells": [
    {
      "cell_type": "markdown",
      "metadata": {
        "id": "view-in-github",
        "colab_type": "text"
      },
      "source": [
        "<a href=\"https://colab.research.google.com/github/MxD-lab/SNN_Simulation/blob/main/neralnetwork.ipynb\" target=\"_parent\"><img src=\"https://colab.research.google.com/assets/colab-badge.svg\" alt=\"Open In Colab\"/></a>"
      ]
    },
    {
      "cell_type": "code",
      "metadata": {
        "id": "LN_MDRkYWmSx"
      },
      "source": [
        "# -*- coding: utf-8 -*-\n",
        "import os\n",
        "import pandas as pd\n",
        "import matplotlib\n",
        "import matplotlib.pyplot as plt\n",
        "import numpy as np\n",
        "import math\n",
        "import numpy \n",
        "\n"
      ],
      "execution_count": 935,
      "outputs": []
    },
    {
      "cell_type": "code",
      "metadata": {
        "id": "Qeqfdp5xXDod"
      },
      "source": [
        "\"\"\"\n",
        "input_num :インプット層のニューロン数\n",
        "hidden_num ：隠れ層のニューロン数\n",
        "output_num ：出力層のニューロン数\n",
        "\"\"\"\n",
        "N = 4#データ数(ミニバッチ)\n",
        "input_num = 2 \n",
        "hidden_num = 12\n",
        "output_num = 1"
      ],
      "execution_count": 936,
      "outputs": []
    },
    {
      "cell_type": "code",
      "metadata": {
        "id": "8-doxikrXFle"
      },
      "source": [
        "\"\"\"\n",
        "重み、バイアス、初期設定\n",
        "W1：隠れ層の重み\n",
        "B1:隠れ層のバイアス\n",
        "W2:出力層の重み\n",
        "B2:隠れ層のバイアス\n",
        "\"\"\"\n",
        "\n",
        "\n",
        "W1 = np.random.rand(input_num,hidden_num)\n",
        "B1 = np.random.rand(hidden_num)\n",
        "W2 = np.random.rand(hidden_num,output_num)\n",
        "B2 = np.random.rand(output_num)"
      ],
      "execution_count": 937,
      "outputs": []
    },
    {
      "cell_type": "code",
      "metadata": {
        "id": "0vtgLHRTXHdy"
      },
      "source": [
        "i = 0\n",
        "\n",
        "\n",
        "epoch = 0\n",
        "epoch_num= 200\n",
        "loss = np.zeros(epoch_num)\n",
        "N = 4#データ数(ミニバッチ)\n",
        "learning_rate = 0.2#学習率\n",
        "beta1 = 0.9\n",
        "beta2 = 0.999\n",
        "epsiron = 0.00000001\n",
        "alpha = 0.0001\n",
        "mX = np.zeros((hidden_num,1))\n",
        "vX = np.zeros((hidden_num,1))\n",
        "hid_delta_accum = np.zeros((hidden_num,1))\n",
        "m = 0\n",
        "v = 0"
      ],
      "execution_count": 938,
      "outputs": []
    },
    {
      "cell_type": "code",
      "metadata": {
        "id": "eD3ac98SZBXp"
      },
      "source": [
        "#シグモイド関数（出力層）\n",
        "\n",
        "def sigmoid(x):\n",
        "  return 1/(1+np.exp(-x))\n",
        "\"\"\"\n",
        "def sigmoid(x):\n",
        "  if x < -5:\n",
        "    return 0\n",
        "\n",
        "  if -5<=x<=5:\n",
        "    return 1/10*x+0.5\n",
        "\n",
        "  if 5 < x:\n",
        "    return 1\n",
        " \"\"\"\n",
        "#ReLU関数（隠れ層）\n",
        "def relu(x):\n",
        "  return np.maximum(0,x)"
      ],
      "execution_count": 939,
      "outputs": []
    },
    {
      "cell_type": "code",
      "metadata": {
        "id": "BjNzgnzyZD3k"
      },
      "source": [
        "#交差エントロピー誤差\n",
        "\n",
        "def cross_entropy_error(y,t):\n",
        "  if y.ndim == 1:\n",
        "    t = t.reshape(1,t.size)\n",
        "    y = y.reshape(1,y.size)\n",
        "  \n",
        "  batch_size = y.shape[0]#yの行数\n",
        "  return np.sum(-t*np.log(y)-(1-t)*np.log(1-y))/batch_size\n",
        "\n",
        "\n",
        "  \n",
        "  "
      ],
      "execution_count": 940,
      "outputs": []
    },
    {
      "cell_type": "code",
      "metadata": {
        "id": "L7KzgC6nZFSB"
      },
      "source": [
        "#活性化関数の微分(relu)u:隠れ層の活性\n",
        "\n",
        "def relu_diff(u):\n",
        "  d = np.zeros_like(u) #xと同じ形状の配列を作成\n",
        "  for i in range(len(u)):\n",
        "    for j in range(len(u[0])):\n",
        "      if u[i][j]>0:\n",
        "        d[i][j] = 1\n",
        "      else: \n",
        "        d[i][j] = 0\n",
        "\n",
        "  return d\n"
      ],
      "execution_count": 941,
      "outputs": []
    },
    {
      "cell_type": "code",
      "metadata": {
        "id": "qyiQRsPuZHJS"
      },
      "source": [
        "#隠れ層の誤差\n",
        "\"\"\"\n",
        "delta:一個前の誤差（出力層の誤差）\n",
        "w:一個前の重み（出力層の重み）\n",
        "activ:活性化関数の微分\n",
        "\"\"\"\n",
        "def hidden_delta(delta,w,activ):\n",
        "  d = np.zeros((N,hidden_num)) #データ数×隠れ層のニューロン数の配列を作成\n",
        "  for i in range(len(delta)):\n",
        "    #print(\"i = \", i)\n",
        "    for j in range(hidden_num):\n",
        "      #print(\"j =\", j)\n",
        "      d[i][j] = delta[i]*w[j]*activ[i][j]\n",
        "      #if i == 0 and j == 1:\n",
        "        #print(d[i][j])\n",
        "        #print(delta[i])\n",
        "        #print(w[i])\n",
        "        #print(activ[i][j])\n",
        "\n",
        "  return np.array(d)\n",
        "  \n"
      ],
      "execution_count": 942,
      "outputs": []
    },
    {
      "cell_type": "code",
      "metadata": {
        "id": "mvrRWnMIZKoX"
      },
      "source": [
        "\n",
        "\n",
        "for i in range(epoch_num):\n",
        "  \n",
        "  x = np.array([[0,0],[0,1],[1,0],[1,1]])#入力\n",
        "  target =  np.array([[0],[1],[1],[0]]) #教師\n",
        "  \n",
        "\n",
        "  A1 = np.dot(x,W1)+B1\n",
        "  Z1 = relu(A1)#一層目活性化関数かける\n",
        "  #print(Z1)\n",
        "  A2 = np.dot(Z1,W2) + B2\n",
        "  Z2 = sigmoid(A2)\n",
        "  loss[i] = cross_entropy_error(Z2,target)#出力層の損失関数\n",
        "  \n",
        "\n",
        "\n",
        "  ###出力層の逆伝搬\n",
        "  ##重み\n",
        "  delta = Z2 - target#誤差\n",
        "  Z1_t = np.transpose(Z1)\n",
        "  deltaX_accum = np.dot(Z1_t,delta)\n",
        "  #print(Z1_t)\n",
        "  beta1coef = (1-beta1)/N\n",
        "  beta2coef = (1-beta2)/N/N\n",
        " \n",
        "  \n",
        "  \n",
        "  \"\"\" \n",
        "  #adam\n",
        "  for q in range(output_num):#下説明あり\n",
        "    mX[q] = beta1*mX[q] + beta1coef*(deltaX_accum[q] + alpha*W2[q]*N)\n",
        "    vX[q] = beta2*vX[q] + beta2coef*(deltaX_accum[q] + alpha*W2[q])*(deltaX_accum[q]+alpha+W2[q])\n",
        "    m = beta1*m+beta1coef*delta\n",
        "    v = beta2*v+beta2coef*delta*delta\n",
        "  \n",
        "  \n",
        "  sqbeta = np.sqrt((1-beta2**(epoch+1)))\n",
        "  learning_rate2 = learning_rate/(1-beta1**(epoch+1))*sqbeta#学習率の更新\n",
        "  epsilon2 = sqbeta * epsiron\n",
        "\n",
        "  q = 0\n",
        "  for p in range(hidden_num-1):\n",
        "    W2[q] = W2[q] - learning_rate2*mX[q]/(np.sqrt(vX[q]))+epsilon2\n",
        "  B2 = B2 - learning_rate2*m/(np.sqrt(v)+epsilon2)\n",
        "  \n",
        "  \"\"\"\n",
        "  delta_accum = np.sum(delta) \n",
        "  learning_ratecoef = learning_rate/N\n",
        "  \"\"\"\n",
        "  for q in range(hidden_num):\n",
        "    W2[q] = (1-alpha*learning_rate)*W2[q]-learning_ratecoef*deltaX_accm[q]\n",
        "  B2 = B2 -learning_ratecoef*delta_accum\n",
        "  \"\"\"\n",
        "  \n",
        "  W2 = (1-alpha*learning_rate)*W2-learning_ratecoef*deltaX_accum\n",
        "  B2 = B2 -learning_ratecoef*delta_accum\n",
        "\n",
        "  \n",
        "\n",
        "  #print(W2)\n",
        "  ###隠れ層の逆伝搬\n",
        "  \n",
        "  differential_y = relu_diff(Z1)#活性化関数の微分\n",
        "  hid_delta = hidden_delta(delta,W2,differential_y)\n",
        "  #print(hid_delta)\n",
        "  hid_delta_accum =np.transpose(np.sum(hid_delta,axis=0))\n",
        "  #print(hid_delta_accum)\n",
        " \n",
        "  #print(W1)\n",
        "  #print(delta)\n",
        "  #print(W2)\n",
        "  #print(differential_y)\n",
        "  #print(hid_delta)\n",
        "  x_t = np.transpose(x)\n",
        "  hid_deltaX_accum = np.dot(x_t,hid_delta)\n",
        " \n",
        "  #print(B2)\n",
        "  for i in range(hidden_num):\n",
        "    for j in range(input_num):\n",
        "      W1[j][i] = (1-alpha*learning_rate)*W1[j][i]-learning_ratecoef*hid_deltaX_accum[j][i]\n",
        "    B1[i] = B1[i] -learning_ratecoef*hid_delta_accum[i]\n",
        "  \n",
        "  \"\"\"\n",
        "  ##重み\n",
        "  differential_y = relu_diff(Z1)#活性化関数の微分\n",
        "  hid_delta = hidden_delta(delta,W2,differential_y)\n",
        "  #print(delta)\n",
        "  #print(W2)\n",
        "  #print(differential_y)\n",
        "  #print(hid_delta)\n",
        "  x_t = np.transpose(x)\n",
        "  delta_hidden = np.dot(x_t,hid_delta)\n",
        "  for i in range(hidden_num-1):\n",
        "    for j in range(N-1):\n",
        "      delta_accum2[i] = np.sum(hid_delta[j][i])\n",
        "  print(delta_accum2)\n",
        "  #delta_accum = \n",
        "  for q in range(hidden_num-1):\n",
        "    W1[q] = (1-alpha*learning_rate)*W1[q]-learning_ratecoef*sum_delta[q]\n",
        "  B1 = B1 -learning_ratecoef*delta_accum\n",
        "\n",
        "  \"\"\"\n",
        "  epoch = epoch +1"
      ],
      "execution_count": 943,
      "outputs": []
    },
    {
      "cell_type": "code",
      "metadata": {
        "colab": {
          "base_uri": "https://localhost:8080/",
          "height": 281
        },
        "id": "YSoLKcdvZM4A",
        "outputId": "1b7a6bb6-684f-4ce5-f38d-9e6428dd3bf6"
      },
      "source": [
        "#グラフ表示\n",
        "p = np.arange(epoch_num)\n",
        "plt.scatter(p, loss, c='b', label='loss_data')\n",
        "plt.title('loss')\n",
        "plt.show()"
      ],
      "execution_count": 944,
      "outputs": [
        {
          "output_type": "display_data",
          "data": {
            "image/png": "[encoded data removed]",
            "text/plain": [
              "<Figure size 432x288 with 1 Axes>"
            ]
          },
          "metadata": {
            "needs_background": "light"
          }
        }
      ]
    },
    {
      "cell_type": "code",
      "metadata": {
        "colab": {
          "base_uri": "https://localhost:8080/"
        },
        "id": "OT3t78nlZOlN",
        "outputId": "c23ebe53-aaac-4a43-858f-8b7d089c1ab3"
      },
      "source": [
        "A1 = np.dot(x,W1) +B1\n",
        "Z1 = relu(A1)#一層目活性化関数かける\n",
        "\n",
        "\n",
        "A2 = np.dot(Z1,W2)+B2\n",
        "Z22 = sigmoid(A2)\n",
        "\n",
        "delta = Z2 - target#誤差\n",
        "print(Z22)\n",
        "print(W1)\n",
        "print(W2)\n",
        "loss[99]"
      ],
      "execution_count": 945,
      "outputs": [
        {
          "output_type": "stream",
          "name": "stdout",
          "text": [
            "[[0.18594334]\n",
            " [0.90297152]\n",
            " [0.78882063]\n",
            " [0.13652056]]\n",
            "[[ 0.92314153  0.58293521  0.71837632 -2.08145384  0.37878172 -0.15736947\n",
            "   0.74797086 -0.18701578  0.01215323 -0.40471675  0.64214674  0.88896525]\n",
            " [ 0.08289401  0.47632861  0.00584456  2.07726147  1.17321924  0.78496382\n",
            "   0.85880015  1.05254248  0.54590752  0.96583337 -0.05555563  0.11924949]]\n",
            "[[ 0.86005742]\n",
            " [ 0.44895754]\n",
            " [ 0.73723011]\n",
            " [ 2.96072564]\n",
            " [-0.53429678]\n",
            " [-0.4303572 ]\n",
            " [-0.98025946]\n",
            " [-0.57354836]\n",
            " [-0.2249594 ]\n",
            " [-0.97644336]\n",
            " [ 0.6955536 ]\n",
            " [ 0.44708182]]\n"
          ]
        },
        {
          "output_type": "execute_result",
          "data": {
            "text/plain": [
              "0.49749442463743054"
            ]
          },
          "metadata": {},
          "execution_count": 945
        }
      ]
    },
    {
      "cell_type": "code",
      "metadata": {
        "id": "edgKHx89eUZj"
      },
      "source": [
        ""
      ],
      "execution_count": 945,
      "outputs": []
    },
    {
      "cell_type": "markdown",
      "metadata": {
        "id": "OSWwJEpoZAVQ"
      },
      "source": [
        ""
      ]
    }
  ]
}