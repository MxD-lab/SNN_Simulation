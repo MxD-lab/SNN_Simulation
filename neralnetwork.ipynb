{
  "nbformat": 4,
  "nbformat_minor": 0,
  "metadata": {
    "colab": {
      "name": "neralnetwork.ipynb",
      "provenance": [],
      "collapsed_sections": [],
      "include_colab_link": true
    },
    "kernelspec": {
      "name": "python3",
      "display_name": "Python 3"
    },
    "language_info": {
      "name": "python"
    }
  },
  "cells": [
    {
      "cell_type": "markdown",
      "metadata": {
        "id": "view-in-github",
        "colab_type": "text"
      },
      "source": [
        "<a href=\"https://colab.research.google.com/github/MxD-lab/SNN_Simulation/blob/neralnetwork/neralnetwork.ipynb\" target=\"_parent\"><img src=\"https://colab.research.google.com/assets/colab-badge.svg\" alt=\"Open In Colab\"/></a>"
      ]
    },
    {
      "cell_type": "markdown",
      "metadata": {
        "id": "mDoqQNyWTZA4"
      },
      "source": [
        ""
      ]
    },
    {
      "cell_type": "code",
      "metadata": {
        "id": "cmHemqNMVycT"
      },
      "source": [
        "# -*- coding: utf-8 -*-\n",
        "import os\n",
        "import pandas as pd\n",
        "import matplotlib\n",
        "import matplotlib.pyplot as plt\n",
        "import numpy as np\n",
        "import math\n",
        "import numpy \n",
        "\n"
      ],
      "execution_count": 71,
      "outputs": []
    },
    {
      "cell_type": "code",
      "metadata": {
        "id": "rVfiDGT0TSiz"
      },
      "source": [
        "#シグモイド関数（出力層）\n",
        "def sigmoid(x):\n",
        "  return 1/(1+np.exp(-x))\n",
        "\n",
        "#ReLU関数（隠れ層）\n",
        "def relu(x):\n",
        "  return np.maximum(0,x)"
      ],
      "execution_count": 72,
      "outputs": []
    },
    {
      "cell_type": "code",
      "metadata": {
        "id": "EtffoYMfTPc1"
      },
      "source": [
        "#交差エントロピー誤差\n",
        "\n",
        "def cross_entropy_error(y,t):\n",
        "  delta:float\n",
        "  delta = 1e-7\n",
        "  return -np.sum(t*np.log(y+delta))"
      ],
      "execution_count": 73,
      "outputs": []
    },
    {
      "cell_type": "code",
      "metadata": {
        "id": "vM8pe9UDRs3V",
        "colab": {
          "base_uri": "https://localhost:8080/"
        },
        "outputId": "8b469eaa-7ef5-4422-f0ff-31368dcf7dfc"
      },
      "source": [
        "#順方向処理\n",
        "x = np.array([[0,0],[1,1],[0,1],[1,0]])#入力\n",
        "W1 = np.array([[0.5,0.5,0.5],[0.5,0.5,0.5]])#1層目の重み\n",
        "B1 = np.array([0.3,0.3,0.3])\n",
        "A1 = np.dot(x,W1)+B1\n",
        "Z1 = relu(A1)#一層目活性化関数かける\n",
        "\n",
        "W2 = np.array([[0.5],[0.5],[0.5]])\n",
        "B2 = np.array([0.3])\n",
        "A2 = np.dot(Z1,W2) + B2\n",
        "Z2 = sigmoid(A2)\n",
        "print(B1)"
      ],
      "execution_count": 88,
      "outputs": [
        {
          "output_type": "stream",
          "name": "stdout",
          "text": [
            "[0.3 0.3 0.3]\n"
          ]
        }
      ]
    },
    {
      "cell_type": "code",
      "metadata": {
        "id": "7IObJ4TdZvMz"
      },
      "source": [
        "#活性化関数の微分(relu)u:隠れ層の活性\n",
        "def relu_diff(u):\n",
        "  d = np.zeros_like(u) #xと同じ形状の配列を作成\n",
        "  for i in range(len(u)):\n",
        "    for j in range(len(u[0])):\n",
        "      if u[i][j]>0:\n",
        "        d[i] = 1\n",
        "      else: \n",
        "        d[i][j] = 0\n",
        "\n",
        "  return d"
      ],
      "execution_count": 75,
      "outputs": []
    },
    {
      "cell_type": "code",
      "metadata": {
        "id": "YYNn0omkegSu"
      },
      "source": [
        "#隠れ層の誤差\n",
        "\"\"\"\n",
        "delta:一個前の誤差（出力層の誤差）\n",
        "w:一個前の重み（出力層の重み）\n",
        "activ:活性化関数の微分\n",
        "\"\"\"\n",
        "def hidden_delta(delta,w,activ):\n",
        "  d = np.zeros((4,3)) #データ数×隠れ層のニューロン数の配列を作成\n",
        "  #d = np.zeros((int(delta),int(w[0])))\n",
        "  for i in range(len(delta)):\n",
        "    for j in range(len(w[0])):\n",
        "      d[i][j] = delta[i]*w[j]*activ[i][j]\n",
        "  return np.array(d)\n",
        "  "
      ],
      "execution_count": 76,
      "outputs": []
    },
    {
      "cell_type": "code",
      "metadata": {
        "id": "sZSLLE7KUrlt"
      },
      "source": [
        "\"\"\"\n",
        "逆方向処理\n",
        "target:教師データ\n",
        "learning_rate:学習率\n",
        "L：損失関数\n",
        "\"\"\"\n",
        "N = 4#データ数\n",
        "target =  np.array([[0],[0],[1],[1]]) #教師\n",
        "learning_rate = 0.5#学習率\n",
        "\n",
        "#print(W2)\n",
        "###出力層の逆伝搬\n",
        "##重み\n",
        "#L = cross_entropy_error(Z2,target)#出力層の損失関数\n",
        "delta = Z2 - target#誤差\n",
        "#print(Z2)\n",
        "#print(delta)\n",
        "Z1_t = np.transpose(Z1)\n",
        "sum_delta = np.dot(Z1_t,delta)\n",
        "#print(sum_delta)\n",
        "delta_out = 1/N*sum_delta\n",
        "#print(delta_out)\n",
        "W2 = W2 - learning_rate*delta_out\n",
        "#print(W2)\n",
        "\n",
        "\n",
        "##バイアス\n",
        "a = np.array([1,1,1,1])\n",
        "sum_delta_bias = np.dot(a,delta)\n",
        "delta_out_bias = 1/N*sum_delta_bias\n",
        "#print(delta_out_bias)\n",
        "#print(B2)\n",
        "B2 = B2 - learning_rate*delta_out_bias\n",
        "#print(B2)\n",
        "\n",
        "###隠れ層の逆伝搬\n",
        "##重み\n",
        "differential_y = relu_diff(A1)#活性化関数の微分\n",
        "#print(differential_y)\n",
        "hid_delta = hidden_delta(delta,W2,differential_y)\n",
        "#print(hid_delta)\n",
        "x_t = np.transpose(x)\n",
        "delta_hidden = 1/N*np.dot(x_t,hid_delta)\n",
        "W1 = W1 - learning_rate*delta_hidden\n",
        "\n",
        "##バイアス\n",
        "a2 = np.array([1,1,1,1])\n",
        "delta_hidden_bias = 1/N*np.dot(a2,hid_delta)\n",
        "#print(B1)\n",
        "B1 = B1 - learning_rate*delta_hidden_bias\n",
        "#print(B1)"
      ],
      "execution_count": 91,
      "outputs": []
    },
    {
      "cell_type": "code",
      "metadata": {
        "id": "3BZlWMYObD1C",
        "colab": {
          "base_uri": "https://localhost:8080/"
        },
        "outputId": "98a944c5-03ee-4db0-9e90-c1167852bd84"
      },
      "source": [
        "A1 = np.dot(x,W1) +B1\n",
        "Z1 = relu(A1)#一層目活性化関数かける\n",
        "\n",
        "\n",
        "A2 = np.dot(Z1,W2)+B2\n",
        "Z22 = sigmoid(A2)\n",
        "\n",
        "delta = Z2 - target#誤差\n",
        "#print(delta)\n",
        "print(Z22)\n",
        "print(Z2)"
      ],
      "execution_count": 92,
      "outputs": [
        {
          "output_type": "stream",
          "name": "stdout",
          "text": [
            "[[0.47904183]\n",
            " [0.54508795]\n",
            " [0.51211778]\n",
            " [0.51211778]]\n",
            "[[0.6791787 ]\n",
            " [0.90465054]\n",
            " [0.81757448]\n",
            " [0.81757448]]\n"
          ]
        }
      ]
    },
    {
      "cell_type": "code",
      "metadata": {
        "id": "iUgxJbD0o_zy"
      },
      "source": [
        ""
      ],
      "execution_count": null,
      "outputs": []
    },
    {
      "cell_type": "code",
      "metadata": {
        "id": "HxGiQAg-o_ob"
      },
      "source": [
        ""
      ],
      "execution_count": null,
      "outputs": []
    },
    {
      "cell_type": "code",
      "metadata": {
        "id": "4poqP4Loo_bw"
      },
      "source": [
        ""
      ],
      "execution_count": null,
      "outputs": []
    },
    {
      "cell_type": "code",
      "metadata": {
        "id": "Ui7jl1ERpD2h"
      },
      "source": [
        ""
      ],
      "execution_count": null,
      "outputs": []
    },
    {
      "cell_type": "code",
      "metadata": {
        "id": "BrPIQcknpGdf"
      },
      "source": [
        ""
      ],
      "execution_count": null,
      "outputs": []
    }
  ]
}