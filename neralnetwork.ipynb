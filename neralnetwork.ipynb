{
  "nbformat": 4,
  "nbformat_minor": 0,
  "metadata": {
    "colab": {
      "name": "neralnetwork.ipynb",
      "provenance": [],
      "include_colab_link": true
    },
    "kernelspec": {
      "name": "python3",
      "display_name": "Python 3"
    },
    "language_info": {
      "name": "python"
    }
  },
  "cells": [
    {
      "cell_type": "markdown",
      "metadata": {
        "id": "view-in-github",
        "colab_type": "text"
      },
      "source": [
        "<a href=\"https://colab.research.google.com/github/MxD-lab/SNN_Simulation/blob/neralnetwork/neralnetwork.ipynb\" target=\"_parent\"><img src=\"https://colab.research.google.com/assets/colab-badge.svg\" alt=\"Open In Colab\"/></a>"
      ]
    },
    {
      "cell_type": "markdown",
      "metadata": {
        "id": "mDoqQNyWTZA4"
      },
      "source": [
        ""
      ]
    },
    {
      "cell_type": "code",
      "metadata": {
        "id": "cmHemqNMVycT"
      },
      "source": [
        "# -*- coding: utf-8 -*-\n",
        "import os\n",
        "import pandas as pd\n",
        "import matplotlib\n",
        "import matplotlib.pyplot as plt\n",
        "import numpy as np\n",
        "import math\n",
        "import numpy \n",
        "\n"
      ],
      "execution_count": 10,
      "outputs": []
    },
    {
      "cell_type": "code",
      "metadata": {
        "id": "rVfiDGT0TSiz"
      },
      "source": [
        "#シグモイド関数（出力層）\n",
        "def sigmoid(x):\n",
        "  return 1/(1+np.exp(-x))\n",
        "\n",
        "#ReLU関数（隠れ層）\n",
        "def relu(x):\n",
        "  return np.maximum(0,x)"
      ],
      "execution_count": 11,
      "outputs": []
    },
    {
      "cell_type": "code",
      "metadata": {
        "id": "EtffoYMfTPc1"
      },
      "source": [
        "#交差エントロピー誤差\n",
        "\n",
        "def cross_entropy_error(y,t):\n",
        "  delta:float\n",
        "  delta = 1e-7\n",
        "  return -np.sum(t*np.log(y+delta))"
      ],
      "execution_count": 12,
      "outputs": []
    },
    {
      "cell_type": "code",
      "metadata": {
        "id": "vM8pe9UDRs3V",
        "colab": {
          "base_uri": "https://localhost:8080/"
        },
        "outputId": "d9d2c55e-ffdf-4853-e311-97b67792c4bc"
      },
      "source": [
        "#順方向処理\n",
        "x = np.array([[0,0],[1,1],[0,1],[1,0]])#入力\n",
        "W1 = np.array([[0.5,0.5,0.5],[0.5,0.5,0.5]])#1層目の重み\n",
        "A1 = np.dot(x,W1)\n",
        "Z1 = relu(A1)#一層目活性化関数かける\n",
        "\n",
        "W2 = np.array([[0.5],[0.5],[0.5]])\n",
        "A2 = np.dot(Z1,W2)\n",
        "Z2 = sigmoid(A2)\n",
        "\n",
        "Z2"
      ],
      "execution_count": 75,
      "outputs": [
        {
          "output_type": "execute_result",
          "data": {
            "text/plain": [
              "array([[0.5       ],\n",
              "       [0.81757448],\n",
              "       [0.6791787 ],\n",
              "       [0.6791787 ]])"
            ]
          },
          "metadata": {},
          "execution_count": 75
        }
      ]
    },
    {
      "cell_type": "code",
      "metadata": {
        "id": "7IObJ4TdZvMz"
      },
      "source": [
        "#活性化関数の微分(relu)\n",
        "def relu_diff(u):\n",
        "  d = np.zeros_like(u) #xと同じ形状の配列を作成\n",
        "  for i in range(len(u)):\n",
        "    for j in range(len(u[0])):\n",
        "      if u[i][j]>0:\n",
        "        d[i] = 1\n",
        "      else: \n",
        "        d[i][j] = 0\n",
        "\n",
        "  return d"
      ],
      "execution_count": 64,
      "outputs": []
    },
    {
      "cell_type": "code",
      "metadata": {
        "colab": {
          "base_uri": "https://localhost:8080/",
          "height": 198
        },
        "id": "sZSLLE7KUrlt",
        "outputId": "4ae55bb0-28f9-4428-a49a-de83b43cfc28"
      },
      "source": [
        "\"\"\"\n",
        "逆方向処理\n",
        "target:教師データ\n",
        "learning_rate:学習率\n",
        "L：損失関数\n",
        "\"\"\"\n",
        "N = 4#データ数\n",
        "target =  np.array([[0],[0],[1],[1]]) #教師\n",
        "learning_rate = 0.5#学習率\n",
        "\n",
        "#print(W2)\n",
        "###出力層の逆伝搬\n",
        "#L = cross_entropy_error(Z2,target)#出力層の損失関数\n",
        "delta = Z2 - target#誤差\n",
        "#print(delta)\n",
        "Z1_t = np.transpose(Z1)\n",
        "sum_delta = np.dot(Z1_t,delta)\n",
        "delta_out = 1/N*sum_delta\n",
        "W2 = W2 - learning_rate*delta_out\n",
        "#print(W2)\n",
        "\"\"\"\n",
        "###隠れ層の逆伝搬\n",
        "\n",
        "differential_y = relu_diff(A1)\n",
        "print(differential_y)\n",
        "#delta1 = delta*W2*differential_y\n",
        "\n",
        "delta_hidden = #損失関数の隠れ層の重みによる偏微分\n",
        "\n",
        "W1 = W1 - learning_rate*delta_hidden\n",
        "\"\"\"\n"
      ],
      "execution_count": 80,
      "outputs": [
        {
          "output_type": "stream",
          "name": "stdout",
          "text": [
            "[[ 0.5       ]\n",
            " [ 0.81757448]\n",
            " [-0.3208213 ]\n",
            " [-0.3208213 ]]\n",
            "[[0.37581171]\n",
            " [0.37581171]\n",
            " [0.37581171]]\n"
          ]
        },
        {
          "output_type": "execute_result",
          "data": {
            "application/vnd.google.colaboratory.intrinsic+json": {
              "type": "string"
            },
            "text/plain": [
              "'\\n###隠れ層の逆伝搬\\n\\ndifferential_y = relu_diff(A1)\\nprint(differential_y)\\n#delta1 = delta*W2*differential_y\\n\\ndelta_hidden = #損失関数の隠れ層の重みによる偏微分\\n\\nW1 = W1 - learning_rate*delta_hidden\\n'"
            ]
          },
          "metadata": {},
          "execution_count": 80
        }
      ]
    },
    {
      "cell_type": "code",
      "metadata": {
        "id": "3BZlWMYObD1C"
      },
      "source": [
        ""
      ],
      "execution_count": null,
      "outputs": []
    },
    {
      "cell_type": "code",
      "metadata": {
        "id": "iUgxJbD0o_zy"
      },
      "source": [
        ""
      ],
      "execution_count": null,
      "outputs": []
    },
    {
      "cell_type": "code",
      "metadata": {
        "id": "HxGiQAg-o_ob"
      },
      "source": [
        ""
      ],
      "execution_count": null,
      "outputs": []
    },
    {
      "cell_type": "code",
      "metadata": {
        "id": "4poqP4Loo_bw"
      },
      "source": [
        ""
      ],
      "execution_count": null,
      "outputs": []
    },
    {
      "cell_type": "code",
      "metadata": {
        "id": "Ui7jl1ERpD2h"
      },
      "source": [
        ""
      ],
      "execution_count": null,
      "outputs": []
    },
    {
      "cell_type": "code",
      "metadata": {
        "id": "BrPIQcknpGdf"
      },
      "source": [
        ""
      ],
      "execution_count": null,
      "outputs": []
    }
  ]
}