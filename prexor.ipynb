{
  "nbformat": 4,
  "nbformat_minor": 0,
  "metadata": {
    "colab": {
      "name": "prexor.ipynb",
      "provenance": [],
      "collapsed_sections": [],
      "authorship_tag": "ABX9TyNn7fnU3L0q2KK+oLHJUV/i",
      "include_colab_link": true
    },
    "kernelspec": {
      "name": "python3",
      "display_name": "Python 3"
    },
    "language_info": {
      "name": "python"
    }
  },
  "cells": [
    {
      "cell_type": "markdown",
      "metadata": {
        "id": "view-in-github",
        "colab_type": "text"
      },
      "source": [
        "<a href=\"https://colab.research.google.com/github/MxD-lab/SNN_Simulation/blob/xor/prexor.ipynb\" target=\"_parent\"><img src=\"https://colab.research.google.com/assets/colab-badge.svg\" alt=\"Open In Colab\"/></a>"
      ]
    },
    {
      "cell_type": "code",
      "metadata": {
        "id": "tz4MZ4K3wCep"
      },
      "source": [
        "# -*- coding: utf-8 -*-\n",
        "import os\n",
        "import pandas as pd\n",
        "import matplotlib\n",
        "import matplotlib.pyplot as plt\n",
        "import numpy as np\n",
        "import math\n",
        "import numpy "
      ],
      "execution_count": null,
      "outputs": []
    },
    {
      "cell_type": "markdown",
      "metadata": {
        "id": "LZD6zdBsOygd"
      },
      "source": [
        "min:4パルス/msec\n",
        "max:50パルス/mseで正規化"
      ]
    },
    {
      "cell_type": "code",
      "metadata": {
        "id": "cc5s5RUzwOZS"
      },
      "source": [
        "def nomalization(x):\n",
        "  y= (54-x)/46\n",
        "\n",
        "  return y\n"
      ],
      "execution_count": null,
      "outputs": []
    },
    {
      "cell_type": "code",
      "metadata": {
        "id": "NmW1QtJmwQnv"
      },
      "source": [
        "def relu(x,n,a):\n",
        "  \"\"\"\n",
        "  ReLU関数\n",
        "  x:入力,\n",
        "  n:x切片,\n",
        "  a:傾き\n",
        "\n",
        "  \"\"\"\n",
        "  y = a*(x-n)\n",
        "  out = np.maximum(y,0)\n",
        "  \n",
        "  return out\n"
      ],
      "execution_count": null,
      "outputs": []
    },
    {
      "cell_type": "code",
      "metadata": {
        "id": "RV21ngDLwTmx"
      },
      "source": [
        "def AND(x1,x2):\n",
        "\n",
        "  # ゼロ初期化\n",
        "  out=np.zeros(1000, dtype=float)\n",
        "  \n",
        "\n",
        "\n",
        "\n",
        "  # 重み/バイアス パラメータ\n",
        "  w_1= 0.5\n",
        "  w_2= 0.5\n",
        "  b = -0.7\n",
        "\n",
        "  # 要素数チェック\n",
        "  if len(x1) != len(x2):\n",
        "    raise Exception(\"x1 and x2 len does not match!\")\n",
        "\n",
        "  # 各フレームのノード出力値計算\n",
        "  for i in range(len(x1)):\n",
        "\n",
        "    \n",
        "\n",
        "    out[i] = x1[i]*w_1 + x2[i]*w_2 + b\n",
        "\n",
        "    nomalization(out[i])\n",
        "\n",
        "    if out[i] <= 0:\n",
        "      out[i]=0\n",
        "\n",
        "    else:\n",
        "      out[i] = 1\n",
        " \n",
        "    \n",
        "  return out\n"
      ],
      "execution_count": null,
      "outputs": []
    },
    {
      "cell_type": "code",
      "metadata": {
        "id": "NcR00m4DwWP4"
      },
      "source": [
        "def OR(x1,x2):\n",
        "  # ゼロ初期化\n",
        "  out=np.zeros(1000, dtype=float)\n",
        "\n",
        "  # 重み/バイアス パラメータ\n",
        "  w_1= 0.5\n",
        "  w_2= 0.5\n",
        "  b = -0.2\n",
        "\n",
        "  # 要素数チェック\n",
        "  if len(x1) != len(x2):\n",
        "    raise Exception(\"x1 and x2 len does not match!\")\n",
        "\n",
        "  # 各フレームのノード出力値計算\n",
        "  for i in range(len(x1)):\n",
        "    out[i] = x1[i]*w_1 + x2[i]*w_2 + b\n",
        "\n",
        "    nomalization(out[i])\n",
        "\n",
        "    if out[i] <= 0:\n",
        "      out[i]=0\n",
        "\n",
        "    else:\n",
        "       out[i] = 1\n",
        "\n",
        "  return out\n",
        "\n",
        "\n"
      ],
      "execution_count": null,
      "outputs": []
    },
    {
      "cell_type": "code",
      "metadata": {
        "id": "FJGW1EosxUKB"
      },
      "source": [
        "def NAND(x1,x2):\n",
        "  # ゼロ初期化\n",
        "  out=np.zeros(1000, dtype=float)\n",
        "\n",
        "  # 重み/バイアス パラメータ\n",
        "  w_1= -0.5\n",
        "  w_2= -0.5\n",
        "  b = 0.7\n",
        "\n",
        "  # 要素数チェック\n",
        "  if len(x1) != len(x2):\n",
        "    raise Exception(\"x1 and x2 len does not match!\")\n",
        "\n",
        "  # 各フレームのノード出力値計算\n",
        "  for i in range(len(x1)):\n",
        "    out[i] = x1[i]*w_1 + x2[i]*w_2 + b\n",
        "\n",
        "    nomalization(out[i])\n",
        "\n",
        "    if out[i] <= 0:\n",
        "      out[i]=0\n",
        "\n",
        "    else:\n",
        "       out[i] = 1\n",
        "\n",
        "\n",
        "  return out\n"
      ],
      "execution_count": null,
      "outputs": []
    },
    {
      "cell_type": "code",
      "metadata": {
        "id": "-BW-wuHeSVbP"
      },
      "source": [
        "def XOR(x1,x2):\n",
        "  \n",
        "  s1 = NAND(x1,x2)\n",
        "  s2 = OR(x1,x2)\n",
        "  out = AND(s1,s2)\n",
        "\n",
        "\n",
        " # 各フレームのノード出力値計算\n",
        "  for i in range(len(x1)):\n",
        "\n",
        "    nomalization(out[i])\n",
        "\n",
        "\n",
        "    if out[i] <= 0:\n",
        "      out[i]=0\n",
        "\n",
        "    else:\n",
        "       out[i] = 1\n",
        "\n",
        "\n",
        "  return out"
      ],
      "execution_count": null,
      "outputs": []
    },
    {
      "cell_type": "code",
      "metadata": {
        "id": "-90Q3vktSaeU"
      },
      "source": [
        "# シミュレーションの入力端子のジェネレーターのパルスの密度関数　単位はpulse/msec　（Hz）\n",
        "simulation_time = 1000 #1000秒 1サイクル1nanosec\n",
        "a_dens_array = [50if (i > 250 and i < 500) or (i > 750 and i < 1000) else 0 for i in range(1000)]\n",
        "b_dens_array = [25if (i > 500 and i < 1000) else 0 for i in range(1000)]\n",
        "\n",
        "# density情報からパルス数を生成 256μ\n",
        "dt=0.256\n",
        "a_pulse_cnt = numpy.multiply(a_dens_array , dt)\n",
        "b_pulse_cnt =  numpy.multiply(b_dens_array , dt)"
      ],
      "execution_count": null,
      "outputs": []
    },
    {
      "cell_type": "markdown",
      "metadata": {
        "id": "cFbrHj_sdOAi"
      },
      "source": [
        "出力は\n",
        "縦軸：パルス/秒\n",
        "横軸：秒"
      ]
    },
    {
      "cell_type": "code",
      "metadata": {
        "colab": {
          "base_uri": "https://localhost:8080/",
          "height": 1000
        },
        "id": "1D4yBx71Saa4",
        "outputId": "e3fbc377-d191-49b2-dcef-7cc94ff00319"
      },
      "source": [
        "and_result = AND(a_pulse_cnt, b_pulse_cnt)\n",
        "nand_result = NAND(a_pulse_cnt, b_pulse_cnt)\n",
        "or_result = OR(a_pulse_cnt, b_pulse_cnt)\n",
        "xor_result = XOR(a_pulse_cnt, b_pulse_cnt)\n",
        "\n",
        "# 結果描画\n",
        "\n",
        "plt.figure(figsize=(12, 8))\n",
        "plt.subplot(2, 1, 1)\n",
        "plt.ylabel('purse dens')\n",
        "plt.plot(a_dens_array)\n",
        "plt.show()\n",
        "\n",
        "plt.figure(figsize=(12, 8))\n",
        "plt.subplot(2, 1, 1)\n",
        "plt.ylabel('purse dens')\n",
        "plt.plot(b_dens_array)\n",
        "plt.show()\n",
        "\n",
        "\n",
        "plt.figure(figsize=(12, 8))\n",
        "plt.subplot(2, 1, 1)\n",
        "plt.ylabel('input purse')\n",
        "plt.plot(a_pulse_cnt)\n",
        "plt.show()\n",
        "\n",
        "plt.figure(figsize=(12, 8))\n",
        "plt.subplot(2, 1, 1)\n",
        "plt.ylabel('input purse')\n",
        "plt.plot(b_pulse_cnt)\n",
        "plt.show()\n",
        "\n",
        "plt.figure(figsize=(12, 8))\n",
        "plt.subplot(2, 1, 1)\n",
        "plt.ylabel('AND')\n",
        "plt.plot(and_result)\n",
        "plt.show()\n",
        "\n",
        "plt.figure(figsize=(12, 8))\n",
        "plt.subplot(2, 1, 1)\n",
        "plt.ylabel('OR')\n",
        "plt.plot(or_result)\n",
        "plt.show()\n",
        "\n",
        "plt.figure(figsize=(12, 8))\n",
        "plt.subplot(2, 1, 1)\n",
        "plt.ylabel('NAND')\n",
        "plt.plot(nand_result)\n",
        "plt.show()\n",
        "\n",
        "plt.figure(figsize=(12, 8))\n",
        "plt.subplot(2, 1, 1)\n",
        "plt.ylabel('XOR')\n",
        "plt.plot(xor_result)\n",
        "plt.show()"
      ],
      "execution_count": null,
      "outputs": [
        {
          "output_type": "display_data",
          "data": {
            "image/png": "[encoded data removed]",
            "text/plain": [
              "<Figure size 864x576 with 1 Axes>"
            ]
          },
          "metadata": {
            "tags": [],
            "needs_background": "light"
          }
        },
        {
          "output_type": "display_data",
          "data": {
            "image/png": "[encoded data removed]",
            "text/plain": [
              "<Figure size 864x576 with 1 Axes>"
            ]
          },
          "metadata": {
            "tags": [],
            "needs_background": "light"
          }
        },
        {
          "output_type": "display_data",
          "data": {
            "image/png": "[encoded data removed]",
            "text/plain": [
              "<Figure size 864x576 with 1 Axes>"
            ]
          },
          "metadata": {
            "tags": [],
            "needs_background": "light"
          }
        },
        {
          "output_type": "display_data",
          "data": {
            "image/png": "[encoded data removed]",
            "text/plain": [
              "<Figure size 864x576 with 1 Axes>"
            ]
          },
          "metadata": {
            "tags": [],
            "needs_background": "light"
          }
        },
        {
          "output_type": "display_data",
          "data": {
            "image/png": "[encoded data removed]",
            "text/plain": [
              "<Figure size 864x576 with 1 Axes>"
            ]
          },
          "metadata": {
            "tags": [],
            "needs_background": "light"
          }
        },
        {
          "output_type": "display_data",
          "data": {
            "image/png": "[encoded data removed]",
            "text/plain": [
              "<Figure size 864x576 with 1 Axes>"
            ]
          },
          "metadata": {
            "tags": [],
            "needs_background": "light"
          }
        },
        {
          "output_type": "display_data",
          "data": {
            "image/png": "[encoded data removed]",
            "text/plain": [
              "<Figure size 864x576 with 1 Axes>"
            ]
          },
          "metadata": {
            "tags": [],
            "needs_background": "light"
          }
        },
        {
          "output_type": "display_data",
          "data": {
            "image/png": "[encoded data removed]",
            "text/plain": [
              "<Figure size 864x576 with 1 Axes>"
            ]
          },
          "metadata": {
            "tags": [],
            "needs_background": "light"
          }
        }
      ]
    },
    {
      "cell_type": "code",
      "metadata": {
        "id": "r4dcE1B2SaYo"
      },
      "source": [
        ""
      ],
      "execution_count": null,
      "outputs": []
    },
    {
      "cell_type": "code",
      "metadata": {
        "id": "cXcslPJjSaWX"
      },
      "source": [
        ""
      ],
      "execution_count": null,
      "outputs": []
    },
    {
      "cell_type": "code",
      "metadata": {
        "id": "watFEDdeSaUF"
      },
      "source": [
        ""
      ],
      "execution_count": null,
      "outputs": []
    },
    {
      "cell_type": "code",
      "metadata": {
        "id": "px8FkZ5DSaSN"
      },
      "source": [
        ""
      ],
      "execution_count": null,
      "outputs": []
    },
    {
      "cell_type": "code",
      "metadata": {
        "id": "dzUUhWICSaPS"
      },
      "source": [
        ""
      ],
      "execution_count": null,
      "outputs": []
    },
    {
      "cell_type": "code",
      "metadata": {
        "id": "UNiARxljSaMv"
      },
      "source": [
        ""
      ],
      "execution_count": null,
      "outputs": []
    },
    {
      "cell_type": "code",
      "metadata": {
        "id": "geufYRF6SaGH"
      },
      "source": [
        ""
      ],
      "execution_count": null,
      "outputs": []
    },
    {
      "cell_type": "code",
      "metadata": {
        "id": "opGMmktKSZ5c"
      },
      "source": [
        ""
      ],
      "execution_count": null,
      "outputs": []
    }
  ]
}