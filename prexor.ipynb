{
  "nbformat": 4,
  "nbformat_minor": 0,
  "metadata": {
    "colab": {
      "name": "perceptronxor.ipynb",
      "provenance": [],
      "authorship_tag": "ABX9TyMoAi7ACbIN6hCXQCJEXpAO",
      "include_colab_link": true
    },
    "kernelspec": {
      "name": "python3",
      "display_name": "Python 3"
    },
    "language_info": {
      "name": "python"
    }
  },
  "cells": [
    {
      "cell_type": "markdown",
      "metadata": {
        "id": "view-in-github",
        "colab_type": "text"
      },
      "source": [
        "<a href=\"https://colab.research.google.com/github/MxD-lab/SNN_Simulation/blob/xor/prexor.ipynb\" target=\"_parent\"><img src=\"https://colab.research.google.com/assets/colab-badge.svg\" alt=\"Open In Colab\"/></a>"
      ]
    },
    {
      "cell_type": "code",
      "metadata": {
        "id": "tz4MZ4K3wCep"
      },
      "source": [
        "# -*- coding: utf-8 -*-\n",
        "import os\n",
        "import pandas as pd\n",
        "import matplotlib\n",
        "import matplotlib.pyplot as plt\n",
        "import numpy as np\n",
        "import math\n",
        "import numpy "
      ],
      "execution_count": 24,
      "outputs": []
    },
    {
      "cell_type": "code",
      "metadata": {
        "id": "cc5s5RUzwOZS"
      },
      "source": [
        "#時間（m秒）\n",
        "msec = 10000\n",
        "#サンプリングした時の時間軸\n",
        "t = np.arange(0.0, msec)\n"
      ],
      "execution_count": 13,
      "outputs": []
    },
    {
      "cell_type": "code",
      "metadata": {
        "id": "NmW1QtJmwQnv"
      },
      "source": [
        "def relu(x,n,a):\n",
        "  \"\"\"\n",
        "  ReLU関数\n",
        "  x:入力,\n",
        "  n:x切片,\n",
        "  a:傾き\n",
        "\n",
        "  \"\"\"\n",
        "  y = a*(x-n)\n",
        "  out = np.maximum(y,0)\n",
        "  \n",
        "  return out\n"
      ],
      "execution_count": 14,
      "outputs": []
    },
    {
      "cell_type": "code",
      "metadata": {
        "id": "RV21ngDLwTmx"
      },
      "source": [
        "def AND(x1,x2):\n",
        "  # ゼロ初期化\n",
        "  out=np.zeros(10000, dtype=float)\n",
        "\n",
        "  # 重み/バイアス パラメータ\n",
        "  w_1= 0.5\n",
        "  w_2= 0.5\n",
        "  b = -0.7\n",
        "\n",
        "  # 要素数チェック\n",
        "  if len(x1) != len(x2):\n",
        "    raise Exception(\"x1 and x2 len does not match!\")\n",
        "\n",
        "  # 各フレームのノード出力値計算\n",
        "  for i in range(len(x1)):\n",
        "    out[i] = x1[i]*w_1 + x2[i]*w_2 + b\n",
        "\n",
        "    \n",
        "  return out\n"
      ],
      "execution_count": 15,
      "outputs": []
    },
    {
      "cell_type": "code",
      "metadata": {
        "id": "NcR00m4DwWP4"
      },
      "source": [
        "def OR(x1,x2):\n",
        "  # ゼロ初期化\n",
        "  out=np.zeros(10000, dtype=float)\n",
        "\n",
        "  # 重み/バイアス パラメータ\n",
        "  w_1= 0.5\n",
        "  w_2= 0.5\n",
        "  b = -0.2\n",
        "\n",
        "  # 要素数チェック\n",
        "  if len(x1) != len(x2):\n",
        "    raise Exception(\"x1 and x2 len does not match!\")\n",
        "\n",
        "  # 各フレームのノード出力値計算\n",
        "  for i in range(len(x1)):\n",
        "    out[i] = x1[i]*w_1 + x2[i]*w_2 + b\n",
        "\n",
        "  \n",
        "\n",
        "  return out\n",
        "\n",
        "\n"
      ],
      "execution_count": 16,
      "outputs": []
    },
    {
      "cell_type": "code",
      "metadata": {
        "id": "FJGW1EosxUKB"
      },
      "source": [
        "def NAND(x1,x2):\n",
        "  # ゼロ初期化\n",
        "  out=np.zeros(10000, dtype=float)\n",
        "\n",
        "  # 重み/バイアス パラメータ\n",
        "  w_1= -0.5\n",
        "  w_2= -0.5\n",
        "  b = 0.7\n",
        "\n",
        "  # 要素数チェック\n",
        "  if len(x1) != len(x2):\n",
        "    raise Exception(\"x1 and x2 len does not match!\")\n",
        "\n",
        "  # 各フレームのノード出力値計算\n",
        "  for i in range(len(x1)):\n",
        "    out[i] = x1[i]*w_1 + x2[i]*w_2 + b\n",
        "\n",
        "  \n",
        "\n",
        "  return out\n"
      ],
      "execution_count": 17,
      "outputs": []
    },
    {
      "cell_type": "code",
      "metadata": {
        "id": "-BW-wuHeSVbP"
      },
      "source": [
        "def XOR(x1,x2):\n",
        "  s1 = NAND(x1,x2)\n",
        "  s2 = OR(x1,x2)\n",
        "  y = AND(s1,s2)\n",
        "  return y"
      ],
      "execution_count": 18,
      "outputs": []
    },
    {
      "cell_type": "code",
      "metadata": {
        "colab": {
          "base_uri": "https://localhost:8080/"
        },
        "id": "-90Q3vktSaeU",
        "outputId": "93b24faa-314b-4a55-a4b2-9334e79b3ed7"
      },
      "source": [
        "# シミュレーション用の波形準備\n",
        "simulation_time = 10000\n",
        "a_dens_array = [1 if (i > 2500 and i < 5000) or (i > 7500 and i < 10000) else 0 for i in range(10000)]\n",
        "b_dens_array = [1 if (i > 5000 and i < 10000) else 0 for i in range(10000)]\n",
        "\n",
        "# density情報からパルス数を生成\n",
        "dt=0.001\n",
        "a_pulse_cnt = numpy.multiply(a_dens_array , dt)\n",
        "b_pulse_cnt =  numpy.multiply(b_dens_array , dt)\n",
        "print(a_pulse_cnt[2800])"
      ],
      "execution_count": 29,
      "outputs": [
        {
          "output_type": "stream",
          "text": [
            "0.001\n"
          ],
          "name": "stdout"
        }
      ]
    },
    {
      "cell_type": "code",
      "metadata": {
        "colab": {
          "base_uri": "https://localhost:8080/",
          "height": 1000
        },
        "id": "1D4yBx71Saa4",
        "outputId": "0c610b02-9baf-483c-dced-207ffa790162"
      },
      "source": [
        "and_result = AND(a_pulse_cnt, b_pulse_cnt)\n",
        "nand_result = NAND(a_pulse_cnt, b_pulse_cnt)\n",
        "or_result = OR(a_pulse_cnt, b_pulse_cnt)\n",
        "xor_result = XOR(a_pulse_cnt, b_pulse_cnt)\n",
        "\n",
        "# 結果描画\n",
        "plt.figure(figsize=(12, 8))\n",
        "plt.subplot(2, 1, 1)\n",
        "plt.ylabel('output purse')\n",
        "plt.plot(a_pulse_cnt)\n",
        "plt.show()\n",
        "\n",
        "plt.figure(figsize=(12, 8))\n",
        "plt.subplot(2, 1, 1)\n",
        "plt.ylabel('output purse')\n",
        "plt.plot(b_pulse_cnt)\n",
        "plt.show()\n",
        "\n",
        "plt.figure(figsize=(12, 8))\n",
        "plt.subplot(2, 1, 1)\n",
        "plt.ylabel('AND')\n",
        "plt.plot(and_result)\n",
        "plt.show()\n",
        "\n",
        "plt.figure(figsize=(12, 8))\n",
        "plt.subplot(2, 1, 1)\n",
        "plt.ylabel('OR')\n",
        "plt.plot(or_result)\n",
        "plt.show()\n",
        "\n",
        "plt.figure(figsize=(12, 8))\n",
        "plt.subplot(2, 1, 1)\n",
        "plt.ylabel('NAND')\n",
        "plt.plot(nand_result)\n",
        "plt.show()\n",
        "\n",
        "plt.figure(figsize=(12, 8))\n",
        "plt.subplot(2, 1, 1)\n",
        "plt.ylabel('XOR')\n",
        "plt.plot(xor_result)\n",
        "plt.show()"
      ],
      "execution_count": 31,
      "outputs": [
        {
          "output_type": "display_data",
          "data": {
            "image/png": "[encoded data removed]",
            "text/plain": [
              "<Figure size 864x576 with 1 Axes>"
            ]
          },
          "metadata": {
            "tags": [],
            "needs_background": "light"
          }
        },
        {
          "output_type": "display_data",
          "data": {
            "image/png": "[encoded data removed]",
            "text/plain": [
              "<Figure size 864x576 with 1 Axes>"
            ]
          },
          "metadata": {
            "tags": [],
            "needs_background": "light"
          }
        },
        {
          "output_type": "display_data",
          "data": {
            "image/png": "[encoded data removed]",
            "text/plain": [
              "<Figure size 864x576 with 1 Axes>"
            ]
          },
          "metadata": {
            "tags": [],
            "needs_background": "light"
          }
        },
        {
          "output_type": "display_data",
          "data": {
            "image/png": "[encoded data removed]",
            "text/plain": [
              "<Figure size 864x576 with 1 Axes>"
            ]
          },
          "metadata": {
            "tags": [],
            "needs_background": "light"
          }
        },
        {
          "output_type": "display_data",
          "data": {
            "image/png": "[encoded data removed]",
            "text/plain": [
              "<Figure size 864x576 with 1 Axes>"
            ]
          },
          "metadata": {
            "tags": [],
            "needs_background": "light"
          }
        },
        {
          "output_type": "display_data",
          "data": {
            "image/png": "[encoded data removed]",
            "text/plain": [
              "<Figure size 864x576 with 1 Axes>"
            ]
          },
          "metadata": {
            "tags": [],
            "needs_background": "light"
          }
        }
      ]
    },
    {
      "cell_type": "code",
      "metadata": {
        "id": "r4dcE1B2SaYo"
      },
      "source": [
        ""
      ],
      "execution_count": null,
      "outputs": []
    },
    {
      "cell_type": "code",
      "metadata": {
        "id": "cXcslPJjSaWX"
      },
      "source": [
        ""
      ],
      "execution_count": null,
      "outputs": []
    },
    {
      "cell_type": "code",
      "metadata": {
        "id": "watFEDdeSaUF"
      },
      "source": [
        ""
      ],
      "execution_count": null,
      "outputs": []
    },
    {
      "cell_type": "code",
      "metadata": {
        "id": "px8FkZ5DSaSN"
      },
      "source": [
        ""
      ],
      "execution_count": null,
      "outputs": []
    },
    {
      "cell_type": "code",
      "metadata": {
        "id": "dzUUhWICSaPS"
      },
      "source": [
        ""
      ],
      "execution_count": null,
      "outputs": []
    },
    {
      "cell_type": "code",
      "metadata": {
        "id": "UNiARxljSaMv"
      },
      "source": [
        ""
      ],
      "execution_count": null,
      "outputs": []
    },
    {
      "cell_type": "code",
      "metadata": {
        "id": "geufYRF6SaGH"
      },
      "source": [
        ""
      ],
      "execution_count": null,
      "outputs": []
    },
    {
      "cell_type": "code",
      "metadata": {
        "id": "opGMmktKSZ5c"
      },
      "source": [
        ""
      ],
      "execution_count": null,
      "outputs": []
    }
  ]
}